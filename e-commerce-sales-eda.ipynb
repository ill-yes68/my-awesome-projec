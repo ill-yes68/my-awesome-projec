{
 "cells": [
  {
   "cell_type": "markdown",
   "metadata": {},
   "source": [
    "# **E-Commerce Sales EDA**"
   ]
  },
  {
   "cell_type": "markdown",
   "metadata": {},
   "source": [
    "<img height=1000 width=1000 src=\"https://miro.medium.com/v2/resize:fit:1200/1*PfTAHr5JUiVc4fhrqtcHLA.jpeg\" />"
   ]
  },
  {
   "cell_type": "code",
   "execution_count": 9,
   "metadata": {
    "_cell_guid": "b1076dfc-b9ad-4769-8c92-a6c4dae69d19",
    "_uuid": "8f2839f25d086af736a60e9eeb907d3b93b6e0e5"
   },
   "outputs": [
    {
     "name": "stdout",
     "output_type": "stream",
     "text": [
      "./archive\\Amazon Sale Report.csv\n",
      "./archive\\Cloud Warehouse Compersion Chart.csv\n",
      "./archive\\Expense IIGF.csv\n",
      "./archive\\International sale Report.csv\n",
      "./archive\\May-2022.csv\n",
      "./archive\\P  L March 2021.csv\n",
      "./archive\\Sale Report.csv\n"
     ]
    }
   ],
   "source": [
    "# This Python 3 environment comes with many helpful analytics libraries installed\n",
    "# It is defined by the kaggle/python Docker image: https://github.com/kaggle/docker-python\n",
    "# For example, here's several helpful packages to load\n",
    "\n",
    "import numpy as np # linear algebra\n",
    "import pandas as pd # data processing, CSV file I/O (e.g. pd.read_csv)\n",
    "\n",
    "# Input data files are available in the read-only \"../input/\" directory\n",
    "# For example, running this (by clicking run or pressing Shift+Enter) will list all files under the input directory\n",
    "\n",
    "import os\n",
    "\n",
    "# Lister uniquement les fichiers (ignorer les sous-dossiers)\n",
    "fichiers = [f for f in os.listdir('archive') if os.path.isfile(os.path.join(repertoire, f))]\n",
    "\n",
    "# Afficher les fichiers\n",
    "for fichier in fichiers:\n",
    "    print(os.path.join(repertoire, fichier))\n",
    "\n",
    "# You can write up to 20GB to the current directory (/kaggle/working/) that gets preserved as output when you create a version using \"Save & Run All\" \n",
    "# You can also write temporary files to /kaggle/temp/, but they won't be saved outside of the current session"
   ]
  },
  {
   "cell_type": "code",
   "execution_count": 31,
   "metadata": {},
   "outputs": [],
   "source": [
    "import matplotlib.pyplot as plt\n",
    "import seaborn as sns \n",
    "import plotly.express as px\n",
    "import plotly.graph_objects as go\n",
    "import missingno as msno \n",
    "import warnings \n",
    "warnings.filterwarnings(\"ignore\")\n",
    "import holidays\n"
   ]
  },
  {
   "cell_type": "code",
   "execution_count": 32,
   "metadata": {},
   "outputs": [],
   "source": [
    "Amazon_df = pd.read_csv(\"./archive\\Amazon Sale Report.csv\" , low_memory=False )\n",
    "Cloud_Warehouse_df = pd.read_csv(\"./archive\\Cloud Warehouse Compersion Chart.csv\") \n",
    "Expense_df = pd.read_csv(\"./archive\\Expense IIGF.csv\")\n",
    "international_sale_report_df = pd.read_csv(\"./archive\\International sale Report.csv\")\n",
    "May2022_df = pd.read_csv(\"./archive\\May-2022.csv\")\n",
    "PLMarch2021_df = pd.read_csv(\"./archive\\P  L March 2021.csv\")\n",
    "Sale_report_df = pd.read_csv(\"./archive\\Sale Report.csv\")"
   ]
  },
  {
   "cell_type": "markdown",
   "metadata": {},
   "source": [
    "# **1. Amazon Sale Report:**\n",
    "* ## Analyze sales trends for products sold on Amazon.\n",
    "* ##  Compare sales performance before and after major holidays or sales events."
   ]
  },
  {
   "cell_type": "code",
   "execution_count": 33,
   "metadata": {},
   "outputs": [
    {
     "data": {
      "text/html": [
       "<div>\n",
       "<style scoped>\n",
       "    .dataframe tbody tr th:only-of-type {\n",
       "        vertical-align: middle;\n",
       "    }\n",
       "\n",
       "    .dataframe tbody tr th {\n",
       "        vertical-align: top;\n",
       "    }\n",
       "\n",
       "    .dataframe thead th {\n",
       "        text-align: right;\n",
       "    }\n",
       "</style>\n",
       "<table border=\"1\" class=\"dataframe\">\n",
       "  <thead>\n",
       "    <tr style=\"text-align: right;\">\n",
       "      <th></th>\n",
       "      <th>index</th>\n",
       "      <th>Order ID</th>\n",
       "      <th>Date</th>\n",
       "      <th>Status</th>\n",
       "      <th>Fulfilment</th>\n",
       "      <th>Sales Channel</th>\n",
       "      <th>ship-service-level</th>\n",
       "      <th>Style</th>\n",
       "      <th>SKU</th>\n",
       "      <th>Category</th>\n",
       "      <th>...</th>\n",
       "      <th>currency</th>\n",
       "      <th>Amount</th>\n",
       "      <th>ship-city</th>\n",
       "      <th>ship-state</th>\n",
       "      <th>ship-postal-code</th>\n",
       "      <th>ship-country</th>\n",
       "      <th>promotion-ids</th>\n",
       "      <th>B2B</th>\n",
       "      <th>fulfilled-by</th>\n",
       "      <th>Unnamed: 22</th>\n",
       "    </tr>\n",
       "  </thead>\n",
       "  <tbody>\n",
       "    <tr>\n",
       "      <th>0</th>\n",
       "      <td>0</td>\n",
       "      <td>405-8078784-5731545</td>\n",
       "      <td>04-30-22</td>\n",
       "      <td>Cancelled</td>\n",
       "      <td>Merchant</td>\n",
       "      <td>Amazon.in</td>\n",
       "      <td>Standard</td>\n",
       "      <td>SET389</td>\n",
       "      <td>SET389-KR-NP-S</td>\n",
       "      <td>Set</td>\n",
       "      <td>...</td>\n",
       "      <td>INR</td>\n",
       "      <td>647.62</td>\n",
       "      <td>MUMBAI</td>\n",
       "      <td>MAHARASHTRA</td>\n",
       "      <td>400081.0</td>\n",
       "      <td>IN</td>\n",
       "      <td>NaN</td>\n",
       "      <td>False</td>\n",
       "      <td>Easy Ship</td>\n",
       "      <td>NaN</td>\n",
       "    </tr>\n",
       "    <tr>\n",
       "      <th>1</th>\n",
       "      <td>1</td>\n",
       "      <td>171-9198151-1101146</td>\n",
       "      <td>04-30-22</td>\n",
       "      <td>Shipped - Delivered to Buyer</td>\n",
       "      <td>Merchant</td>\n",
       "      <td>Amazon.in</td>\n",
       "      <td>Standard</td>\n",
       "      <td>JNE3781</td>\n",
       "      <td>JNE3781-KR-XXXL</td>\n",
       "      <td>kurta</td>\n",
       "      <td>...</td>\n",
       "      <td>INR</td>\n",
       "      <td>406.00</td>\n",
       "      <td>BENGALURU</td>\n",
       "      <td>KARNATAKA</td>\n",
       "      <td>560085.0</td>\n",
       "      <td>IN</td>\n",
       "      <td>Amazon PLCC Free-Financing Universal Merchant ...</td>\n",
       "      <td>False</td>\n",
       "      <td>Easy Ship</td>\n",
       "      <td>NaN</td>\n",
       "    </tr>\n",
       "    <tr>\n",
       "      <th>2</th>\n",
       "      <td>2</td>\n",
       "      <td>404-0687676-7273146</td>\n",
       "      <td>04-30-22</td>\n",
       "      <td>Shipped</td>\n",
       "      <td>Amazon</td>\n",
       "      <td>Amazon.in</td>\n",
       "      <td>Expedited</td>\n",
       "      <td>JNE3371</td>\n",
       "      <td>JNE3371-KR-XL</td>\n",
       "      <td>kurta</td>\n",
       "      <td>...</td>\n",
       "      <td>INR</td>\n",
       "      <td>329.00</td>\n",
       "      <td>NAVI MUMBAI</td>\n",
       "      <td>MAHARASHTRA</td>\n",
       "      <td>410210.0</td>\n",
       "      <td>IN</td>\n",
       "      <td>IN Core Free Shipping 2015/04/08 23-48-5-108</td>\n",
       "      <td>True</td>\n",
       "      <td>NaN</td>\n",
       "      <td>NaN</td>\n",
       "    </tr>\n",
       "    <tr>\n",
       "      <th>3</th>\n",
       "      <td>3</td>\n",
       "      <td>403-9615377-8133951</td>\n",
       "      <td>04-30-22</td>\n",
       "      <td>Cancelled</td>\n",
       "      <td>Merchant</td>\n",
       "      <td>Amazon.in</td>\n",
       "      <td>Standard</td>\n",
       "      <td>J0341</td>\n",
       "      <td>J0341-DR-L</td>\n",
       "      <td>Western Dress</td>\n",
       "      <td>...</td>\n",
       "      <td>INR</td>\n",
       "      <td>753.33</td>\n",
       "      <td>PUDUCHERRY</td>\n",
       "      <td>PUDUCHERRY</td>\n",
       "      <td>605008.0</td>\n",
       "      <td>IN</td>\n",
       "      <td>NaN</td>\n",
       "      <td>False</td>\n",
       "      <td>Easy Ship</td>\n",
       "      <td>NaN</td>\n",
       "    </tr>\n",
       "    <tr>\n",
       "      <th>4</th>\n",
       "      <td>4</td>\n",
       "      <td>407-1069790-7240320</td>\n",
       "      <td>04-30-22</td>\n",
       "      <td>Shipped</td>\n",
       "      <td>Amazon</td>\n",
       "      <td>Amazon.in</td>\n",
       "      <td>Expedited</td>\n",
       "      <td>JNE3671</td>\n",
       "      <td>JNE3671-TU-XXXL</td>\n",
       "      <td>Top</td>\n",
       "      <td>...</td>\n",
       "      <td>INR</td>\n",
       "      <td>574.00</td>\n",
       "      <td>CHENNAI</td>\n",
       "      <td>TAMIL NADU</td>\n",
       "      <td>600073.0</td>\n",
       "      <td>IN</td>\n",
       "      <td>NaN</td>\n",
       "      <td>False</td>\n",
       "      <td>NaN</td>\n",
       "      <td>NaN</td>\n",
       "    </tr>\n",
       "    <tr>\n",
       "      <th>...</th>\n",
       "      <td>...</td>\n",
       "      <td>...</td>\n",
       "      <td>...</td>\n",
       "      <td>...</td>\n",
       "      <td>...</td>\n",
       "      <td>...</td>\n",
       "      <td>...</td>\n",
       "      <td>...</td>\n",
       "      <td>...</td>\n",
       "      <td>...</td>\n",
       "      <td>...</td>\n",
       "      <td>...</td>\n",
       "      <td>...</td>\n",
       "      <td>...</td>\n",
       "      <td>...</td>\n",
       "      <td>...</td>\n",
       "      <td>...</td>\n",
       "      <td>...</td>\n",
       "      <td>...</td>\n",
       "      <td>...</td>\n",
       "      <td>...</td>\n",
       "    </tr>\n",
       "    <tr>\n",
       "      <th>128970</th>\n",
       "      <td>128970</td>\n",
       "      <td>406-6001380-7673107</td>\n",
       "      <td>05-31-22</td>\n",
       "      <td>Shipped</td>\n",
       "      <td>Amazon</td>\n",
       "      <td>Amazon.in</td>\n",
       "      <td>Expedited</td>\n",
       "      <td>JNE3697</td>\n",
       "      <td>JNE3697-KR-XL</td>\n",
       "      <td>kurta</td>\n",
       "      <td>...</td>\n",
       "      <td>INR</td>\n",
       "      <td>517.00</td>\n",
       "      <td>HYDERABAD</td>\n",
       "      <td>TELANGANA</td>\n",
       "      <td>500013.0</td>\n",
       "      <td>IN</td>\n",
       "      <td>NaN</td>\n",
       "      <td>False</td>\n",
       "      <td>NaN</td>\n",
       "      <td>False</td>\n",
       "    </tr>\n",
       "    <tr>\n",
       "      <th>128971</th>\n",
       "      <td>128971</td>\n",
       "      <td>402-9551604-7544318</td>\n",
       "      <td>05-31-22</td>\n",
       "      <td>Shipped</td>\n",
       "      <td>Amazon</td>\n",
       "      <td>Amazon.in</td>\n",
       "      <td>Expedited</td>\n",
       "      <td>SET401</td>\n",
       "      <td>SET401-KR-NP-M</td>\n",
       "      <td>Set</td>\n",
       "      <td>...</td>\n",
       "      <td>INR</td>\n",
       "      <td>999.00</td>\n",
       "      <td>GURUGRAM</td>\n",
       "      <td>HARYANA</td>\n",
       "      <td>122004.0</td>\n",
       "      <td>IN</td>\n",
       "      <td>IN Core Free Shipping 2015/04/08 23-48-5-108</td>\n",
       "      <td>False</td>\n",
       "      <td>NaN</td>\n",
       "      <td>False</td>\n",
       "    </tr>\n",
       "    <tr>\n",
       "      <th>128972</th>\n",
       "      <td>128972</td>\n",
       "      <td>407-9547469-3152358</td>\n",
       "      <td>05-31-22</td>\n",
       "      <td>Shipped</td>\n",
       "      <td>Amazon</td>\n",
       "      <td>Amazon.in</td>\n",
       "      <td>Expedited</td>\n",
       "      <td>J0157</td>\n",
       "      <td>J0157-DR-XXL</td>\n",
       "      <td>Western Dress</td>\n",
       "      <td>...</td>\n",
       "      <td>INR</td>\n",
       "      <td>690.00</td>\n",
       "      <td>HYDERABAD</td>\n",
       "      <td>TELANGANA</td>\n",
       "      <td>500049.0</td>\n",
       "      <td>IN</td>\n",
       "      <td>NaN</td>\n",
       "      <td>False</td>\n",
       "      <td>NaN</td>\n",
       "      <td>False</td>\n",
       "    </tr>\n",
       "    <tr>\n",
       "      <th>128973</th>\n",
       "      <td>128973</td>\n",
       "      <td>402-6184140-0545956</td>\n",
       "      <td>05-31-22</td>\n",
       "      <td>Shipped</td>\n",
       "      <td>Amazon</td>\n",
       "      <td>Amazon.in</td>\n",
       "      <td>Expedited</td>\n",
       "      <td>J0012</td>\n",
       "      <td>J0012-SKD-XS</td>\n",
       "      <td>Set</td>\n",
       "      <td>...</td>\n",
       "      <td>INR</td>\n",
       "      <td>1199.00</td>\n",
       "      <td>Halol</td>\n",
       "      <td>Gujarat</td>\n",
       "      <td>389350.0</td>\n",
       "      <td>IN</td>\n",
       "      <td>IN Core Free Shipping 2015/04/08 23-48-5-108</td>\n",
       "      <td>False</td>\n",
       "      <td>NaN</td>\n",
       "      <td>False</td>\n",
       "    </tr>\n",
       "    <tr>\n",
       "      <th>128974</th>\n",
       "      <td>128974</td>\n",
       "      <td>408-7436540-8728312</td>\n",
       "      <td>05-31-22</td>\n",
       "      <td>Shipped</td>\n",
       "      <td>Amazon</td>\n",
       "      <td>Amazon.in</td>\n",
       "      <td>Expedited</td>\n",
       "      <td>J0003</td>\n",
       "      <td>J0003-SET-S</td>\n",
       "      <td>Set</td>\n",
       "      <td>...</td>\n",
       "      <td>INR</td>\n",
       "      <td>696.00</td>\n",
       "      <td>Raipur</td>\n",
       "      <td>CHHATTISGARH</td>\n",
       "      <td>492014.0</td>\n",
       "      <td>IN</td>\n",
       "      <td>IN Core Free Shipping 2015/04/08 23-48-5-108</td>\n",
       "      <td>False</td>\n",
       "      <td>NaN</td>\n",
       "      <td>False</td>\n",
       "    </tr>\n",
       "  </tbody>\n",
       "</table>\n",
       "<p>128975 rows × 24 columns</p>\n",
       "</div>"
      ],
      "text/plain": [
       "         index             Order ID      Date                        Status  \\\n",
       "0            0  405-8078784-5731545  04-30-22                     Cancelled   \n",
       "1            1  171-9198151-1101146  04-30-22  Shipped - Delivered to Buyer   \n",
       "2            2  404-0687676-7273146  04-30-22                       Shipped   \n",
       "3            3  403-9615377-8133951  04-30-22                     Cancelled   \n",
       "4            4  407-1069790-7240320  04-30-22                       Shipped   \n",
       "...        ...                  ...       ...                           ...   \n",
       "128970  128970  406-6001380-7673107  05-31-22                       Shipped   \n",
       "128971  128971  402-9551604-7544318  05-31-22                       Shipped   \n",
       "128972  128972  407-9547469-3152358  05-31-22                       Shipped   \n",
       "128973  128973  402-6184140-0545956  05-31-22                       Shipped   \n",
       "128974  128974  408-7436540-8728312  05-31-22                       Shipped   \n",
       "\n",
       "       Fulfilment Sales Channel  ship-service-level    Style              SKU  \\\n",
       "0        Merchant      Amazon.in           Standard   SET389   SET389-KR-NP-S   \n",
       "1        Merchant      Amazon.in           Standard  JNE3781  JNE3781-KR-XXXL   \n",
       "2          Amazon      Amazon.in          Expedited  JNE3371    JNE3371-KR-XL   \n",
       "3        Merchant      Amazon.in           Standard    J0341       J0341-DR-L   \n",
       "4          Amazon      Amazon.in          Expedited  JNE3671  JNE3671-TU-XXXL   \n",
       "...           ...            ...                ...      ...              ...   \n",
       "128970     Amazon      Amazon.in          Expedited  JNE3697    JNE3697-KR-XL   \n",
       "128971     Amazon      Amazon.in          Expedited   SET401   SET401-KR-NP-M   \n",
       "128972     Amazon      Amazon.in          Expedited    J0157     J0157-DR-XXL   \n",
       "128973     Amazon      Amazon.in          Expedited    J0012     J0012-SKD-XS   \n",
       "128974     Amazon      Amazon.in          Expedited    J0003      J0003-SET-S   \n",
       "\n",
       "             Category  ... currency   Amount    ship-city    ship-state  \\\n",
       "0                 Set  ...      INR   647.62       MUMBAI   MAHARASHTRA   \n",
       "1               kurta  ...      INR   406.00    BENGALURU     KARNATAKA   \n",
       "2               kurta  ...      INR   329.00  NAVI MUMBAI   MAHARASHTRA   \n",
       "3       Western Dress  ...      INR   753.33   PUDUCHERRY    PUDUCHERRY   \n",
       "4                 Top  ...      INR   574.00      CHENNAI    TAMIL NADU   \n",
       "...               ...  ...      ...      ...          ...           ...   \n",
       "128970          kurta  ...      INR   517.00    HYDERABAD     TELANGANA   \n",
       "128971            Set  ...      INR   999.00     GURUGRAM       HARYANA   \n",
       "128972  Western Dress  ...      INR   690.00    HYDERABAD     TELANGANA   \n",
       "128973            Set  ...      INR  1199.00        Halol       Gujarat   \n",
       "128974            Set  ...      INR   696.00       Raipur  CHHATTISGARH   \n",
       "\n",
       "       ship-postal-code  ship-country  \\\n",
       "0              400081.0            IN   \n",
       "1              560085.0            IN   \n",
       "2              410210.0            IN   \n",
       "3              605008.0            IN   \n",
       "4              600073.0            IN   \n",
       "...                 ...           ...   \n",
       "128970         500013.0            IN   \n",
       "128971         122004.0            IN   \n",
       "128972         500049.0            IN   \n",
       "128973         389350.0            IN   \n",
       "128974         492014.0            IN   \n",
       "\n",
       "                                            promotion-ids    B2B  \\\n",
       "0                                                     NaN  False   \n",
       "1       Amazon PLCC Free-Financing Universal Merchant ...  False   \n",
       "2            IN Core Free Shipping 2015/04/08 23-48-5-108   True   \n",
       "3                                                     NaN  False   \n",
       "4                                                     NaN  False   \n",
       "...                                                   ...    ...   \n",
       "128970                                                NaN  False   \n",
       "128971       IN Core Free Shipping 2015/04/08 23-48-5-108  False   \n",
       "128972                                                NaN  False   \n",
       "128973       IN Core Free Shipping 2015/04/08 23-48-5-108  False   \n",
       "128974       IN Core Free Shipping 2015/04/08 23-48-5-108  False   \n",
       "\n",
       "        fulfilled-by Unnamed: 22  \n",
       "0          Easy Ship         NaN  \n",
       "1          Easy Ship         NaN  \n",
       "2                NaN         NaN  \n",
       "3          Easy Ship         NaN  \n",
       "4                NaN         NaN  \n",
       "...              ...         ...  \n",
       "128970           NaN       False  \n",
       "128971           NaN       False  \n",
       "128972           NaN       False  \n",
       "128973           NaN       False  \n",
       "128974           NaN       False  \n",
       "\n",
       "[128975 rows x 24 columns]"
      ]
     },
     "execution_count": 33,
     "metadata": {},
     "output_type": "execute_result"
    }
   ],
   "source": [
    "Amazon_df"
   ]
  },
  {
   "cell_type": "code",
   "execution_count": 34,
   "metadata": {},
   "outputs": [
    {
     "data": {
      "text/plain": [
       "0         0\n",
       "1         1\n",
       "2         1\n",
       "3         0\n",
       "4         1\n",
       "         ..\n",
       "128970    1\n",
       "128971    1\n",
       "128972    1\n",
       "128973    1\n",
       "128974    1\n",
       "Name: Qty, Length: 128975, dtype: int64"
      ]
     },
     "execution_count": 34,
     "metadata": {},
     "output_type": "execute_result"
    }
   ],
   "source": [
    "Amazon_df[\"Qty\"]"
   ]
  },
  {
   "cell_type": "code",
   "execution_count": 35,
   "metadata": {},
   "outputs": [
    {
     "data": {
      "text/plain": [
       "Index(['index', 'Order ID', 'Date', 'Status', 'Fulfilment', 'Sales Channel ',\n",
       "       'ship-service-level', 'Style', 'SKU', 'Category', 'Size', 'ASIN',\n",
       "       'Courier Status', 'Qty', 'currency', 'Amount', 'ship-city',\n",
       "       'ship-state', 'ship-postal-code', 'ship-country', 'promotion-ids',\n",
       "       'B2B', 'fulfilled-by', 'Unnamed: 22'],\n",
       "      dtype='object')"
      ]
     },
     "execution_count": 35,
     "metadata": {},
     "output_type": "execute_result"
    }
   ],
   "source": [
    "Amazon_df.columns"
   ]
  },
  {
   "cell_type": "code",
   "execution_count": 36,
   "metadata": {},
   "outputs": [
    {
     "name": "stdout",
     "output_type": "stream",
     "text": [
      "<class 'pandas.core.frame.DataFrame'>\n",
      "RangeIndex: 128975 entries, 0 to 128974\n",
      "Data columns (total 24 columns):\n",
      " #   Column              Non-Null Count   Dtype  \n",
      "---  ------              --------------   -----  \n",
      " 0   index               128975 non-null  int64  \n",
      " 1   Order ID            128975 non-null  object \n",
      " 2   Date                128975 non-null  object \n",
      " 3   Status              128975 non-null  object \n",
      " 4   Fulfilment          128975 non-null  object \n",
      " 5   Sales Channel       128975 non-null  object \n",
      " 6   ship-service-level  128975 non-null  object \n",
      " 7   Style               128975 non-null  object \n",
      " 8   SKU                 128975 non-null  object \n",
      " 9   Category            128975 non-null  object \n",
      " 10  Size                128975 non-null  object \n",
      " 11  ASIN                128975 non-null  object \n",
      " 12  Courier Status      122103 non-null  object \n",
      " 13  Qty                 128975 non-null  int64  \n",
      " 14  currency            121180 non-null  object \n",
      " 15  Amount              121180 non-null  float64\n",
      " 16  ship-city           128942 non-null  object \n",
      " 17  ship-state          128942 non-null  object \n",
      " 18  ship-postal-code    128942 non-null  float64\n",
      " 19  ship-country        128942 non-null  object \n",
      " 20  promotion-ids       79822 non-null   object \n",
      " 21  B2B                 128975 non-null  bool   \n",
      " 22  fulfilled-by        39277 non-null   object \n",
      " 23  Unnamed: 22         79925 non-null   object \n",
      "dtypes: bool(1), float64(2), int64(2), object(19)\n",
      "memory usage: 22.8+ MB\n"
     ]
    }
   ],
   "source": [
    "Amazon_df.info()"
   ]
  },
  {
   "cell_type": "code",
   "execution_count": 37,
   "metadata": {},
   "outputs": [
    {
     "data": {
      "text/html": [
       "<div>\n",
       "<style scoped>\n",
       "    .dataframe tbody tr th:only-of-type {\n",
       "        vertical-align: middle;\n",
       "    }\n",
       "\n",
       "    .dataframe tbody tr th {\n",
       "        vertical-align: top;\n",
       "    }\n",
       "\n",
       "    .dataframe thead th {\n",
       "        text-align: right;\n",
       "    }\n",
       "</style>\n",
       "<table border=\"1\" class=\"dataframe\">\n",
       "  <thead>\n",
       "    <tr style=\"text-align: right;\">\n",
       "      <th></th>\n",
       "      <th>Date</th>\n",
       "      <th>total_qty</th>\n",
       "      <th>total_amount</th>\n",
       "    </tr>\n",
       "  </thead>\n",
       "  <tbody>\n",
       "    <tr>\n",
       "      <th>0</th>\n",
       "      <td>2022-03-31</td>\n",
       "      <td>156</td>\n",
       "      <td>101683.85</td>\n",
       "    </tr>\n",
       "    <tr>\n",
       "      <th>1</th>\n",
       "      <td>2022-04-01</td>\n",
       "      <td>1319</td>\n",
       "      <td>865478.60</td>\n",
       "    </tr>\n",
       "    <tr>\n",
       "      <th>2</th>\n",
       "      <td>2022-04-02</td>\n",
       "      <td>1408</td>\n",
       "      <td>913101.53</td>\n",
       "    </tr>\n",
       "    <tr>\n",
       "      <th>3</th>\n",
       "      <td>2022-04-03</td>\n",
       "      <td>1544</td>\n",
       "      <td>1011763.38</td>\n",
       "    </tr>\n",
       "    <tr>\n",
       "      <th>4</th>\n",
       "      <td>2022-04-04</td>\n",
       "      <td>1331</td>\n",
       "      <td>882059.17</td>\n",
       "    </tr>\n",
       "    <tr>\n",
       "      <th>...</th>\n",
       "      <td>...</td>\n",
       "      <td>...</td>\n",
       "      <td>...</td>\n",
       "    </tr>\n",
       "    <tr>\n",
       "      <th>86</th>\n",
       "      <td>2022-06-25</td>\n",
       "      <td>940</td>\n",
       "      <td>654234.58</td>\n",
       "    </tr>\n",
       "    <tr>\n",
       "      <th>87</th>\n",
       "      <td>2022-06-26</td>\n",
       "      <td>1122</td>\n",
       "      <td>773610.02</td>\n",
       "    </tr>\n",
       "    <tr>\n",
       "      <th>88</th>\n",
       "      <td>2022-06-27</td>\n",
       "      <td>1023</td>\n",
       "      <td>714124.67</td>\n",
       "    </tr>\n",
       "    <tr>\n",
       "      <th>89</th>\n",
       "      <td>2022-06-28</td>\n",
       "      <td>1104</td>\n",
       "      <td>772085.53</td>\n",
       "    </tr>\n",
       "    <tr>\n",
       "      <th>90</th>\n",
       "      <td>2022-06-29</td>\n",
       "      <td>627</td>\n",
       "      <td>411530.76</td>\n",
       "    </tr>\n",
       "  </tbody>\n",
       "</table>\n",
       "<p>91 rows × 3 columns</p>\n",
       "</div>"
      ],
      "text/plain": [
       "         Date  total_qty  total_amount\n",
       "0  2022-03-31        156     101683.85\n",
       "1  2022-04-01       1319     865478.60\n",
       "2  2022-04-02       1408     913101.53\n",
       "3  2022-04-03       1544    1011763.38\n",
       "4  2022-04-04       1331     882059.17\n",
       "..        ...        ...           ...\n",
       "86 2022-06-25        940     654234.58\n",
       "87 2022-06-26       1122     773610.02\n",
       "88 2022-06-27       1023     714124.67\n",
       "89 2022-06-28       1104     772085.53\n",
       "90 2022-06-29        627     411530.76\n",
       "\n",
       "[91 rows x 3 columns]"
      ]
     },
     "execution_count": 37,
     "metadata": {},
     "output_type": "execute_result"
    }
   ],
   "source": [
    "Amazon_df['Date'] = pd.to_datetime(Amazon_df['Date'])\n",
    "daily_sales = Amazon_df.groupby('Date').agg(total_qty=('Qty', 'sum'), total_amount=('Amount', 'sum')).reset_index()\n",
    "daily_sales"
   ]
  },
  {
   "cell_type": "code",
   "execution_count": 38,
   "metadata": {},
   "outputs": [
    {
     "data": {
      "image/png": "[encoded data removed]",
      "text/plain": [
       "<Figure size 1000x500 with 1 Axes>"
      ]
     },
     "metadata": {},
     "output_type": "display_data"
    }
   ],
   "source": [
    "plt.figure(figsize=(10, 5))\n",
    "sns.lineplot(data=daily_sales, x='Date', y='total_qty', label='Total Quantity Sold', color='blue', linewidth=2)\n",
    "\n",
    "\n",
    "plt.title('Sales Trends Over Time')\n",
    "plt.xlabel('Date')\n",
    "plt.ylabel('Sales')\n",
    "plt.xticks(rotation=45)  \n",
    "plt.legend()\n",
    "plt.grid(True)\n",
    "plt.show()"
   ]
  },
  {
   "cell_type": "code",
   "execution_count": 39,
   "metadata": {},
   "outputs": [
    {
     "data": {
      "image/png": "[encoded data removed]",
      "text/plain": [
       "<Figure size 1000x500 with 1 Axes>"
      ]
     },
     "metadata": {},
     "output_type": "display_data"
    }
   ],
   "source": [
    "plt.figure(figsize=(10, 5))\n",
    "sns.lineplot(data=daily_sales, x='Date', y='total_amount', label='Total Sales Amount ($)', color='orange', linewidth=2)\n",
    "plt.title('Sales Trends Over Time')\n",
    "plt.xlabel('Date')\n",
    "plt.ylabel('Sales')\n",
    "plt.xticks(rotation=45)  \n",
    "plt.legend()\n",
    "plt.grid(True)\n",
    "plt.show()\n"
   ]
  },
  {
   "cell_type": "code",
   "execution_count": 40,
   "metadata": {},
   "outputs": [
    {
     "data": {
      "text/html": [
       "<div>\n",
       "<style scoped>\n",
       "    .dataframe tbody tr th:only-of-type {\n",
       "        vertical-align: middle;\n",
       "    }\n",
       "\n",
       "    .dataframe tbody tr th {\n",
       "        vertical-align: top;\n",
       "    }\n",
       "\n",
       "    .dataframe thead th {\n",
       "        text-align: right;\n",
       "    }\n",
       "</style>\n",
       "<table border=\"1\" class=\"dataframe\">\n",
       "  <thead>\n",
       "    <tr style=\"text-align: right;\">\n",
       "      <th></th>\n",
       "      <th>index</th>\n",
       "      <th>Order ID</th>\n",
       "      <th>Date</th>\n",
       "      <th>Status</th>\n",
       "      <th>Fulfilment</th>\n",
       "      <th>Sales Channel</th>\n",
       "      <th>ship-service-level</th>\n",
       "      <th>Style</th>\n",
       "      <th>SKU</th>\n",
       "      <th>Category</th>\n",
       "      <th>...</th>\n",
       "      <th>ship-city</th>\n",
       "      <th>ship-state</th>\n",
       "      <th>ship-postal-code</th>\n",
       "      <th>ship-country</th>\n",
       "      <th>promotion-ids</th>\n",
       "      <th>B2B</th>\n",
       "      <th>fulfilled-by</th>\n",
       "      <th>Unnamed: 22</th>\n",
       "      <th>Is_Holiday</th>\n",
       "      <th>Day_of_Week</th>\n",
       "    </tr>\n",
       "  </thead>\n",
       "  <tbody>\n",
       "    <tr>\n",
       "      <th>0</th>\n",
       "      <td>0</td>\n",
       "      <td>405-8078784-5731545</td>\n",
       "      <td>2022-04-30</td>\n",
       "      <td>Cancelled</td>\n",
       "      <td>Merchant</td>\n",
       "      <td>Amazon.in</td>\n",
       "      <td>Standard</td>\n",
       "      <td>SET389</td>\n",
       "      <td>SET389-KR-NP-S</td>\n",
       "      <td>Set</td>\n",
       "      <td>...</td>\n",
       "      <td>MUMBAI</td>\n",
       "      <td>MAHARASHTRA</td>\n",
       "      <td>400081.0</td>\n",
       "      <td>IN</td>\n",
       "      <td>NaN</td>\n",
       "      <td>False</td>\n",
       "      <td>Easy Ship</td>\n",
       "      <td>NaN</td>\n",
       "      <td>False</td>\n",
       "      <td>Saturday</td>\n",
       "    </tr>\n",
       "    <tr>\n",
       "      <th>1</th>\n",
       "      <td>1</td>\n",
       "      <td>171-9198151-1101146</td>\n",
       "      <td>2022-04-30</td>\n",
       "      <td>Shipped - Delivered to Buyer</td>\n",
       "      <td>Merchant</td>\n",
       "      <td>Amazon.in</td>\n",
       "      <td>Standard</td>\n",
       "      <td>JNE3781</td>\n",
       "      <td>JNE3781-KR-XXXL</td>\n",
       "      <td>kurta</td>\n",
       "      <td>...</td>\n",
       "      <td>BENGALURU</td>\n",
       "      <td>KARNATAKA</td>\n",
       "      <td>560085.0</td>\n",
       "      <td>IN</td>\n",
       "      <td>Amazon PLCC Free-Financing Universal Merchant ...</td>\n",
       "      <td>False</td>\n",
       "      <td>Easy Ship</td>\n",
       "      <td>NaN</td>\n",
       "      <td>False</td>\n",
       "      <td>Saturday</td>\n",
       "    </tr>\n",
       "    <tr>\n",
       "      <th>2</th>\n",
       "      <td>2</td>\n",
       "      <td>404-0687676-7273146</td>\n",
       "      <td>2022-04-30</td>\n",
       "      <td>Shipped</td>\n",
       "      <td>Amazon</td>\n",
       "      <td>Amazon.in</td>\n",
       "      <td>Expedited</td>\n",
       "      <td>JNE3371</td>\n",
       "      <td>JNE3371-KR-XL</td>\n",
       "      <td>kurta</td>\n",
       "      <td>...</td>\n",
       "      <td>NAVI MUMBAI</td>\n",
       "      <td>MAHARASHTRA</td>\n",
       "      <td>410210.0</td>\n",
       "      <td>IN</td>\n",
       "      <td>IN Core Free Shipping 2015/04/08 23-48-5-108</td>\n",
       "      <td>True</td>\n",
       "      <td>NaN</td>\n",
       "      <td>NaN</td>\n",
       "      <td>False</td>\n",
       "      <td>Saturday</td>\n",
       "    </tr>\n",
       "    <tr>\n",
       "      <th>3</th>\n",
       "      <td>3</td>\n",
       "      <td>403-9615377-8133951</td>\n",
       "      <td>2022-04-30</td>\n",
       "      <td>Cancelled</td>\n",
       "      <td>Merchant</td>\n",
       "      <td>Amazon.in</td>\n",
       "      <td>Standard</td>\n",
       "      <td>J0341</td>\n",
       "      <td>J0341-DR-L</td>\n",
       "      <td>Western Dress</td>\n",
       "      <td>...</td>\n",
       "      <td>PUDUCHERRY</td>\n",
       "      <td>PUDUCHERRY</td>\n",
       "      <td>605008.0</td>\n",
       "      <td>IN</td>\n",
       "      <td>NaN</td>\n",
       "      <td>False</td>\n",
       "      <td>Easy Ship</td>\n",
       "      <td>NaN</td>\n",
       "      <td>False</td>\n",
       "      <td>Saturday</td>\n",
       "    </tr>\n",
       "    <tr>\n",
       "      <th>4</th>\n",
       "      <td>4</td>\n",
       "      <td>407-1069790-7240320</td>\n",
       "      <td>2022-04-30</td>\n",
       "      <td>Shipped</td>\n",
       "      <td>Amazon</td>\n",
       "      <td>Amazon.in</td>\n",
       "      <td>Expedited</td>\n",
       "      <td>JNE3671</td>\n",
       "      <td>JNE3671-TU-XXXL</td>\n",
       "      <td>Top</td>\n",
       "      <td>...</td>\n",
       "      <td>CHENNAI</td>\n",
       "      <td>TAMIL NADU</td>\n",
       "      <td>600073.0</td>\n",
       "      <td>IN</td>\n",
       "      <td>NaN</td>\n",
       "      <td>False</td>\n",
       "      <td>NaN</td>\n",
       "      <td>NaN</td>\n",
       "      <td>False</td>\n",
       "      <td>Saturday</td>\n",
       "    </tr>\n",
       "    <tr>\n",
       "      <th>...</th>\n",
       "      <td>...</td>\n",
       "      <td>...</td>\n",
       "      <td>...</td>\n",
       "      <td>...</td>\n",
       "      <td>...</td>\n",
       "      <td>...</td>\n",
       "      <td>...</td>\n",
       "      <td>...</td>\n",
       "      <td>...</td>\n",
       "      <td>...</td>\n",
       "      <td>...</td>\n",
       "      <td>...</td>\n",
       "      <td>...</td>\n",
       "      <td>...</td>\n",
       "      <td>...</td>\n",
       "      <td>...</td>\n",
       "      <td>...</td>\n",
       "      <td>...</td>\n",
       "      <td>...</td>\n",
       "      <td>...</td>\n",
       "      <td>...</td>\n",
       "    </tr>\n",
       "    <tr>\n",
       "      <th>128970</th>\n",
       "      <td>128970</td>\n",
       "      <td>406-6001380-7673107</td>\n",
       "      <td>2022-05-31</td>\n",
       "      <td>Shipped</td>\n",
       "      <td>Amazon</td>\n",
       "      <td>Amazon.in</td>\n",
       "      <td>Expedited</td>\n",
       "      <td>JNE3697</td>\n",
       "      <td>JNE3697-KR-XL</td>\n",
       "      <td>kurta</td>\n",
       "      <td>...</td>\n",
       "      <td>HYDERABAD</td>\n",
       "      <td>TELANGANA</td>\n",
       "      <td>500013.0</td>\n",
       "      <td>IN</td>\n",
       "      <td>NaN</td>\n",
       "      <td>False</td>\n",
       "      <td>NaN</td>\n",
       "      <td>False</td>\n",
       "      <td>False</td>\n",
       "      <td>Tuesday</td>\n",
       "    </tr>\n",
       "    <tr>\n",
       "      <th>128971</th>\n",
       "      <td>128971</td>\n",
       "      <td>402-9551604-7544318</td>\n",
       "      <td>2022-05-31</td>\n",
       "      <td>Shipped</td>\n",
       "      <td>Amazon</td>\n",
       "      <td>Amazon.in</td>\n",
       "      <td>Expedited</td>\n",
       "      <td>SET401</td>\n",
       "      <td>SET401-KR-NP-M</td>\n",
       "      <td>Set</td>\n",
       "      <td>...</td>\n",
       "      <td>GURUGRAM</td>\n",
       "      <td>HARYANA</td>\n",
       "      <td>122004.0</td>\n",
       "      <td>IN</td>\n",
       "      <td>IN Core Free Shipping 2015/04/08 23-48-5-108</td>\n",
       "      <td>False</td>\n",
       "      <td>NaN</td>\n",
       "      <td>False</td>\n",
       "      <td>False</td>\n",
       "      <td>Tuesday</td>\n",
       "    </tr>\n",
       "    <tr>\n",
       "      <th>128972</th>\n",
       "      <td>128972</td>\n",
       "      <td>407-9547469-3152358</td>\n",
       "      <td>2022-05-31</td>\n",
       "      <td>Shipped</td>\n",
       "      <td>Amazon</td>\n",
       "      <td>Amazon.in</td>\n",
       "      <td>Expedited</td>\n",
       "      <td>J0157</td>\n",
       "      <td>J0157-DR-XXL</td>\n",
       "      <td>Western Dress</td>\n",
       "      <td>...</td>\n",
       "      <td>HYDERABAD</td>\n",
       "      <td>TELANGANA</td>\n",
       "      <td>500049.0</td>\n",
       "      <td>IN</td>\n",
       "      <td>NaN</td>\n",
       "      <td>False</td>\n",
       "      <td>NaN</td>\n",
       "      <td>False</td>\n",
       "      <td>False</td>\n",
       "      <td>Tuesday</td>\n",
       "    </tr>\n",
       "    <tr>\n",
       "      <th>128973</th>\n",
       "      <td>128973</td>\n",
       "      <td>402-6184140-0545956</td>\n",
       "      <td>2022-05-31</td>\n",
       "      <td>Shipped</td>\n",
       "      <td>Amazon</td>\n",
       "      <td>Amazon.in</td>\n",
       "      <td>Expedited</td>\n",
       "      <td>J0012</td>\n",
       "      <td>J0012-SKD-XS</td>\n",
       "      <td>Set</td>\n",
       "      <td>...</td>\n",
       "      <td>Halol</td>\n",
       "      <td>Gujarat</td>\n",
       "      <td>389350.0</td>\n",
       "      <td>IN</td>\n",
       "      <td>IN Core Free Shipping 2015/04/08 23-48-5-108</td>\n",
       "      <td>False</td>\n",
       "      <td>NaN</td>\n",
       "      <td>False</td>\n",
       "      <td>False</td>\n",
       "      <td>Tuesday</td>\n",
       "    </tr>\n",
       "    <tr>\n",
       "      <th>128974</th>\n",
       "      <td>128974</td>\n",
       "      <td>408-7436540-8728312</td>\n",
       "      <td>2022-05-31</td>\n",
       "      <td>Shipped</td>\n",
       "      <td>Amazon</td>\n",
       "      <td>Amazon.in</td>\n",
       "      <td>Expedited</td>\n",
       "      <td>J0003</td>\n",
       "      <td>J0003-SET-S</td>\n",
       "      <td>Set</td>\n",
       "      <td>...</td>\n",
       "      <td>Raipur</td>\n",
       "      <td>CHHATTISGARH</td>\n",
       "      <td>492014.0</td>\n",
       "      <td>IN</td>\n",
       "      <td>IN Core Free Shipping 2015/04/08 23-48-5-108</td>\n",
       "      <td>False</td>\n",
       "      <td>NaN</td>\n",
       "      <td>False</td>\n",
       "      <td>False</td>\n",
       "      <td>Tuesday</td>\n",
       "    </tr>\n",
       "  </tbody>\n",
       "</table>\n",
       "<p>128975 rows × 26 columns</p>\n",
       "</div>"
      ],
      "text/plain": [
       "         index             Order ID       Date                        Status  \\\n",
       "0            0  405-8078784-5731545 2022-04-30                     Cancelled   \n",
       "1            1  171-9198151-1101146 2022-04-30  Shipped - Delivered to Buyer   \n",
       "2            2  404-0687676-7273146 2022-04-30                       Shipped   \n",
       "3            3  403-9615377-8133951 2022-04-30                     Cancelled   \n",
       "4            4  407-1069790-7240320 2022-04-30                       Shipped   \n",
       "...        ...                  ...        ...                           ...   \n",
       "128970  128970  406-6001380-7673107 2022-05-31                       Shipped   \n",
       "128971  128971  402-9551604-7544318 2022-05-31                       Shipped   \n",
       "128972  128972  407-9547469-3152358 2022-05-31                       Shipped   \n",
       "128973  128973  402-6184140-0545956 2022-05-31                       Shipped   \n",
       "128974  128974  408-7436540-8728312 2022-05-31                       Shipped   \n",
       "\n",
       "       Fulfilment Sales Channel  ship-service-level    Style              SKU  \\\n",
       "0        Merchant      Amazon.in           Standard   SET389   SET389-KR-NP-S   \n",
       "1        Merchant      Amazon.in           Standard  JNE3781  JNE3781-KR-XXXL   \n",
       "2          Amazon      Amazon.in          Expedited  JNE3371    JNE3371-KR-XL   \n",
       "3        Merchant      Amazon.in           Standard    J0341       J0341-DR-L   \n",
       "4          Amazon      Amazon.in          Expedited  JNE3671  JNE3671-TU-XXXL   \n",
       "...           ...            ...                ...      ...              ...   \n",
       "128970     Amazon      Amazon.in          Expedited  JNE3697    JNE3697-KR-XL   \n",
       "128971     Amazon      Amazon.in          Expedited   SET401   SET401-KR-NP-M   \n",
       "128972     Amazon      Amazon.in          Expedited    J0157     J0157-DR-XXL   \n",
       "128973     Amazon      Amazon.in          Expedited    J0012     J0012-SKD-XS   \n",
       "128974     Amazon      Amazon.in          Expedited    J0003      J0003-SET-S   \n",
       "\n",
       "             Category  ...    ship-city    ship-state ship-postal-code  \\\n",
       "0                 Set  ...       MUMBAI   MAHARASHTRA         400081.0   \n",
       "1               kurta  ...    BENGALURU     KARNATAKA         560085.0   \n",
       "2               kurta  ...  NAVI MUMBAI   MAHARASHTRA         410210.0   \n",
       "3       Western Dress  ...   PUDUCHERRY    PUDUCHERRY         605008.0   \n",
       "4                 Top  ...      CHENNAI    TAMIL NADU         600073.0   \n",
       "...               ...  ...          ...           ...              ...   \n",
       "128970          kurta  ...    HYDERABAD     TELANGANA         500013.0   \n",
       "128971            Set  ...     GURUGRAM       HARYANA         122004.0   \n",
       "128972  Western Dress  ...    HYDERABAD     TELANGANA         500049.0   \n",
       "128973            Set  ...        Halol       Gujarat         389350.0   \n",
       "128974            Set  ...       Raipur  CHHATTISGARH         492014.0   \n",
       "\n",
       "        ship-country                                      promotion-ids  \\\n",
       "0                 IN                                                NaN   \n",
       "1                 IN  Amazon PLCC Free-Financing Universal Merchant ...   \n",
       "2                 IN       IN Core Free Shipping 2015/04/08 23-48-5-108   \n",
       "3                 IN                                                NaN   \n",
       "4                 IN                                                NaN   \n",
       "...              ...                                                ...   \n",
       "128970            IN                                                NaN   \n",
       "128971            IN       IN Core Free Shipping 2015/04/08 23-48-5-108   \n",
       "128972            IN                                                NaN   \n",
       "128973            IN       IN Core Free Shipping 2015/04/08 23-48-5-108   \n",
       "128974            IN       IN Core Free Shipping 2015/04/08 23-48-5-108   \n",
       "\n",
       "          B2B fulfilled-by Unnamed: 22  Is_Holiday Day_of_Week  \n",
       "0       False    Easy Ship         NaN       False    Saturday  \n",
       "1       False    Easy Ship         NaN       False    Saturday  \n",
       "2        True          NaN         NaN       False    Saturday  \n",
       "3       False    Easy Ship         NaN       False    Saturday  \n",
       "4       False          NaN         NaN       False    Saturday  \n",
       "...       ...          ...         ...         ...         ...  \n",
       "128970  False          NaN       False       False     Tuesday  \n",
       "128971  False          NaN       False       False     Tuesday  \n",
       "128972  False          NaN       False       False     Tuesday  \n",
       "128973  False          NaN       False       False     Tuesday  \n",
       "128974  False          NaN       False       False     Tuesday  \n",
       "\n",
       "[128975 rows x 26 columns]"
      ]
     },
     "execution_count": 40,
     "metadata": {},
     "output_type": "execute_result"
    }
   ],
   "source": [
    "us_holidays = holidays.US(years=[2022, 2023])\n",
    "Amazon_df['Is_Holiday'] = Amazon_df['Date'].isin(us_holidays)\n",
    "Amazon_df['Day_of_Week'] = Amazon_df['Date'].dt.day_name()\n",
    "Amazon_df"
   ]
  },
  {
   "cell_type": "code",
   "execution_count": 41,
   "metadata": {},
   "outputs": [],
   "source": [
    "us_holidays = holidays.US(years=[2022, 2023])\n",
    "Amazon_df['Is_Holiday'] = Amazon_df['Date'].apply(lambda x: x.date() in us_holidays)\n",
    "\n",
    "def categorize_sales(date):\n",
    "    if date.date() in us_holidays:\n",
    "        return 'Holiday'\n",
    "    elif date.date() < min(us_holidays.keys()):\n",
    "        return 'Before Holiday'\n",
    "    else:\n",
    "        return 'After Holiday'"
   ]
  },
  {
   "cell_type": "code",
   "execution_count": 43,
   "metadata": {},
   "outputs": [
    {
     "data": {
      "application/vnd.plotly.v1+json": {
       "config": {
        "plotlyServerURL": "https://plot.ly"
       },
       "data": [
        {
         "alignmentgroup": "True",
         "hovertemplate": "variable=total_qty<br>Holiday Status=%{x}<br>Sales=%{y}<extra></extra>",
         "legendgroup": "total_qty",
         "marker": {
          "color": "#636efa",
          "pattern": {
           "shape": ""
          }
         },
         "name": "total_qty",
         "offsetgroup": "total_qty",
         "orientation": "v",
         "showlegend": true,
         "textposition": "auto",
         "type": "bar",
         "x": [
          "After Holiday",
          "Holiday"
         ],
         "xaxis": "x",
         "y": [
          113336,
          3313
         ],
         "yaxis": "y"
        },
        {
         "alignmentgroup": "True",
         "hovertemplate": "variable=total_amount<br>Holiday Status=%{x}<br>Sales=%{y}<extra></extra>",
         "legendgroup": "total_amount",
         "marker": {
          "color": "#EF553B",
          "pattern": {
           "shape": ""
          }
         },
         "name": "total_amount",
         "offsetgroup": "total_amount",
         "orientation": "v",
         "showlegend": true,
         "textposition": "auto",
         "type": "bar",
         "x": [
          "After Holiday",
          "Holiday"
         ],
         "xaxis": "x",
         "y": [
          76288609.02,
          2304069.28
         ],
         "yaxis": "y"
        }
       ],
       "layout": {
        "barmode": "group",
        "height": 600,
        "legend": {
         "title": {
          "text": "variable"
         },
         "tracegroupgap": 0
        },
        "template": {
         "data": {
          "bar": [
           {
            "error_x": {
             "color": "#2a3f5f"
            },
            "error_y": {
             "color": "#2a3f5f"
            },
            "marker": {
             "line": {
              "color": "#E5ECF6",
              "width": 0.5
             },
             "pattern": {
              "fillmode": "overlay",
              "size": 10,
              "solidity": 0.2
             }
            },
            "type": "bar"
           }
          ],
          "barpolar": [
           {
            "marker": {
             "line": {
              "color": "#E5ECF6",
              "width": 0.5
             },
             "pattern": {
              "fillmode": "overlay",
              "size": 10,
              "solidity": 0.2
             }
            },
            "type": "barpolar"
           }
          ],
          "carpet": [
           {
            "aaxis": {
             "endlinecolor": "#2a3f5f",
             "gridcolor": "white",
             "linecolor": "white",
             "minorgridcolor": "white",
             "startlinecolor": "#2a3f5f"
            },
            "baxis": {
             "endlinecolor": "#2a3f5f",
             "gridcolor": "white",
             "linecolor": "white",
             "minorgridcolor": "white",
             "startlinecolor": "#2a3f5f"
            },
            "type": "carpet"
           }
          ],
          "choropleth": [
           {
            "colorbar": {
             "outlinewidth": 0,
             "ticks": ""
            },
            "type": "choropleth"
           }
          ],
          "contour": [
           {
            "colorbar": {
             "outlinewidth": 0,
             "ticks": ""
            },
            "colorscale": [
             [
              0,
              "#0d0887"
             ],
             [
              0.1111111111111111,
              "#46039f"
             ],
             [
              0.2222222222222222,
              "#7201a8"
             ],
             [
              0.3333333333333333,
              "#9c179e"
             ],
             [
              0.4444444444444444,
              "#bd3786"
             ],
             [
              0.5555555555555556,
              "#d8576b"
             ],
             [
              0.6666666666666666,
              "#ed7953"
             ],
             [
              0.7777777777777778,
              "#fb9f3a"
             ],
             [
              0.8888888888888888,
              "#fdca26"
             ],
             [
              1,
              "#f0f921"
             ]
            ],
            "type": "contour"
           }
          ],
          "contourcarpet": [
           {
            "colorbar": {
             "outlinewidth": 0,
             "ticks": ""
            },
            "type": "contourcarpet"
           }
          ],
          "heatmap": [
           {
            "colorbar": {
             "outlinewidth": 0,
             "ticks": ""
            },
            "colorscale": [
             [
              0,
              "#0d0887"
             ],
             [
              0.1111111111111111,
              "#46039f"
             ],
             [
              0.2222222222222222,
              "#7201a8"
             ],
             [
              0.3333333333333333,
              "#9c179e"
             ],
             [
              0.4444444444444444,
              "#bd3786"
             ],
             [
              0.5555555555555556,
              "#d8576b"
             ],
             [
              0.6666666666666666,
              "#ed7953"
             ],
             [
              0.7777777777777778,
              "#fb9f3a"
             ],
             [
              0.8888888888888888,
              "#fdca26"
             ],
             [
              1,
              "#f0f921"
             ]
            ],
            "type": "heatmap"
           }
          ],
          "heatmapgl": [
           {
            "colorbar": {
             "outlinewidth": 0,
             "ticks": ""
            },
            "colorscale": [
             [
              0,
              "#0d0887"
             ],
             [
              0.1111111111111111,
              "#46039f"
             ],
             [
              0.2222222222222222,
              "#7201a8"
             ],
             [
              0.3333333333333333,
              "#9c179e"
             ],
             [
              0.4444444444444444,
              "#bd3786"
             ],
             [
              0.5555555555555556,
              "#d8576b"
             ],
             [
              0.6666666666666666,
              "#ed7953"
             ],
             [
              0.7777777777777778,
              "#fb9f3a"
             ],
             [
              0.8888888888888888,
              "#fdca26"
             ],
             [
              1,
              "#f0f921"
             ]
            ],
            "type": "heatmapgl"
           }
          ],
          "histogram": [
           {
            "marker": {
             "pattern": {
              "fillmode": "overlay",
              "size": 10,
              "solidity": 0.2
             }
            },
            "type": "histogram"
           }
          ],
          "histogram2d": [
           {
            "colorbar": {
             "outlinewidth": 0,
             "ticks": ""
            },
            "colorscale": [
             [
              0,
              "#0d0887"
             ],
             [
              0.1111111111111111,
              "#46039f"
             ],
             [
              0.2222222222222222,
              "#7201a8"
             ],
             [
              0.3333333333333333,
              "#9c179e"
             ],
             [
              0.4444444444444444,
              "#bd3786"
             ],
             [
              0.5555555555555556,
              "#d8576b"
             ],
             [
              0.6666666666666666,
              "#ed7953"
             ],
             [
              0.7777777777777778,
              "#fb9f3a"
             ],
             [
              0.8888888888888888,
              "#fdca26"
             ],
             [
              1,
              "#f0f921"
             ]
            ],
            "type": "histogram2d"
           }
          ],
          "histogram2dcontour": [
           {
            "colorbar": {
             "outlinewidth": 0,
             "ticks": ""
            },
            "colorscale": [
             [
              0,
              "#0d0887"
             ],
             [
              0.1111111111111111,
              "#46039f"
             ],
             [
              0.2222222222222222,
              "#7201a8"
             ],
             [
              0.3333333333333333,
              "#9c179e"
             ],
             [
              0.4444444444444444,
              "#bd3786"
             ],
             [
              0.5555555555555556,
              "#d8576b"
             ],
             [
              0.6666666666666666,
              "#ed7953"
             ],
             [
              0.7777777777777778,
              "#fb9f3a"
             ],
             [
              0.8888888888888888,
              "#fdca26"
             ],
             [
              1,
              "#f0f921"
             ]
            ],
            "type": "histogram2dcontour"
           }
          ],
          "mesh3d": [
           {
            "colorbar": {
             "outlinewidth": 0,
             "ticks": ""
            },
            "type": "mesh3d"
           }
          ],
          "parcoords": [
           {
            "line": {
             "colorbar": {
              "outlinewidth": 0,
              "ticks": ""
             }
            },
            "type": "parcoords"
           }
          ],
          "pie": [
           {
            "automargin": true,
            "type": "pie"
           }
          ],
          "scatter": [
           {
            "fillpattern": {
             "fillmode": "overlay",
             "size": 10,
             "solidity": 0.2
            },
            "type": "scatter"
           }
          ],
          "scatter3d": [
           {
            "line": {
             "colorbar": {
              "outlinewidth": 0,
              "ticks": ""
             }
            },
            "marker": {
             "colorbar": {
              "outlinewidth": 0,
              "ticks": ""
             }
            },
            "type": "scatter3d"
           }
          ],
          "scattercarpet": [
           {
            "marker": {
             "colorbar": {
              "outlinewidth": 0,
              "ticks": ""
             }
            },
            "type": "scattercarpet"
           }
          ],
          "scattergeo": [
           {
            "marker": {
             "colorbar": {
              "outlinewidth": 0,
              "ticks": ""
             }
            },
            "type": "scattergeo"
           }
          ],
          "scattergl": [
           {
            "marker": {
             "colorbar": {
              "outlinewidth": 0,
              "ticks": ""
             }
            },
            "type": "scattergl"
           }
          ],
          "scattermapbox": [
           {
            "marker": {
             "colorbar": {
              "outlinewidth": 0,
              "ticks": ""
             }
            },
            "type": "scattermapbox"
           }
          ],
          "scatterpolar": [
           {
            "marker": {
             "colorbar": {
              "outlinewidth": 0,
              "ticks": ""
             }
            },
            "type": "scatterpolar"
           }
          ],
          "scatterpolargl": [
           {
            "marker": {
             "colorbar": {
              "outlinewidth": 0,
              "ticks": ""
             }
            },
            "type": "scatterpolargl"
           }
          ],
          "scatterternary": [
           {
            "marker": {
             "colorbar": {
              "outlinewidth": 0,
              "ticks": ""
             }
            },
            "type": "scatterternary"
           }
          ],
          "surface": [
           {
            "colorbar": {
             "outlinewidth": 0,
             "ticks": ""
            },
            "colorscale": [
             [
              0,
              "#0d0887"
             ],
             [
              0.1111111111111111,
              "#46039f"
             ],
             [
              0.2222222222222222,
              "#7201a8"
             ],
             [
              0.3333333333333333,
              "#9c179e"
             ],
             [
              0.4444444444444444,
              "#bd3786"
             ],
             [
              0.5555555555555556,
              "#d8576b"
             ],
             [
              0.6666666666666666,
              "#ed7953"
             ],
             [
              0.7777777777777778,
              "#fb9f3a"
             ],
             [
              0.8888888888888888,
              "#fdca26"
             ],
             [
              1,
              "#f0f921"
             ]
            ],
            "type": "surface"
           }
          ],
          "table": [
           {
            "cells": {
             "fill": {
              "color": "#EBF0F8"
             },
             "line": {
              "color": "white"
             }
            },
            "header": {
             "fill": {
              "color": "#C8D4E3"
             },
             "line": {
              "color": "white"
             }
            },
            "type": "table"
           }
          ]
         },
         "layout": {
          "annotationdefaults": {
           "arrowcolor": "#2a3f5f",
           "arrowhead": 0,
           "arrowwidth": 1
          },
          "autotypenumbers": "strict",
          "coloraxis": {
           "colorbar": {
            "outlinewidth": 0,
            "ticks": ""
           }
          },
          "colorscale": {
           "diverging": [
            [
             0,
             "#8e0152"
            ],
            [
             0.1,
             "#c51b7d"
            ],
            [
             0.2,
             "#de77ae"
            ],
            [
             0.3,
             "#f1b6da"
            ],
            [
             0.4,
             "#fde0ef"
            ],
            [
             0.5,
             "#f7f7f7"
            ],
            [
             0.6,
             "#e6f5d0"
            ],
            [
             0.7,
             "#b8e186"
            ],
            [
             0.8,
             "#7fbc41"
            ],
            [
             0.9,
             "#4d9221"
            ],
            [
             1,
             "#276419"
            ]
           ],
           "sequential": [
            [
             0,
             "#0d0887"
            ],
            [
             0.1111111111111111,
             "#46039f"
            ],
            [
             0.2222222222222222,
             "#7201a8"
            ],
            [
             0.3333333333333333,
             "#9c179e"
            ],
            [
             0.4444444444444444,
             "#bd3786"
            ],
            [
             0.5555555555555556,
             "#d8576b"
            ],
            [
             0.6666666666666666,
             "#ed7953"
            ],
            [
             0.7777777777777778,
             "#fb9f3a"
            ],
            [
             0.8888888888888888,
             "#fdca26"
            ],
            [
             1,
             "#f0f921"
            ]
           ],
           "sequentialminus": [
            [
             0,
             "#0d0887"
            ],
            [
             0.1111111111111111,
             "#46039f"
            ],
            [
             0.2222222222222222,
             "#7201a8"
            ],
            [
             0.3333333333333333,
             "#9c179e"
            ],
            [
             0.4444444444444444,
             "#bd3786"
            ],
            [
             0.5555555555555556,
             "#d8576b"
            ],
            [
             0.6666666666666666,
             "#ed7953"
            ],
            [
             0.7777777777777778,
             "#fb9f3a"
            ],
            [
             0.8888888888888888,
             "#fdca26"
            ],
            [
             1,
             "#f0f921"
            ]
           ]
          },
          "colorway": [
           "#636efa",
           "#EF553B",
           "#00cc96",
           "#ab63fa",
           "#FFA15A",
           "#19d3f3",
           "#FF6692",
           "#B6E880",
           "#FF97FF",
           "#FECB52"
          ],
          "font": {
           "color": "#2a3f5f"
          },
          "geo": {
           "bgcolor": "white",
           "lakecolor": "white",
           "landcolor": "#E5ECF6",
           "showlakes": true,
           "showland": true,
           "subunitcolor": "white"
          },
          "hoverlabel": {
           "align": "left"
          },
          "hovermode": "closest",
          "mapbox": {
           "style": "light"
          },
          "paper_bgcolor": "white",
          "plot_bgcolor": "#E5ECF6",
          "polar": {
           "angularaxis": {
            "gridcolor": "white",
            "linecolor": "white",
            "ticks": ""
           },
           "bgcolor": "#E5ECF6",
           "radialaxis": {
            "gridcolor": "white",
            "linecolor": "white",
            "ticks": ""
           }
          },
          "scene": {
           "xaxis": {
            "backgroundcolor": "#E5ECF6",
            "gridcolor": "white",
            "gridwidth": 2,
            "linecolor": "white",
            "showbackground": true,
            "ticks": "",
            "zerolinecolor": "white"
           },
           "yaxis": {
            "backgroundcolor": "#E5ECF6",
            "gridcolor": "white",
            "gridwidth": 2,
            "linecolor": "white",
            "showbackground": true,
            "ticks": "",
            "zerolinecolor": "white"
           },
           "zaxis": {
            "backgroundcolor": "#E5ECF6",
            "gridcolor": "white",
            "gridwidth": 2,
            "linecolor": "white",
            "showbackground": true,
            "ticks": "",
            "zerolinecolor": "white"
           }
          },
          "shapedefaults": {
           "line": {
            "color": "#2a3f5f"
           }
          },
          "ternary": {
           "aaxis": {
            "gridcolor": "white",
            "linecolor": "white",
            "ticks": ""
           },
           "baxis": {
            "gridcolor": "white",
            "linecolor": "white",
            "ticks": ""
           },
           "bgcolor": "#E5ECF6",
           "caxis": {
            "gridcolor": "white",
            "linecolor": "white",
            "ticks": ""
           }
          },
          "title": {
           "x": 0.05
          },
          "xaxis": {
           "automargin": true,
           "gridcolor": "white",
           "linecolor": "white",
           "ticks": "",
           "title": {
            "standoff": 15
           },
           "zerolinecolor": "white",
           "zerolinewidth": 2
          },
          "yaxis": {
           "automargin": true,
           "gridcolor": "white",
           "linecolor": "white",
           "ticks": "",
           "title": {
            "standoff": 15
           },
           "zerolinecolor": "white",
           "zerolinewidth": 2
          }
         }
        },
        "title": {
         "text": "Sales Performance Before, During, and After Holidays"
        },
        "xaxis": {
         "anchor": "y",
         "domain": [
          0,
          1
         ],
         "title": {
          "text": "Holiday Status"
         }
        },
        "yaxis": {
         "anchor": "x",
         "domain": [
          0,
          1
         ],
         "title": {
          "text": "Sales"
         }
        }
       }
      },
      "text/html": [
       "<div>                            <div id=\"2194a6c9-711d-4a1c-8d8f-d3c11909a22e\" class=\"plotly-graph-div\" style=\"height:600px; width:100%;\"></div>            <script type=\"text/javascript\">                require([\"plotly\"], function(Plotly) {                    window.PLOTLYENV=window.PLOTLYENV || {};                                    if (document.getElementById(\"2194a6c9-711d-4a1c-8d8f-d3c11909a22e\")) {                    Plotly.newPlot(                        \"2194a6c9-711d-4a1c-8d8f-d3c11909a22e\",                        [{\"alignmentgroup\":\"True\",\"hovertemplate\":\"variable=total_qty\\u003cbr\\u003eHoliday Status=%{x}\\u003cbr\\u003eSales=%{y}\\u003cextra\\u003e\\u003c\\u002fextra\\u003e\",\"legendgroup\":\"total_qty\",\"marker\":{\"color\":\"#636efa\",\"pattern\":{\"shape\":\"\"}},\"name\":\"total_qty\",\"offsetgroup\":\"total_qty\",\"orientation\":\"v\",\"showlegend\":true,\"textposition\":\"auto\",\"x\":[\"After Holiday\",\"Holiday\"],\"xaxis\":\"x\",\"y\":[113336.0,3313.0],\"yaxis\":\"y\",\"type\":\"bar\"},{\"alignmentgroup\":\"True\",\"hovertemplate\":\"variable=total_amount\\u003cbr\\u003eHoliday Status=%{x}\\u003cbr\\u003eSales=%{y}\\u003cextra\\u003e\\u003c\\u002fextra\\u003e\",\"legendgroup\":\"total_amount\",\"marker\":{\"color\":\"#EF553B\",\"pattern\":{\"shape\":\"\"}},\"name\":\"total_amount\",\"offsetgroup\":\"total_amount\",\"orientation\":\"v\",\"showlegend\":true,\"textposition\":\"auto\",\"x\":[\"After Holiday\",\"Holiday\"],\"xaxis\":\"x\",\"y\":[76288609.02,2304069.28],\"yaxis\":\"y\",\"type\":\"bar\"}],                        {\"template\":{\"data\":{\"histogram2dcontour\":[{\"type\":\"histogram2dcontour\",\"colorbar\":{\"outlinewidth\":0,\"ticks\":\"\"},\"colorscale\":[[0.0,\"#0d0887\"],[0.1111111111111111,\"#46039f\"],[0.2222222222222222,\"#7201a8\"],[0.3333333333333333,\"#9c179e\"],[0.4444444444444444,\"#bd3786\"],[0.5555555555555556,\"#d8576b\"],[0.6666666666666666,\"#ed7953\"],[0.7777777777777778,\"#fb9f3a\"],[0.8888888888888888,\"#fdca26\"],[1.0,\"#f0f921\"]]}],\"choropleth\":[{\"type\":\"choropleth\",\"colorbar\":{\"outlinewidth\":0,\"ticks\":\"\"}}],\"histogram2d\":[{\"type\":\"histogram2d\",\"colorbar\":{\"outlinewidth\":0,\"ticks\":\"\"},\"colorscale\":[[0.0,\"#0d0887\"],[0.1111111111111111,\"#46039f\"],[0.2222222222222222,\"#7201a8\"],[0.3333333333333333,\"#9c179e\"],[0.4444444444444444,\"#bd3786\"],[0.5555555555555556,\"#d8576b\"],[0.6666666666666666,\"#ed7953\"],[0.7777777777777778,\"#fb9f3a\"],[0.8888888888888888,\"#fdca26\"],[1.0,\"#f0f921\"]]}],\"heatmap\":[{\"type\":\"heatmap\",\"colorbar\":{\"outlinewidth\":0,\"ticks\":\"\"},\"colorscale\":[[0.0,\"#0d0887\"],[0.1111111111111111,\"#46039f\"],[0.2222222222222222,\"#7201a8\"],[0.3333333333333333,\"#9c179e\"],[0.4444444444444444,\"#bd3786\"],[0.5555555555555556,\"#d8576b\"],[0.6666666666666666,\"#ed7953\"],[0.7777777777777778,\"#fb9f3a\"],[0.8888888888888888,\"#fdca26\"],[1.0,\"#f0f921\"]]}],\"heatmapgl\":[{\"type\":\"heatmapgl\",\"colorbar\":{\"outlinewidth\":0,\"ticks\":\"\"},\"colorscale\":[[0.0,\"#0d0887\"],[0.1111111111111111,\"#46039f\"],[0.2222222222222222,\"#7201a8\"],[0.3333333333333333,\"#9c179e\"],[0.4444444444444444,\"#bd3786\"],[0.5555555555555556,\"#d8576b\"],[0.6666666666666666,\"#ed7953\"],[0.7777777777777778,\"#fb9f3a\"],[0.8888888888888888,\"#fdca26\"],[1.0,\"#f0f921\"]]}],\"contourcarpet\":[{\"type\":\"contourcarpet\",\"colorbar\":{\"outlinewidth\":0,\"ticks\":\"\"}}],\"contour\":[{\"type\":\"contour\",\"colorbar\":{\"outlinewidth\":0,\"ticks\":\"\"},\"colorscale\":[[0.0,\"#0d0887\"],[0.1111111111111111,\"#46039f\"],[0.2222222222222222,\"#7201a8\"],[0.3333333333333333,\"#9c179e\"],[0.4444444444444444,\"#bd3786\"],[0.5555555555555556,\"#d8576b\"],[0.6666666666666666,\"#ed7953\"],[0.7777777777777778,\"#fb9f3a\"],[0.8888888888888888,\"#fdca26\"],[1.0,\"#f0f921\"]]}],\"surface\":[{\"type\":\"surface\",\"colorbar\":{\"outlinewidth\":0,\"ticks\":\"\"},\"colorscale\":[[0.0,\"#0d0887\"],[0.1111111111111111,\"#46039f\"],[0.2222222222222222,\"#7201a8\"],[0.3333333333333333,\"#9c179e\"],[0.4444444444444444,\"#bd3786\"],[0.5555555555555556,\"#d8576b\"],[0.6666666666666666,\"#ed7953\"],[0.7777777777777778,\"#fb9f3a\"],[0.8888888888888888,\"#fdca26\"],[1.0,\"#f0f921\"]]}],\"mesh3d\":[{\"type\":\"mesh3d\",\"colorbar\":{\"outlinewidth\":0,\"ticks\":\"\"}}],\"scatter\":[{\"fillpattern\":{\"fillmode\":\"overlay\",\"size\":10,\"solidity\":0.2},\"type\":\"scatter\"}],\"parcoords\":[{\"type\":\"parcoords\",\"line\":{\"colorbar\":{\"outlinewidth\":0,\"ticks\":\"\"}}}],\"scatterpolargl\":[{\"type\":\"scatterpolargl\",\"marker\":{\"colorbar\":{\"outlinewidth\":0,\"ticks\":\"\"}}}],\"bar\":[{\"error_x\":{\"color\":\"#2a3f5f\"},\"error_y\":{\"color\":\"#2a3f5f\"},\"marker\":{\"line\":{\"color\":\"#E5ECF6\",\"width\":0.5},\"pattern\":{\"fillmode\":\"overlay\",\"size\":10,\"solidity\":0.2}},\"type\":\"bar\"}],\"scattergeo\":[{\"type\":\"scattergeo\",\"marker\":{\"colorbar\":{\"outlinewidth\":0,\"ticks\":\"\"}}}],\"scatterpolar\":[{\"type\":\"scatterpolar\",\"marker\":{\"colorbar\":{\"outlinewidth\":0,\"ticks\":\"\"}}}],\"histogram\":[{\"marker\":{\"pattern\":{\"fillmode\":\"overlay\",\"size\":10,\"solidity\":0.2}},\"type\":\"histogram\"}],\"scattergl\":[{\"type\":\"scattergl\",\"marker\":{\"colorbar\":{\"outlinewidth\":0,\"ticks\":\"\"}}}],\"scatter3d\":[{\"type\":\"scatter3d\",\"line\":{\"colorbar\":{\"outlinewidth\":0,\"ticks\":\"\"}},\"marker\":{\"colorbar\":{\"outlinewidth\":0,\"ticks\":\"\"}}}],\"scattermapbox\":[{\"type\":\"scattermapbox\",\"marker\":{\"colorbar\":{\"outlinewidth\":0,\"ticks\":\"\"}}}],\"scatterternary\":[{\"type\":\"scatterternary\",\"marker\":{\"colorbar\":{\"outlinewidth\":0,\"ticks\":\"\"}}}],\"scattercarpet\":[{\"type\":\"scattercarpet\",\"marker\":{\"colorbar\":{\"outlinewidth\":0,\"ticks\":\"\"}}}],\"carpet\":[{\"aaxis\":{\"endlinecolor\":\"#2a3f5f\",\"gridcolor\":\"white\",\"linecolor\":\"white\",\"minorgridcolor\":\"white\",\"startlinecolor\":\"#2a3f5f\"},\"baxis\":{\"endlinecolor\":\"#2a3f5f\",\"gridcolor\":\"white\",\"linecolor\":\"white\",\"minorgridcolor\":\"white\",\"startlinecolor\":\"#2a3f5f\"},\"type\":\"carpet\"}],\"table\":[{\"cells\":{\"fill\":{\"color\":\"#EBF0F8\"},\"line\":{\"color\":\"white\"}},\"header\":{\"fill\":{\"color\":\"#C8D4E3\"},\"line\":{\"color\":\"white\"}},\"type\":\"table\"}],\"barpolar\":[{\"marker\":{\"line\":{\"color\":\"#E5ECF6\",\"width\":0.5},\"pattern\":{\"fillmode\":\"overlay\",\"size\":10,\"solidity\":0.2}},\"type\":\"barpolar\"}],\"pie\":[{\"automargin\":true,\"type\":\"pie\"}]},\"layout\":{\"autotypenumbers\":\"strict\",\"colorway\":[\"#636efa\",\"#EF553B\",\"#00cc96\",\"#ab63fa\",\"#FFA15A\",\"#19d3f3\",\"#FF6692\",\"#B6E880\",\"#FF97FF\",\"#FECB52\"],\"font\":{\"color\":\"#2a3f5f\"},\"hovermode\":\"closest\",\"hoverlabel\":{\"align\":\"left\"},\"paper_bgcolor\":\"white\",\"plot_bgcolor\":\"#E5ECF6\",\"polar\":{\"bgcolor\":\"#E5ECF6\",\"angularaxis\":{\"gridcolor\":\"white\",\"linecolor\":\"white\",\"ticks\":\"\"},\"radialaxis\":{\"gridcolor\":\"white\",\"linecolor\":\"white\",\"ticks\":\"\"}},\"ternary\":{\"bgcolor\":\"#E5ECF6\",\"aaxis\":{\"gridcolor\":\"white\",\"linecolor\":\"white\",\"ticks\":\"\"},\"baxis\":{\"gridcolor\":\"white\",\"linecolor\":\"white\",\"ticks\":\"\"},\"caxis\":{\"gridcolor\":\"white\",\"linecolor\":\"white\",\"ticks\":\"\"}},\"coloraxis\":{\"colorbar\":{\"outlinewidth\":0,\"ticks\":\"\"}},\"colorscale\":{\"sequential\":[[0.0,\"#0d0887\"],[0.1111111111111111,\"#46039f\"],[0.2222222222222222,\"#7201a8\"],[0.3333333333333333,\"#9c179e\"],[0.4444444444444444,\"#bd3786\"],[0.5555555555555556,\"#d8576b\"],[0.6666666666666666,\"#ed7953\"],[0.7777777777777778,\"#fb9f3a\"],[0.8888888888888888,\"#fdca26\"],[1.0,\"#f0f921\"]],\"sequentialminus\":[[0.0,\"#0d0887\"],[0.1111111111111111,\"#46039f\"],[0.2222222222222222,\"#7201a8\"],[0.3333333333333333,\"#9c179e\"],[0.4444444444444444,\"#bd3786\"],[0.5555555555555556,\"#d8576b\"],[0.6666666666666666,\"#ed7953\"],[0.7777777777777778,\"#fb9f3a\"],[0.8888888888888888,\"#fdca26\"],[1.0,\"#f0f921\"]],\"diverging\":[[0,\"#8e0152\"],[0.1,\"#c51b7d\"],[0.2,\"#de77ae\"],[0.3,\"#f1b6da\"],[0.4,\"#fde0ef\"],[0.5,\"#f7f7f7\"],[0.6,\"#e6f5d0\"],[0.7,\"#b8e186\"],[0.8,\"#7fbc41\"],[0.9,\"#4d9221\"],[1,\"#276419\"]]},\"xaxis\":{\"gridcolor\":\"white\",\"linecolor\":\"white\",\"ticks\":\"\",\"title\":{\"standoff\":15},\"zerolinecolor\":\"white\",\"automargin\":true,\"zerolinewidth\":2},\"yaxis\":{\"gridcolor\":\"white\",\"linecolor\":\"white\",\"ticks\":\"\",\"title\":{\"standoff\":15},\"zerolinecolor\":\"white\",\"automargin\":true,\"zerolinewidth\":2},\"scene\":{\"xaxis\":{\"backgroundcolor\":\"#E5ECF6\",\"gridcolor\":\"white\",\"linecolor\":\"white\",\"showbackground\":true,\"ticks\":\"\",\"zerolinecolor\":\"white\",\"gridwidth\":2},\"yaxis\":{\"backgroundcolor\":\"#E5ECF6\",\"gridcolor\":\"white\",\"linecolor\":\"white\",\"showbackground\":true,\"ticks\":\"\",\"zerolinecolor\":\"white\",\"gridwidth\":2},\"zaxis\":{\"backgroundcolor\":\"#E5ECF6\",\"gridcolor\":\"white\",\"linecolor\":\"white\",\"showbackground\":true,\"ticks\":\"\",\"zerolinecolor\":\"white\",\"gridwidth\":2}},\"shapedefaults\":{\"line\":{\"color\":\"#2a3f5f\"}},\"annotationdefaults\":{\"arrowcolor\":\"#2a3f5f\",\"arrowhead\":0,\"arrowwidth\":1},\"geo\":{\"bgcolor\":\"white\",\"landcolor\":\"#E5ECF6\",\"subunitcolor\":\"white\",\"showland\":true,\"showlakes\":true,\"lakecolor\":\"white\"},\"title\":{\"x\":0.05},\"mapbox\":{\"style\":\"light\"}}},\"xaxis\":{\"anchor\":\"y\",\"domain\":[0.0,1.0],\"title\":{\"text\":\"Holiday Status\"}},\"yaxis\":{\"anchor\":\"x\",\"domain\":[0.0,1.0],\"title\":{\"text\":\"Sales\"}},\"legend\":{\"title\":{\"text\":\"variable\"},\"tracegroupgap\":0},\"title\":{\"text\":\"Sales Performance Before, During, and After Holidays\"},\"barmode\":\"group\",\"height\":600},                        {\"responsive\": true}                    ).then(function(){\n",
       "                            \n",
       "var gd = document.getElementById('2194a6c9-711d-4a1c-8d8f-d3c11909a22e');\n",
       "var x = new MutationObserver(function (mutations, observer) {{\n",
       "        var display = window.getComputedStyle(gd).display;\n",
       "        if (!display || display === 'none') {{\n",
       "            console.log([gd, 'removed!']);\n",
       "            Plotly.purge(gd);\n",
       "            observer.disconnect();\n",
       "        }}\n",
       "}});\n",
       "\n",
       "// Listen for the removal of the full notebook cells\n",
       "var notebookContainer = gd.closest('#notebook-container');\n",
       "if (notebookContainer) {{\n",
       "    x.observe(notebookContainer, {childList: true});\n",
       "}}\n",
       "\n",
       "// Listen for the clearing of the current output cell\n",
       "var outputEl = gd.closest('.output');\n",
       "if (outputEl) {{\n",
       "    x.observe(outputEl, {childList: true});\n",
       "}}\n",
       "\n",
       "                        })                };                });            </script>        </div>"
      ]
     },
     "metadata": {},
     "output_type": "display_data"
    }
   ],
   "source": [
    "Amazon_df['Holiday_Status'] = Amazon_df['Date'].apply(categorize_sales)\n",
    "\n",
    "sales_by_holiday = Amazon_df.groupby('Holiday_Status').agg(total_qty=('Qty', 'sum'),total_amount=('Amount', 'sum')).reset_index()\n",
    "\n",
    "\n",
    "fig = px.bar(sales_by_holiday, x='Holiday_Status', y=['total_qty', 'total_amount'], \n",
    "             title='Sales Performance Before, During, and After Holidays',\n",
    "             labels={'value': 'Sales', 'Holiday_Status': 'Holiday Status'},\n",
    "             barmode='group', height=600)\n",
    "\n",
    "# Show the plot\n",
    "fig.show()"
   ]
  },
  {
   "cell_type": "code",
   "execution_count": 44,
   "metadata": {},
   "outputs": [],
   "source": [
    "IQR = Amazon_df['Amount'].quantile(0.75) - Amazon_df['Amount'].quantile(0.25)\n",
    "1.5*IQR\n",
    "upper_bound = Amazon_df['Amount'].quantile(0.75) + 1.5*IQR   \n",
    "lower_bound = Amazon_df['Amount'].quantile(0.25) - 1.5*IQR \n",
    "\n",
    "Median = Amazon_df['Amount'].median()\n",
    "Amazon_df['Amount'] = Amazon_df['Amount'].apply(lambda x: Median if x > upper_bound  or x < lower_bound else x) \n",
    "Amazon_df['Amount'] = Amazon_df['Amount'].apply(lambda x: Median if x == 0 else x) "
   ]
  },
  {
   "cell_type": "code",
   "execution_count": 45,
   "metadata": {},
   "outputs": [
    {
     "data": {
      "image/png": "[encoded data removed]",
      "text/plain": [
       "<Figure size 800x500 with 1 Axes>"
      ]
     },
     "metadata": {},
     "output_type": "display_data"
    }
   ],
   "source": [
    "fig, my_ax = plt.subplots(figsize=(8,5))\n",
    "\n",
    "sns.histplot(data = Amazon_df['Amount'], ax=my_ax, binwidth=100, kde=True)\n",
    "plt.grid(linestyle='--',color='#000000')\n",
    "plt.title(\"Distribution of Sales Amount across Count of Orders\")\n",
    "plt.tight_layout()"
   ]
  },
  {
   "cell_type": "code",
   "execution_count": 46,
   "metadata": {},
   "outputs": [
    {
     "data": {
      "text/html": [
       "<div>\n",
       "<style scoped>\n",
       "    .dataframe tbody tr th:only-of-type {\n",
       "        vertical-align: middle;\n",
       "    }\n",
       "\n",
       "    .dataframe tbody tr th {\n",
       "        vertical-align: top;\n",
       "    }\n",
       "\n",
       "    .dataframe thead th {\n",
       "        text-align: right;\n",
       "    }\n",
       "</style>\n",
       "<table border=\"1\" class=\"dataframe\">\n",
       "  <thead>\n",
       "    <tr style=\"text-align: right;\">\n",
       "      <th></th>\n",
       "      <th>Amount</th>\n",
       "    </tr>\n",
       "    <tr>\n",
       "      <th>Category</th>\n",
       "      <th></th>\n",
       "    </tr>\n",
       "  </thead>\n",
       "  <tbody>\n",
       "    <tr>\n",
       "      <th>Set</th>\n",
       "      <td>36935117.71</td>\n",
       "    </tr>\n",
       "    <tr>\n",
       "      <th>kurta</th>\n",
       "      <td>21786561.22</td>\n",
       "    </tr>\n",
       "    <tr>\n",
       "      <th>Western Dress</th>\n",
       "      <td>11304814.12</td>\n",
       "    </tr>\n",
       "    <tr>\n",
       "      <th>Top</th>\n",
       "      <td>5446284.30</td>\n",
       "    </tr>\n",
       "    <tr>\n",
       "      <th>Ethnic Dress</th>\n",
       "      <td>795621.66</td>\n",
       "    </tr>\n",
       "  </tbody>\n",
       "</table>\n",
       "</div>"
      ],
      "text/plain": [
       "                    Amount\n",
       "Category                  \n",
       "Set            36935117.71\n",
       "kurta          21786561.22\n",
       "Western Dress  11304814.12\n",
       "Top             5446284.30\n",
       "Ethnic Dress     795621.66"
      ]
     },
     "execution_count": 46,
     "metadata": {},
     "output_type": "execute_result"
    }
   ],
   "source": [
    "Top5_Trending_product=Amazon_df.groupby('Category')['Amount'].sum().to_frame().sort_values(by=['Amount'],ascending=False).head(5)\n",
    "Top5_Trending_product"
   ]
  },
  {
   "cell_type": "code",
   "execution_count": 47,
   "metadata": {},
   "outputs": [
    {
     "data": {
      "image/png": "[encoded data removed]",
      "text/plain": [
       "<Figure size 640x480 with 1 Axes>"
      ]
     },
     "metadata": {},
     "output_type": "display_data"
    }
   ],
   "source": [
    "Top5_Trending_product.plot(kind='bar',color='#b01919')\n",
    "plt.title('Total Amount by Category', fontsize=18, weight='bold')\n",
    "plt.ylabel('Total Amount (in millions)', fontsize=14)\n",
    "plt.grid(True, axis='y', linestyle='--', alpha=0.7)\n",
    "plt.xticks(rotation=45, ha=\"right\")\n",
    "plt.legend()\n",
    "plt.tight_layout()\n",
    "plt.show()"
   ]
  },
  {
   "cell_type": "markdown",
   "metadata": {},
   "source": [
    "# **2. Cloud Warehouse Comparison:**\n",
    "* ##  Compare inventory levels and sales data across different cloud warehouses.\n",
    "* ##  Identify the most efficient warehouse in terms of sales turnover and inventory management."
   ]
  },
  {
   "cell_type": "code",
   "execution_count": 48,
   "metadata": {},
   "outputs": [
    {
     "data": {
      "text/html": [
       "<div>\n",
       "<style scoped>\n",
       "    .dataframe tbody tr th:only-of-type {\n",
       "        vertical-align: middle;\n",
       "    }\n",
       "\n",
       "    .dataframe tbody tr th {\n",
       "        vertical-align: top;\n",
       "    }\n",
       "\n",
       "    .dataframe thead th {\n",
       "        text-align: right;\n",
       "    }\n",
       "</style>\n",
       "<table border=\"1\" class=\"dataframe\">\n",
       "  <thead>\n",
       "    <tr style=\"text-align: right;\">\n",
       "      <th></th>\n",
       "      <th>index</th>\n",
       "      <th>Shiprocket</th>\n",
       "      <th>Unnamed: 1</th>\n",
       "      <th>INCREFF</th>\n",
       "    </tr>\n",
       "  </thead>\n",
       "  <tbody>\n",
       "    <tr>\n",
       "      <th>0</th>\n",
       "      <td>0</td>\n",
       "      <td>Heads</td>\n",
       "      <td>Price (Per Unit)</td>\n",
       "      <td>Price (Per Unit)</td>\n",
       "    </tr>\n",
       "    <tr>\n",
       "      <th>1</th>\n",
       "      <td>1</td>\n",
       "      <td>Inbound (Fresh Stock and RTO)</td>\n",
       "      <td>₹4.00</td>\n",
       "      <td>4</td>\n",
       "    </tr>\n",
       "    <tr>\n",
       "      <th>2</th>\n",
       "      <td>2</td>\n",
       "      <td>Outbound</td>\n",
       "      <td>₹7.00</td>\n",
       "      <td>11</td>\n",
       "    </tr>\n",
       "    <tr>\n",
       "      <th>3</th>\n",
       "      <td>3</td>\n",
       "      <td>Storage Fee/Cft</td>\n",
       "      <td>₹25.00</td>\n",
       "      <td>Rs 0.15/- Per Day</td>\n",
       "    </tr>\n",
       "    <tr>\n",
       "      <th>4</th>\n",
       "      <td>4</td>\n",
       "      <td>Customer Return with Detailed QC</td>\n",
       "      <td>₹6.00</td>\n",
       "      <td>15.5</td>\n",
       "    </tr>\n",
       "    <tr>\n",
       "      <th>5</th>\n",
       "      <td>5</td>\n",
       "      <td>(A) SCOPE OF WORK and STANDARD OPERATING PROCE...</td>\n",
       "      <td>NaN</td>\n",
       "      <td>NaN</td>\n",
       "    </tr>\n",
       "    <tr>\n",
       "      <th>6</th>\n",
       "      <td>6</td>\n",
       "      <td>Inward</td>\n",
       "      <td>Unloading</td>\n",
       "      <td>• Boxes counted and weighed. Data captured in ...</td>\n",
       "    </tr>\n",
       "    <tr>\n",
       "      <th>7</th>\n",
       "      <td>7</td>\n",
       "      <td>NaN</td>\n",
       "      <td>Validation</td>\n",
       "      <td>• GRN will be initiated against a valid PO doc...</td>\n",
       "    </tr>\n",
       "    <tr>\n",
       "      <th>8</th>\n",
       "      <td>8</td>\n",
       "      <td>NaN</td>\n",
       "      <td>QC</td>\n",
       "      <td>• No QC to be done (Outer Visual Inspection an...</td>\n",
       "    </tr>\n",
       "    <tr>\n",
       "      <th>9</th>\n",
       "      <td>9</td>\n",
       "      <td>NaN</td>\n",
       "      <td>GRN</td>\n",
       "      <td>•  Scanning (Goods will have scannable EAN cod...</td>\n",
       "    </tr>\n",
       "  </tbody>\n",
       "</table>\n",
       "</div>"
      ],
      "text/plain": [
       "   index                                         Shiprocket        Unnamed: 1  \\\n",
       "0      0                                              Heads  Price (Per Unit)   \n",
       "1      1                      Inbound (Fresh Stock and RTO)             ₹4.00   \n",
       "2      2                                           Outbound             ₹7.00   \n",
       "3      3                                    Storage Fee/Cft            ₹25.00   \n",
       "4      4                   Customer Return with Detailed QC             ₹6.00   \n",
       "5      5  (A) SCOPE OF WORK and STANDARD OPERATING PROCE...               NaN   \n",
       "6      6                                             Inward         Unloading   \n",
       "7      7                                                NaN        Validation   \n",
       "8      8                                                NaN                QC   \n",
       "9      9                                                NaN               GRN   \n",
       "\n",
       "                                             INCREFF  \n",
       "0                                   Price (Per Unit)  \n",
       "1                                                  4  \n",
       "2                                                 11  \n",
       "3                                  Rs 0.15/- Per Day  \n",
       "4                                               15.5  \n",
       "5                                                NaN  \n",
       "6  • Boxes counted and weighed. Data captured in ...  \n",
       "7  • GRN will be initiated against a valid PO doc...  \n",
       "8  • No QC to be done (Outer Visual Inspection an...  \n",
       "9  •  Scanning (Goods will have scannable EAN cod...  "
      ]
     },
     "execution_count": 48,
     "metadata": {},
     "output_type": "execute_result"
    }
   ],
   "source": [
    "Cloud_Warehouse_df.head(10)"
   ]
  },
  {
   "cell_type": "code",
   "execution_count": 49,
   "metadata": {},
   "outputs": [
    {
     "data": {
      "text/plain": [
       "Index(['index', 'Shiprocket', 'Unnamed: 1', 'INCREFF'], dtype='object')"
      ]
     },
     "execution_count": 49,
     "metadata": {},
     "output_type": "execute_result"
    }
   ],
   "source": [
    "Cloud_Warehouse_df.columns"
   ]
  },
  {
   "cell_type": "code",
   "execution_count": 50,
   "metadata": {},
   "outputs": [
    {
     "name": "stdout",
     "output_type": "stream",
     "text": [
      "<class 'pandas.core.frame.DataFrame'>\n",
      "RangeIndex: 50 entries, 0 to 49\n",
      "Data columns (total 4 columns):\n",
      " #   Column      Non-Null Count  Dtype \n",
      "---  ------      --------------  ----- \n",
      " 0   index       50 non-null     int64 \n",
      " 1   Shiprocket  21 non-null     object\n",
      " 2   Unnamed: 1  41 non-null     object\n",
      " 3   INCREFF     28 non-null     object\n",
      "dtypes: int64(1), object(3)\n",
      "memory usage: 1.7+ KB\n"
     ]
    }
   ],
   "source": [
    "Cloud_Warehouse_df.info()"
   ]
  },
  {
   "cell_type": "code",
   "execution_count": 51,
   "metadata": {},
   "outputs": [
    {
     "name": "stdout",
     "output_type": "stream",
     "text": [
      "<class 'pandas.core.frame.DataFrame'>\n",
      "RangeIndex: 16 entries, 0 to 15\n",
      "Data columns (total 6 columns):\n",
      " #   Column      Non-Null Count  Dtype  \n",
      "---  ------      --------------  -----  \n",
      " 0   index       16 non-null     int64  \n",
      " 1   Shiprocket  11 non-null     object \n",
      " 2   Unnamed: 1  16 non-null     object \n",
      " 3   INCREFF     12 non-null     object \n",
      " 4   Price       8 non-null      float64\n",
      " 5   Sales       12 non-null     float64\n",
      "dtypes: float64(2), int64(1), object(3)\n",
      "memory usage: 900.0+ bytes\n"
     ]
    }
   ],
   "source": [
    "# Clean price and sales columns, converting them to numeric\n",
    "Cloud_Warehouse_df['Price'] = pd.to_numeric(Cloud_Warehouse_df['Unnamed: 1'].str.replace('₹', '').str.extract('(\\d+\\.\\d+|\\d+)')[0], errors='coerce')\n",
    "Cloud_Warehouse_df['Sales'] = pd.to_numeric(Cloud_Warehouse_df['INCREFF'].str.extract('(\\d+\\.\\d+|\\d+)')[0], errors='coerce')\n",
    "\n",
    "filtered_df = Cloud_Warehouse_df.dropna(subset=['Price', 'Sales'], how='all').reset_index(drop=True)\n",
    "filtered_df.info()"
   ]
  },
  {
   "cell_type": "code",
   "execution_count": 52,
   "metadata": {},
   "outputs": [
    {
     "name": "stdout",
     "output_type": "stream",
     "text": [
      "                          Shiprocket  total_inventory_value  total_sales\n",
      "0                  Allowed Shrinkage                    0.0         0.20\n",
      "1                Customer Complaints                    0.0         0.20\n",
      "2   Customer Return with Detailed QC                    6.0        15.50\n",
      "3          Daily Processing Capacity                   11.0         0.00\n",
      "4      Inbound (Fresh Stock and RTO)                    4.0         4.00\n",
      "5               Inventory management                    0.0         3.00\n",
      "6                  Monthly Fill Rate                    0.0        99.80\n",
      "7                             Others                    0.0         7.00\n",
      "8                           Outbound                    7.0        11.00\n",
      "9                            Penalty                    0.0         2.00\n",
      "10                   Storage Fee/Cft                   25.0         0.15\n"
     ]
    }
   ],
   "source": [
    "# Group the filtered data to calculate inventory and sales totals\n",
    "summary = filtered_df.groupby('Shiprocket').agg(total_inventory_value=('Price', 'sum'),total_sales=('Sales', 'sum')).reset_index()\n",
    "print(summary)"
   ]
  },
  {
   "cell_type": "code",
   "execution_count": 53,
   "metadata": {},
   "outputs": [
    {
     "data": {
      "image/png": "[encoded data removed]",
      "text/plain": [
       "<Figure size 1000x600 with 1 Axes>"
      ]
     },
     "metadata": {},
     "output_type": "display_data"
    }
   ],
   "source": [
    "plt.figure(figsize=(10, 6))\n",
    "\n",
    "sns.barplot(x='Shiprocket', y='total_inventory_value', data=summary, color='orange', label='Inventory Value (₹)')\n",
    "sns.barplot(x='Shiprocket', y='total_sales', data=summary, color='blue', label='Sales (Units)')\n",
    "plt.title('Inventory Levels and Sales Across Warehouses/Processes')\n",
    "plt.ylabel('Total Value/Units')\n",
    "plt.xlabel('Warehouse/Process')\n",
    "plt.xticks(rotation=45)\n",
    "plt.legend()\n",
    "plt.tight_layout()\n",
    "plt.show()"
   ]
  },
  {
   "cell_type": "code",
   "execution_count": 54,
   "metadata": {},
   "outputs": [
    {
     "name": "stdout",
     "output_type": "stream",
     "text": [
      "Most Efficient Warehouse/Process:\n",
      "Shiprocket               Allowed Shrinkage\n",
      "total_inventory_value                  0.0\n",
      "total_sales                            0.2\n",
      "turnover_ratio                         inf\n",
      "Name: 0, dtype: object\n"
     ]
    }
   ],
   "source": [
    "summary['turnover_ratio'] = summary['total_sales'] / summary['total_inventory_value']\n",
    "\n",
    "\n",
    "most_efficient = summary.loc[summary['turnover_ratio'].idxmax()]\n",
    "print(\"Most Efficient Warehouse/Process:\")\n",
    "print(most_efficient)"
   ]
  },
  {
   "cell_type": "markdown",
   "metadata": {},
   "source": [
    "# **Expense IIGF:**\n",
    "* #  Analyze monthly expenses related to inventory, infrastructure, and general facilities.\n",
    "* #  Create visualizations to identify trends and suggest areas for cost reduction."
   ]
  },
  {
   "cell_type": "code",
   "execution_count": 55,
   "metadata": {},
   "outputs": [
    {
     "data": {
      "text/html": [
       "<div>\n",
       "<style scoped>\n",
       "    .dataframe tbody tr th:only-of-type {\n",
       "        vertical-align: middle;\n",
       "    }\n",
       "\n",
       "    .dataframe tbody tr th {\n",
       "        vertical-align: top;\n",
       "    }\n",
       "\n",
       "    .dataframe thead th {\n",
       "        text-align: right;\n",
       "    }\n",
       "</style>\n",
       "<table border=\"1\" class=\"dataframe\">\n",
       "  <thead>\n",
       "    <tr style=\"text-align: right;\">\n",
       "      <th></th>\n",
       "      <th>index</th>\n",
       "      <th>Recived Amount</th>\n",
       "      <th>Unnamed: 1</th>\n",
       "      <th>Expance</th>\n",
       "      <th>Unnamed: 3</th>\n",
       "    </tr>\n",
       "  </thead>\n",
       "  <tbody>\n",
       "    <tr>\n",
       "      <th>0</th>\n",
       "      <td>0</td>\n",
       "      <td>Particular</td>\n",
       "      <td>Amount</td>\n",
       "      <td>Particular</td>\n",
       "      <td>Amount</td>\n",
       "    </tr>\n",
       "    <tr>\n",
       "      <th>1</th>\n",
       "      <td>1</td>\n",
       "      <td>06-19-22</td>\n",
       "      <td>1000</td>\n",
       "      <td>Large Bag</td>\n",
       "      <td>380</td>\n",
       "    </tr>\n",
       "    <tr>\n",
       "      <th>2</th>\n",
       "      <td>2</td>\n",
       "      <td>06-20-22</td>\n",
       "      <td>1500</td>\n",
       "      <td>Stationary(Soft Pin, Paper pin for Dupatta, Fe...</td>\n",
       "      <td>170</td>\n",
       "    </tr>\n",
       "    <tr>\n",
       "      <th>3</th>\n",
       "      <td>3</td>\n",
       "      <td>06-22-22</td>\n",
       "      <td>500</td>\n",
       "      <td>OLA</td>\n",
       "      <td>839</td>\n",
       "    </tr>\n",
       "    <tr>\n",
       "      <th>4</th>\n",
       "      <td>4</td>\n",
       "      <td>06-23-22</td>\n",
       "      <td>2000</td>\n",
       "      <td>Auto Rent</td>\n",
       "      <td>520</td>\n",
       "    </tr>\n",
       "    <tr>\n",
       "      <th>5</th>\n",
       "      <td>5</td>\n",
       "      <td>NaN</td>\n",
       "      <td>NaN</td>\n",
       "      <td>TT Fine</td>\n",
       "      <td>500</td>\n",
       "    </tr>\n",
       "    <tr>\n",
       "      <th>6</th>\n",
       "      <td>6</td>\n",
       "      <td>NaN</td>\n",
       "      <td>NaN</td>\n",
       "      <td>Bhushan Hotel</td>\n",
       "      <td>2506</td>\n",
       "    </tr>\n",
       "    <tr>\n",
       "      <th>7</th>\n",
       "      <td>7</td>\n",
       "      <td>NaN</td>\n",
       "      <td>NaN</td>\n",
       "      <td>Food</td>\n",
       "      <td>1290</td>\n",
       "    </tr>\n",
       "    <tr>\n",
       "      <th>8</th>\n",
       "      <td>8</td>\n",
       "      <td>NaN</td>\n",
       "      <td>NaN</td>\n",
       "      <td>Expomart Labour Charge</td>\n",
       "      <td>200</td>\n",
       "    </tr>\n",
       "    <tr>\n",
       "      <th>9</th>\n",
       "      <td>9</td>\n",
       "      <td>NaN</td>\n",
       "      <td>NaN</td>\n",
       "      <td>Choclate</td>\n",
       "      <td>400</td>\n",
       "    </tr>\n",
       "  </tbody>\n",
       "</table>\n",
       "</div>"
      ],
      "text/plain": [
       "   index Recived Amount Unnamed: 1  \\\n",
       "0      0     Particular     Amount   \n",
       "1      1       06-19-22       1000   \n",
       "2      2       06-20-22       1500   \n",
       "3      3       06-22-22        500   \n",
       "4      4       06-23-22       2000   \n",
       "5      5            NaN        NaN   \n",
       "6      6            NaN        NaN   \n",
       "7      7            NaN        NaN   \n",
       "8      8            NaN        NaN   \n",
       "9      9            NaN        NaN   \n",
       "\n",
       "                                             Expance Unnamed: 3  \n",
       "0                                         Particular     Amount  \n",
       "1                                          Large Bag        380  \n",
       "2  Stationary(Soft Pin, Paper pin for Dupatta, Fe...        170  \n",
       "3                                                OLA        839  \n",
       "4                                          Auto Rent        520  \n",
       "5                                            TT Fine        500  \n",
       "6                                      Bhushan Hotel       2506  \n",
       "7                                               Food       1290  \n",
       "8                             Expomart Labour Charge        200  \n",
       "9                                           Choclate        400  "
      ]
     },
     "execution_count": 55,
     "metadata": {},
     "output_type": "execute_result"
    }
   ],
   "source": [
    "Expense_df.head(10)"
   ]
  },
  {
   "cell_type": "code",
   "execution_count": 56,
   "metadata": {},
   "outputs": [
    {
     "name": "stdout",
     "output_type": "stream",
     "text": [
      "<class 'pandas.core.frame.DataFrame'>\n",
      "RangeIndex: 17 entries, 0 to 16\n",
      "Data columns (total 5 columns):\n",
      " #   Column          Non-Null Count  Dtype \n",
      "---  ------          --------------  ----- \n",
      " 0   index           17 non-null     int64 \n",
      " 1   Recived Amount  6 non-null      object\n",
      " 2   Unnamed: 1      6 non-null      object\n",
      " 3   Expance         15 non-null     object\n",
      " 4   Unnamed: 3      17 non-null     object\n",
      "dtypes: int64(1), object(4)\n",
      "memory usage: 812.0+ bytes\n"
     ]
    }
   ],
   "source": [
    "Expense_df.info()"
   ]
  },
  {
   "cell_type": "markdown",
   "metadata": {},
   "source": [
    "# **International Sale Report:**\n",
    "* ## Compare international sales data across different regions.\n",
    "* ##  Identify the top-performing countries in terms of sales volume and revenue."
   ]
  },
  {
   "cell_type": "code",
   "execution_count": 57,
   "metadata": {},
   "outputs": [
    {
     "data": {
      "text/html": [
       "<div>\n",
       "<style scoped>\n",
       "    .dataframe tbody tr th:only-of-type {\n",
       "        vertical-align: middle;\n",
       "    }\n",
       "\n",
       "    .dataframe tbody tr th {\n",
       "        vertical-align: top;\n",
       "    }\n",
       "\n",
       "    .dataframe thead th {\n",
       "        text-align: right;\n",
       "    }\n",
       "</style>\n",
       "<table border=\"1\" class=\"dataframe\">\n",
       "  <thead>\n",
       "    <tr style=\"text-align: right;\">\n",
       "      <th></th>\n",
       "      <th>index</th>\n",
       "      <th>DATE</th>\n",
       "      <th>Months</th>\n",
       "      <th>CUSTOMER</th>\n",
       "      <th>Style</th>\n",
       "      <th>SKU</th>\n",
       "      <th>Size</th>\n",
       "      <th>PCS</th>\n",
       "      <th>RATE</th>\n",
       "      <th>GROSS AMT</th>\n",
       "    </tr>\n",
       "  </thead>\n",
       "  <tbody>\n",
       "    <tr>\n",
       "      <th>0</th>\n",
       "      <td>0</td>\n",
       "      <td>06-05-21</td>\n",
       "      <td>Jun-21</td>\n",
       "      <td>REVATHY LOGANATHAN</td>\n",
       "      <td>MEN5004</td>\n",
       "      <td>MEN5004-KR-L</td>\n",
       "      <td>L</td>\n",
       "      <td>1.00</td>\n",
       "      <td>616.56</td>\n",
       "      <td>617.00</td>\n",
       "    </tr>\n",
       "    <tr>\n",
       "      <th>1</th>\n",
       "      <td>1</td>\n",
       "      <td>06-05-21</td>\n",
       "      <td>Jun-21</td>\n",
       "      <td>REVATHY LOGANATHAN</td>\n",
       "      <td>MEN5004</td>\n",
       "      <td>MEN5004-KR-XL</td>\n",
       "      <td>XL</td>\n",
       "      <td>1.00</td>\n",
       "      <td>616.56</td>\n",
       "      <td>617.00</td>\n",
       "    </tr>\n",
       "    <tr>\n",
       "      <th>2</th>\n",
       "      <td>2</td>\n",
       "      <td>06-05-21</td>\n",
       "      <td>Jun-21</td>\n",
       "      <td>REVATHY LOGANATHAN</td>\n",
       "      <td>MEN5004</td>\n",
       "      <td>MEN5004-KR-XXL</td>\n",
       "      <td>XXL</td>\n",
       "      <td>1.00</td>\n",
       "      <td>616.56</td>\n",
       "      <td>617.00</td>\n",
       "    </tr>\n",
       "    <tr>\n",
       "      <th>3</th>\n",
       "      <td>3</td>\n",
       "      <td>06-05-21</td>\n",
       "      <td>Jun-21</td>\n",
       "      <td>REVATHY LOGANATHAN</td>\n",
       "      <td>MEN5009</td>\n",
       "      <td>MEN5009-KR-L</td>\n",
       "      <td>L</td>\n",
       "      <td>1.00</td>\n",
       "      <td>616.56</td>\n",
       "      <td>617.00</td>\n",
       "    </tr>\n",
       "    <tr>\n",
       "      <th>4</th>\n",
       "      <td>4</td>\n",
       "      <td>06-05-21</td>\n",
       "      <td>Jun-21</td>\n",
       "      <td>REVATHY LOGANATHAN</td>\n",
       "      <td>MEN5011</td>\n",
       "      <td>MEN5011-KR-L</td>\n",
       "      <td>L</td>\n",
       "      <td>1.00</td>\n",
       "      <td>616.56</td>\n",
       "      <td>617.00</td>\n",
       "    </tr>\n",
       "    <tr>\n",
       "      <th>...</th>\n",
       "      <td>...</td>\n",
       "      <td>...</td>\n",
       "      <td>...</td>\n",
       "      <td>...</td>\n",
       "      <td>...</td>\n",
       "      <td>...</td>\n",
       "      <td>...</td>\n",
       "      <td>...</td>\n",
       "      <td>...</td>\n",
       "      <td>...</td>\n",
       "    </tr>\n",
       "    <tr>\n",
       "      <th>37427</th>\n",
       "      <td>37427</td>\n",
       "      <td>AVIN</td>\n",
       "      <td>03-31-22</td>\n",
       "      <td>Mar-22</td>\n",
       "      <td>PJNE3423</td>\n",
       "      <td>PJNE3423-KR-4XL</td>\n",
       "      <td>1.00</td>\n",
       "      <td>537.50</td>\n",
       "      <td>538.00</td>\n",
       "      <td>4.00</td>\n",
       "    </tr>\n",
       "    <tr>\n",
       "      <th>37428</th>\n",
       "      <td>37428</td>\n",
       "      <td>AVIN</td>\n",
       "      <td>03-31-22</td>\n",
       "      <td>Mar-22</td>\n",
       "      <td>PJNE3404</td>\n",
       "      <td>PJNE3404-KR-4XL</td>\n",
       "      <td>1.00</td>\n",
       "      <td>500.00</td>\n",
       "      <td>500.00</td>\n",
       "      <td>5.00</td>\n",
       "    </tr>\n",
       "    <tr>\n",
       "      <th>37429</th>\n",
       "      <td>37429</td>\n",
       "      <td>AVIN</td>\n",
       "      <td>03-31-22</td>\n",
       "      <td>Mar-22</td>\n",
       "      <td>PJNE3423</td>\n",
       "      <td>PJNE3423-KR-4XL</td>\n",
       "      <td>1.00</td>\n",
       "      <td>537.50</td>\n",
       "      <td>538.00</td>\n",
       "      <td>4.00</td>\n",
       "    </tr>\n",
       "    <tr>\n",
       "      <th>37430</th>\n",
       "      <td>37430</td>\n",
       "      <td>AVIN</td>\n",
       "      <td>03-31-22</td>\n",
       "      <td>Mar-22</td>\n",
       "      <td>SET290</td>\n",
       "      <td>SET290-KR-DPT-M</td>\n",
       "      <td>1.00</td>\n",
       "      <td>812.50</td>\n",
       "      <td>812.00</td>\n",
       "      <td>7.00</td>\n",
       "    </tr>\n",
       "    <tr>\n",
       "      <th>37431</th>\n",
       "      <td>37431</td>\n",
       "      <td>AVIN</td>\n",
       "      <td>03-31-22</td>\n",
       "      <td>Mar-22</td>\n",
       "      <td>SHIPPING</td>\n",
       "      <td>SHIPPING</td>\n",
       "      <td>1.00</td>\n",
       "      <td>3666.00</td>\n",
       "      <td>3666.00</td>\n",
       "      <td>0.00</td>\n",
       "    </tr>\n",
       "  </tbody>\n",
       "</table>\n",
       "<p>37432 rows × 10 columns</p>\n",
       "</div>"
      ],
      "text/plain": [
       "       index      DATE    Months            CUSTOMER     Style  \\\n",
       "0          0  06-05-21    Jun-21  REVATHY LOGANATHAN   MEN5004   \n",
       "1          1  06-05-21    Jun-21  REVATHY LOGANATHAN   MEN5004   \n",
       "2          2  06-05-21    Jun-21  REVATHY LOGANATHAN   MEN5004   \n",
       "3          3  06-05-21    Jun-21  REVATHY LOGANATHAN   MEN5009   \n",
       "4          4  06-05-21    Jun-21  REVATHY LOGANATHAN   MEN5011   \n",
       "...      ...       ...       ...                 ...       ...   \n",
       "37427  37427    AVIN    03-31-22              Mar-22  PJNE3423   \n",
       "37428  37428    AVIN    03-31-22              Mar-22  PJNE3404   \n",
       "37429  37429    AVIN    03-31-22              Mar-22  PJNE3423   \n",
       "37430  37430    AVIN    03-31-22              Mar-22    SET290   \n",
       "37431  37431    AVIN    03-31-22              Mar-22  SHIPPING   \n",
       "\n",
       "                   SKU  Size      PCS     RATE GROSS AMT  \n",
       "0         MEN5004-KR-L     L     1.00   616.56    617.00  \n",
       "1        MEN5004-KR-XL    XL     1.00   616.56    617.00  \n",
       "2       MEN5004-KR-XXL   XXL     1.00   616.56    617.00  \n",
       "3         MEN5009-KR-L     L     1.00   616.56    617.00  \n",
       "4         MEN5011-KR-L     L     1.00   616.56    617.00  \n",
       "...                ...   ...      ...      ...       ...  \n",
       "37427  PJNE3423-KR-4XL  1.00   537.50   538.00      4.00  \n",
       "37428  PJNE3404-KR-4XL  1.00   500.00   500.00      5.00  \n",
       "37429  PJNE3423-KR-4XL  1.00   537.50   538.00      4.00  \n",
       "37430  SET290-KR-DPT-M  1.00   812.50   812.00      7.00  \n",
       "37431         SHIPPING  1.00  3666.00  3666.00      0.00  \n",
       "\n",
       "[37432 rows x 10 columns]"
      ]
     },
     "execution_count": 57,
     "metadata": {},
     "output_type": "execute_result"
    }
   ],
   "source": [
    "international_sale_report_df"
   ]
  },
  {
   "cell_type": "code",
   "execution_count": 58,
   "metadata": {},
   "outputs": [
    {
     "name": "stdout",
     "output_type": "stream",
     "text": [
      "<class 'pandas.core.frame.DataFrame'>\n",
      "RangeIndex: 37432 entries, 0 to 37431\n",
      "Data columns (total 10 columns):\n",
      " #   Column     Non-Null Count  Dtype \n",
      "---  ------     --------------  ----- \n",
      " 0   index      37432 non-null  int64 \n",
      " 1   DATE       37431 non-null  object\n",
      " 2   Months     37407 non-null  object\n",
      " 3   CUSTOMER   36392 non-null  object\n",
      " 4   Style      36392 non-null  object\n",
      " 5   SKU        34958 non-null  object\n",
      " 6   Size       36392 non-null  object\n",
      " 7   PCS        36392 non-null  object\n",
      " 8   RATE       36392 non-null  object\n",
      " 9   GROSS AMT  36392 non-null  object\n",
      "dtypes: int64(1), object(9)\n",
      "memory usage: 2.9+ MB\n"
     ]
    }
   ],
   "source": [
    "international_sale_report_df.info()"
   ]
  },
  {
   "cell_type": "code",
   "execution_count": 59,
   "metadata": {},
   "outputs": [],
   "source": [
    "# Convert necessary columns to numeric (coerce errors to handle invalid numbers)\n",
    "international_sale_report_df['RATE'] = pd.to_numeric(international_sale_report_df['RATE'], errors='coerce')\n",
    "international_sale_report_df['PCS'] = pd.to_numeric(international_sale_report_df['PCS'], errors='coerce')\n",
    "international_sale_report_df['GROSS AMT'] = pd.to_numeric(international_sale_report_df['GROSS AMT'], errors='coerce')\n",
    "\n",
    "# Remove rows where essential columns (like GROSS AMT or PCS) are missing\n",
    "cleaned_sales_df = international_sale_report_df.dropna(subset=['RATE', 'PCS', 'GROSS AMT'])"
   ]
  },
  {
   "cell_type": "code",
   "execution_count": 60,
   "metadata": {},
   "outputs": [],
   "source": [
    "# Group by 'CUSTOMER' (assuming this is the region or country column)\n",
    "sales_summary = cleaned_sales_df.groupby('CUSTOMER').agg(total_pcs_sold=('PCS', 'sum'), total_revenue=('GROSS AMT', 'sum')).reset_index()\n",
    "\n",
    "# Sort by total revenue to get top-performing countries\n",
    "top_countries = sales_summary.sort_values(by='total_revenue', ascending=False)"
   ]
  },
  {
   "cell_type": "code",
   "execution_count": 61,
   "metadata": {},
   "outputs": [
    {
     "data": {
      "image/png": "[encoded data removed]",
      "text/plain": [
       "<Figure size 1200x600 with 1 Axes>"
      ]
     },
     "metadata": {},
     "output_type": "display_data"
    },
    {
     "data": {
      "image/png": "[encoded data removed]",
      "text/plain": [
       "<Figure size 1200x600 with 1 Axes>"
      ]
     },
     "metadata": {},
     "output_type": "display_data"
    }
   ],
   "source": [
    "plt.figure(figsize=(12, 6))\n",
    "plt.bar(top_countries['CUSTOMER'][:10], top_countries['total_revenue'][:10], color='skyblue')\n",
    "plt.title('Top 10 Regions by Total Revenue')\n",
    "plt.xlabel('Country')\n",
    "plt.ylabel('Total Revenue (₹)')\n",
    "plt.xticks(rotation=45)\n",
    "plt.tight_layout()\n",
    "plt.show()\n",
    "\n",
    "plt.figure(figsize=(12, 6))\n",
    "plt.bar(top_countries['CUSTOMER'][:10], top_countries['total_pcs_sold'][:10], color='lightgreen')\n",
    "plt.title('Top 10 Regions by Sales Volume')\n",
    "plt.xlabel('Country')\n",
    "plt.ylabel('Total Pieces Sold')\n",
    "plt.xticks(rotation=45)\n",
    "plt.tight_layout()\n",
    "plt.show()"
   ]
  },
  {
   "cell_type": "markdown",
   "metadata": {},
   "source": [
    "#  **May-2022:**\n",
    "* ##  Perform a detailed analysis of sales transactions for May 2022.\n",
    "* ##  Compare with data from other months to identify seasonal trends or anomalies."
   ]
  },
  {
   "cell_type": "code",
   "execution_count": 62,
   "metadata": {},
   "outputs": [
    {
     "data": {
      "text/html": [
       "<div>\n",
       "<style scoped>\n",
       "    .dataframe tbody tr th:only-of-type {\n",
       "        vertical-align: middle;\n",
       "    }\n",
       "\n",
       "    .dataframe tbody tr th {\n",
       "        vertical-align: top;\n",
       "    }\n",
       "\n",
       "    .dataframe thead th {\n",
       "        text-align: right;\n",
       "    }\n",
       "</style>\n",
       "<table border=\"1\" class=\"dataframe\">\n",
       "  <thead>\n",
       "    <tr style=\"text-align: right;\">\n",
       "      <th></th>\n",
       "      <th>index</th>\n",
       "      <th>Sku</th>\n",
       "      <th>Style Id</th>\n",
       "      <th>Catalog</th>\n",
       "      <th>Category</th>\n",
       "      <th>Weight</th>\n",
       "      <th>TP</th>\n",
       "      <th>MRP Old</th>\n",
       "      <th>Final MRP Old</th>\n",
       "      <th>Ajio MRP</th>\n",
       "      <th>Amazon MRP</th>\n",
       "      <th>Amazon FBA MRP</th>\n",
       "      <th>Flipkart MRP</th>\n",
       "      <th>Limeroad MRP</th>\n",
       "      <th>Myntra MRP</th>\n",
       "      <th>Paytm MRP</th>\n",
       "      <th>Snapdeal MRP</th>\n",
       "    </tr>\n",
       "  </thead>\n",
       "  <tbody>\n",
       "    <tr>\n",
       "      <th>0</th>\n",
       "      <td>0</td>\n",
       "      <td>Os206_3141_S</td>\n",
       "      <td>Os206_3141</td>\n",
       "      <td>Moments</td>\n",
       "      <td>Kurta</td>\n",
       "      <td>0.3</td>\n",
       "      <td>538</td>\n",
       "      <td>2178</td>\n",
       "      <td>2295</td>\n",
       "      <td>2295</td>\n",
       "      <td>2295</td>\n",
       "      <td>2295</td>\n",
       "      <td>2295</td>\n",
       "      <td>2295</td>\n",
       "      <td>2295</td>\n",
       "      <td>2295</td>\n",
       "      <td>2295</td>\n",
       "    </tr>\n",
       "    <tr>\n",
       "      <th>1</th>\n",
       "      <td>1</td>\n",
       "      <td>Os206_3141_M</td>\n",
       "      <td>Os206_3141</td>\n",
       "      <td>Moments</td>\n",
       "      <td>Kurta</td>\n",
       "      <td>0.3</td>\n",
       "      <td>538</td>\n",
       "      <td>2178</td>\n",
       "      <td>2295</td>\n",
       "      <td>2295</td>\n",
       "      <td>2295</td>\n",
       "      <td>2295</td>\n",
       "      <td>2295</td>\n",
       "      <td>2295</td>\n",
       "      <td>2295</td>\n",
       "      <td>2295</td>\n",
       "      <td>2295</td>\n",
       "    </tr>\n",
       "    <tr>\n",
       "      <th>2</th>\n",
       "      <td>2</td>\n",
       "      <td>Os206_3141_L</td>\n",
       "      <td>Os206_3141</td>\n",
       "      <td>Moments</td>\n",
       "      <td>Kurta</td>\n",
       "      <td>0.3</td>\n",
       "      <td>538</td>\n",
       "      <td>2178</td>\n",
       "      <td>2295</td>\n",
       "      <td>2295</td>\n",
       "      <td>2295</td>\n",
       "      <td>2295</td>\n",
       "      <td>2295</td>\n",
       "      <td>2295</td>\n",
       "      <td>2295</td>\n",
       "      <td>2295</td>\n",
       "      <td>2295</td>\n",
       "    </tr>\n",
       "    <tr>\n",
       "      <th>3</th>\n",
       "      <td>3</td>\n",
       "      <td>Os206_3141_XL</td>\n",
       "      <td>Os206_3141</td>\n",
       "      <td>Moments</td>\n",
       "      <td>Kurta</td>\n",
       "      <td>0.3</td>\n",
       "      <td>538</td>\n",
       "      <td>2178</td>\n",
       "      <td>2295</td>\n",
       "      <td>2295</td>\n",
       "      <td>2295</td>\n",
       "      <td>2295</td>\n",
       "      <td>2295</td>\n",
       "      <td>2295</td>\n",
       "      <td>2295</td>\n",
       "      <td>2295</td>\n",
       "      <td>2295</td>\n",
       "    </tr>\n",
       "    <tr>\n",
       "      <th>4</th>\n",
       "      <td>4</td>\n",
       "      <td>Os206_3141_2XL</td>\n",
       "      <td>Os206_3141</td>\n",
       "      <td>Moments</td>\n",
       "      <td>Kurta</td>\n",
       "      <td>0.3</td>\n",
       "      <td>538</td>\n",
       "      <td>2178</td>\n",
       "      <td>2295</td>\n",
       "      <td>2295</td>\n",
       "      <td>2295</td>\n",
       "      <td>2295</td>\n",
       "      <td>2295</td>\n",
       "      <td>2295</td>\n",
       "      <td>2295</td>\n",
       "      <td>2295</td>\n",
       "      <td>2295</td>\n",
       "    </tr>\n",
       "    <tr>\n",
       "      <th>...</th>\n",
       "      <td>...</td>\n",
       "      <td>...</td>\n",
       "      <td>...</td>\n",
       "      <td>...</td>\n",
       "      <td>...</td>\n",
       "      <td>...</td>\n",
       "      <td>...</td>\n",
       "      <td>...</td>\n",
       "      <td>...</td>\n",
       "      <td>...</td>\n",
       "      <td>...</td>\n",
       "      <td>...</td>\n",
       "      <td>...</td>\n",
       "      <td>...</td>\n",
       "      <td>...</td>\n",
       "      <td>...</td>\n",
       "      <td>...</td>\n",
       "    </tr>\n",
       "    <tr>\n",
       "      <th>1325</th>\n",
       "      <td>1325</td>\n",
       "      <td>Os326_M</td>\n",
       "      <td>Os326</td>\n",
       "      <td>Mix</td>\n",
       "      <td>Kurta</td>\n",
       "      <td>0.3</td>\n",
       "      <td>467</td>\n",
       "      <td>1878</td>\n",
       "      <td>1995</td>\n",
       "      <td>1995</td>\n",
       "      <td>1995</td>\n",
       "      <td>1995</td>\n",
       "      <td>1995</td>\n",
       "      <td>1995</td>\n",
       "      <td>1995</td>\n",
       "      <td>1995</td>\n",
       "      <td>1995</td>\n",
       "    </tr>\n",
       "    <tr>\n",
       "      <th>1326</th>\n",
       "      <td>1326</td>\n",
       "      <td>Os326_L</td>\n",
       "      <td>Os326</td>\n",
       "      <td>Mix</td>\n",
       "      <td>Kurta</td>\n",
       "      <td>0.3</td>\n",
       "      <td>467</td>\n",
       "      <td>1878</td>\n",
       "      <td>1995</td>\n",
       "      <td>1995</td>\n",
       "      <td>1995</td>\n",
       "      <td>1995</td>\n",
       "      <td>1995</td>\n",
       "      <td>1995</td>\n",
       "      <td>1995</td>\n",
       "      <td>1995</td>\n",
       "      <td>1995</td>\n",
       "    </tr>\n",
       "    <tr>\n",
       "      <th>1327</th>\n",
       "      <td>1327</td>\n",
       "      <td>Os326_XL</td>\n",
       "      <td>Os326</td>\n",
       "      <td>Mix</td>\n",
       "      <td>Kurta</td>\n",
       "      <td>0.3</td>\n",
       "      <td>467</td>\n",
       "      <td>1878</td>\n",
       "      <td>1995</td>\n",
       "      <td>1995</td>\n",
       "      <td>1995</td>\n",
       "      <td>1995</td>\n",
       "      <td>1995</td>\n",
       "      <td>1995</td>\n",
       "      <td>1995</td>\n",
       "      <td>1995</td>\n",
       "      <td>1995</td>\n",
       "    </tr>\n",
       "    <tr>\n",
       "      <th>1328</th>\n",
       "      <td>1328</td>\n",
       "      <td>Os326_2XL</td>\n",
       "      <td>Os326</td>\n",
       "      <td>Mix</td>\n",
       "      <td>Kurta</td>\n",
       "      <td>0.3</td>\n",
       "      <td>467</td>\n",
       "      <td>1878</td>\n",
       "      <td>1995</td>\n",
       "      <td>1995</td>\n",
       "      <td>1995</td>\n",
       "      <td>1995</td>\n",
       "      <td>1995</td>\n",
       "      <td>1995</td>\n",
       "      <td>1995</td>\n",
       "      <td>1995</td>\n",
       "      <td>1995</td>\n",
       "    </tr>\n",
       "    <tr>\n",
       "      <th>1329</th>\n",
       "      <td>1329</td>\n",
       "      <td>Os326_3XL</td>\n",
       "      <td>Os326</td>\n",
       "      <td>Mix</td>\n",
       "      <td>Kurta</td>\n",
       "      <td>0.3</td>\n",
       "      <td>467</td>\n",
       "      <td>1878</td>\n",
       "      <td>1995</td>\n",
       "      <td>1995</td>\n",
       "      <td>1995</td>\n",
       "      <td>1995</td>\n",
       "      <td>1995</td>\n",
       "      <td>1995</td>\n",
       "      <td>1995</td>\n",
       "      <td>1995</td>\n",
       "      <td>1995</td>\n",
       "    </tr>\n",
       "  </tbody>\n",
       "</table>\n",
       "<p>1330 rows × 17 columns</p>\n",
       "</div>"
      ],
      "text/plain": [
       "      index             Sku    Style Id  Catalog Category Weight   TP MRP Old  \\\n",
       "0         0    Os206_3141_S  Os206_3141  Moments    Kurta    0.3  538    2178   \n",
       "1         1    Os206_3141_M  Os206_3141  Moments    Kurta    0.3  538    2178   \n",
       "2         2    Os206_3141_L  Os206_3141  Moments    Kurta    0.3  538    2178   \n",
       "3         3   Os206_3141_XL  Os206_3141  Moments    Kurta    0.3  538    2178   \n",
       "4         4  Os206_3141_2XL  Os206_3141  Moments    Kurta    0.3  538    2178   \n",
       "...     ...             ...         ...      ...      ...    ...  ...     ...   \n",
       "1325   1325         Os326_M       Os326      Mix    Kurta    0.3  467    1878   \n",
       "1326   1326         Os326_L       Os326      Mix    Kurta    0.3  467    1878   \n",
       "1327   1327        Os326_XL       Os326      Mix    Kurta    0.3  467    1878   \n",
       "1328   1328       Os326_2XL       Os326      Mix    Kurta    0.3  467    1878   \n",
       "1329   1329       Os326_3XL       Os326      Mix    Kurta    0.3  467    1878   \n",
       "\n",
       "     Final MRP Old Ajio MRP Amazon MRP Amazon FBA MRP Flipkart MRP  \\\n",
       "0             2295     2295       2295           2295         2295   \n",
       "1             2295     2295       2295           2295         2295   \n",
       "2             2295     2295       2295           2295         2295   \n",
       "3             2295     2295       2295           2295         2295   \n",
       "4             2295     2295       2295           2295         2295   \n",
       "...            ...      ...        ...            ...          ...   \n",
       "1325          1995     1995       1995           1995         1995   \n",
       "1326          1995     1995       1995           1995         1995   \n",
       "1327          1995     1995       1995           1995         1995   \n",
       "1328          1995     1995       1995           1995         1995   \n",
       "1329          1995     1995       1995           1995         1995   \n",
       "\n",
       "     Limeroad MRP Myntra MRP Paytm MRP Snapdeal MRP  \n",
       "0            2295       2295      2295         2295  \n",
       "1            2295       2295      2295         2295  \n",
       "2            2295       2295      2295         2295  \n",
       "3            2295       2295      2295         2295  \n",
       "4            2295       2295      2295         2295  \n",
       "...           ...        ...       ...          ...  \n",
       "1325         1995       1995      1995         1995  \n",
       "1326         1995       1995      1995         1995  \n",
       "1327         1995       1995      1995         1995  \n",
       "1328         1995       1995      1995         1995  \n",
       "1329         1995       1995      1995         1995  \n",
       "\n",
       "[1330 rows x 17 columns]"
      ]
     },
     "execution_count": 62,
     "metadata": {},
     "output_type": "execute_result"
    }
   ],
   "source": [
    "May2022_df"
   ]
  },
  {
   "cell_type": "code",
   "execution_count": 63,
   "metadata": {},
   "outputs": [
    {
     "name": "stdout",
     "output_type": "stream",
     "text": [
      "<class 'pandas.core.frame.DataFrame'>\n",
      "RangeIndex: 1330 entries, 0 to 1329\n",
      "Data columns (total 17 columns):\n",
      " #   Column          Non-Null Count  Dtype \n",
      "---  ------          --------------  ----- \n",
      " 0   index           1330 non-null   int64 \n",
      " 1   Sku             1330 non-null   object\n",
      " 2   Style Id        1330 non-null   object\n",
      " 3   Catalog         1330 non-null   object\n",
      " 4   Category        1330 non-null   object\n",
      " 5   Weight          1330 non-null   object\n",
      " 6   TP              1330 non-null   object\n",
      " 7   MRP Old         1330 non-null   object\n",
      " 8   Final MRP Old   1330 non-null   object\n",
      " 9   Ajio MRP        1330 non-null   object\n",
      " 10  Amazon MRP      1330 non-null   object\n",
      " 11  Amazon FBA MRP  1330 non-null   object\n",
      " 12  Flipkart MRP    1330 non-null   object\n",
      " 13  Limeroad MRP    1330 non-null   object\n",
      " 14  Myntra MRP      1330 non-null   object\n",
      " 15  Paytm MRP       1330 non-null   object\n",
      " 16  Snapdeal MRP    1330 non-null   object\n",
      "dtypes: int64(1), object(16)\n",
      "memory usage: 176.8+ KB\n"
     ]
    }
   ],
   "source": [
    "May2022_df.info()"
   ]
  },
  {
   "cell_type": "code",
   "execution_count": 64,
   "metadata": {},
   "outputs": [],
   "source": [
    "# Clean the data\n",
    "May2022_df[\"Weight\"] = pd.to_numeric(May2022_df[\"Weight\"], errors=\"coerce\")\n",
    "May2022_df[\"Final MRP Old\"] = pd.to_numeric(May2022_df[\"Final MRP Old\"], errors=\"coerce\")\n",
    "May2022_df.dropna(subset=[\"Weight\", \"Final MRP Old\"], inplace=True)"
   ]
  },
  {
   "cell_type": "code",
   "execution_count": 65,
   "metadata": {},
   "outputs": [],
   "source": [
    "# Sales Volume\n",
    "sales_volume = May2022_df.groupby(\"Category\")[\"Weight\"].sum()\n",
    "\n",
    "# Revenue Analysis\n",
    "May2022_df[\"Total_Revenue\"] = May2022_df[\"Weight\"] * May2022_df[\"Final MRP Old\"]\n",
    "revenue_by_platform = May2022_df.groupby(\"Amazon FBA MRP\")[\"Total_Revenue\"].sum()"
   ]
  },
  {
   "cell_type": "code",
   "execution_count": 66,
   "metadata": {},
   "outputs": [],
   "source": [
    "# Average Selling Price\n",
    "avg_selling_price = May2022_df[\"Final MRP Old\"] / May2022_df[\"Weight\"]\n",
    "\n",
    "# Customer Behavior\n",
    "customer_behavior = May2022_df.groupby(\"Style Id\")[\"Total_Revenue\"].agg([\"sum\", \"count\"])\n",
    "\n",
    "# Product Performance\n",
    "product_performance = May2022_df.groupby([\"Sku\", \"Style Id\"])[\"Weight\"].sum().sort_values(ascending=False)"
   ]
  },
  {
   "cell_type": "code",
   "execution_count": 67,
   "metadata": {},
   "outputs": [
    {
     "data": {
      "image/png": "[encoded data removed]",
      "text/plain": [
       "<Figure size 1000x600 with 1 Axes>"
      ]
     },
     "metadata": {},
     "output_type": "display_data"
    }
   ],
   "source": [
    "# Sales Volume\n",
    "plt.figure(figsize=(10, 6))\n",
    "sns.barplot(x=sales_volume.index, y=sales_volume.values)\n",
    "plt.title(\"Sales Volume by Category\")\n",
    "plt.show()"
   ]
  },
  {
   "cell_type": "code",
   "execution_count": 68,
   "metadata": {},
   "outputs": [
    {
     "data": {
      "image/png": "[encoded data removed]",
      "text/plain": [
       "<Figure size 1800x600 with 1 Axes>"
      ]
     },
     "metadata": {},
     "output_type": "display_data"
    }
   ],
   "source": [
    "# Revenue by Platform\n",
    "plt.figure(figsize=(18, 6))\n",
    "sns.barplot(x=revenue_by_platform.index, y=revenue_by_platform.values)\n",
    "plt.title(\"Revenue by Amazon FBA MRP\")\n",
    "plt.show()"
   ]
  },
  {
   "cell_type": "code",
   "execution_count": 69,
   "metadata": {},
   "outputs": [
    {
     "data": {
      "image/png": "[encoded data removed]",
      "text/plain": [
       "<Figure size 1000x600 with 1 Axes>"
      ]
     },
     "metadata": {},
     "output_type": "display_data"
    }
   ],
   "source": [
    "# Average Selling Price\n",
    "plt.figure(figsize=(10, 6))\n",
    "sns.histplot(avg_selling_price)\n",
    "plt.title(\"Average Selling Price\")\n",
    "plt.show()"
   ]
  },
  {
   "cell_type": "code",
   "execution_count": null,
   "metadata": {
    "execution": {
     "iopub.execute_input": "2024-10-17T08:25:51.214422Z",
     "iopub.status.busy": "2024-10-17T08:25:51.21326Z",
     "iopub.status.idle": "2024-10-17T08:25:52.105203Z",
     "shell.execute_reply": "2024-10-17T08:25:52.104079Z",
     "shell.execute_reply.started": "2024-10-17T08:25:51.21435Z"
    }
   },
   "outputs": [],
   "source": [
    "# Customer Behavior\n",
    "plt.figure(figsize=(10, 6))\n",
    "sns.lineplot(x=customer_behavior[\"sum\"], y=customer_behavior[\"count\"])\n",
    "plt.title(\"Customer Behavior: Total Revenue vs. Purchase Frequency\")\n",
    "plt.show()"
   ]
  },
  {
   "cell_type": "markdown",
   "metadata": {},
   "source": [
    "# **PL March 2021.csv:**\n",
    "* ##  Conduct a profit and loss analysis for March 2021.\n",
    "\n",
    "* ##  Correlate the profit margins with specific sales campaigns or product launches during that period."
   ]
  },
  {
   "cell_type": "code",
   "execution_count": null,
   "metadata": {
    "execution": {
     "iopub.execute_input": "2024-10-17T08:32:34.936164Z",
     "iopub.status.busy": "2024-10-17T08:32:34.935685Z",
     "iopub.status.idle": "2024-10-17T08:32:34.959264Z",
     "shell.execute_reply": "2024-10-17T08:32:34.95803Z",
     "shell.execute_reply.started": "2024-10-17T08:32:34.936123Z"
    }
   },
   "outputs": [],
   "source": [
    "PLMarch2021_df"
   ]
  },
  {
   "cell_type": "code",
   "execution_count": null,
   "metadata": {
    "execution": {
     "iopub.execute_input": "2024-10-17T08:32:45.265499Z",
     "iopub.status.busy": "2024-10-17T08:32:45.265055Z",
     "iopub.status.idle": "2024-10-17T08:32:45.280627Z",
     "shell.execute_reply": "2024-10-17T08:32:45.279035Z",
     "shell.execute_reply.started": "2024-10-17T08:32:45.265459Z"
    }
   },
   "outputs": [],
   "source": [
    "PLMarch2021_df.info()"
   ]
  },
  {
   "cell_type": "code",
   "execution_count": null,
   "metadata": {
    "execution": {
     "iopub.execute_input": "2024-10-17T08:39:00.30926Z",
     "iopub.status.busy": "2024-10-17T08:39:00.308563Z",
     "iopub.status.idle": "2024-10-17T08:39:00.322892Z",
     "shell.execute_reply": "2024-10-17T08:39:00.321148Z",
     "shell.execute_reply.started": "2024-10-17T08:39:00.309204Z"
    }
   },
   "outputs": [],
   "source": [
    "# Clean the data\n",
    "PLMarch2021_df[\"Weight\"] = pd.to_numeric(PLMarch2021_df[\"Weight\"], errors=\"coerce\")\n",
    "PLMarch2021_df[\"Final MRP Old\"] = pd.to_numeric(PLMarch2021_df[\"Final MRP Old\"], errors=\"coerce\")\n",
    "PLMarch2021_df.dropna(subset=[\"Weight\", \"Final MRP Old\"], inplace=True)"
   ]
  },
  {
   "cell_type": "code",
   "execution_count": null,
   "metadata": {
    "execution": {
     "iopub.execute_input": "2024-10-17T08:48:07.537002Z",
     "iopub.status.busy": "2024-10-17T08:48:07.536552Z",
     "iopub.status.idle": "2024-10-17T08:48:07.544443Z",
     "shell.execute_reply": "2024-10-17T08:48:07.542491Z",
     "shell.execute_reply.started": "2024-10-17T08:48:07.536967Z"
    }
   },
   "outputs": [],
   "source": [
    "revenue_multiplier = 1.5  # Adjust this multiplier based on your business\n",
    "PLMarch2021_df[\"Total_Revenue\"] = PLMarch2021_df[\"Final MRP Old\"] * revenue_multiplier"
   ]
  },
  {
   "cell_type": "code",
   "execution_count": null,
   "metadata": {
    "execution": {
     "iopub.execute_input": "2024-10-17T08:48:09.8025Z",
     "iopub.status.busy": "2024-10-17T08:48:09.802048Z",
     "iopub.status.idle": "2024-10-17T08:48:09.80945Z",
     "shell.execute_reply": "2024-10-17T08:48:09.808168Z",
     "shell.execute_reply.started": "2024-10-17T08:48:09.802457Z"
    }
   },
   "outputs": [],
   "source": [
    "cogs_percentage = 0.6  # Adjust this percentage based on your business\n",
    "PLMarch2021_df[\"COGS\"] = PLMarch2021_df[\"Final MRP Old\"] * cogs_percentage\n",
    "\n",
    "# Calculate profit\n",
    "PLMarch2021_df[\"Profit\"] = PLMarch2021_df[\"Total_Revenue\"] - PLMarch2021_df[\"COGS\"]"
   ]
  },
  {
   "cell_type": "code",
   "execution_count": null,
   "metadata": {
    "execution": {
     "iopub.execute_input": "2024-10-17T08:50:51.795284Z",
     "iopub.status.busy": "2024-10-17T08:50:51.794463Z",
     "iopub.status.idle": "2024-10-17T08:50:51.801769Z",
     "shell.execute_reply": "2024-10-17T08:50:51.800458Z",
     "shell.execute_reply.started": "2024-10-17T08:50:51.795239Z"
    }
   },
   "outputs": [],
   "source": [
    "# Profit and Loss Analysis\n",
    "total_revenue = PLMarch2021_df[\"Total_Revenue\"].sum()\n",
    "total_cost = PLMarch2021_df[\"COGS\"].sum()\n",
    "net_profit = PLMarch2021_df[\"Profit\"].sum()\n",
    "profit_margin = (net_profit / total_revenue) * 100"
   ]
  },
  {
   "cell_type": "code",
   "execution_count": null,
   "metadata": {
    "execution": {
     "iopub.execute_input": "2024-10-17T08:51:34.856441Z",
     "iopub.status.busy": "2024-10-17T08:51:34.85597Z",
     "iopub.status.idle": "2024-10-17T08:51:35.068615Z",
     "shell.execute_reply": "2024-10-17T08:51:35.067471Z",
     "shell.execute_reply.started": "2024-10-17T08:51:34.856397Z"
    }
   },
   "outputs": [],
   "source": [
    "plt.figure(figsize=(10, 6))\n",
    "sns.barplot(x=[\"Total Revenue\", \"Total Cost\", \"Net Profit\"], y=[total_revenue, total_cost, net_profit])\n",
    "plt.title(\"Profit and Loss Statement\")\n",
    "plt.show()\n"
   ]
  },
  {
   "cell_type": "code",
   "execution_count": null,
   "metadata": {
    "execution": {
     "iopub.execute_input": "2024-10-17T09:27:58.671292Z",
     "iopub.status.busy": "2024-10-17T09:27:58.670814Z",
     "iopub.status.idle": "2024-10-17T09:27:58.677486Z",
     "shell.execute_reply": "2024-10-17T09:27:58.676163Z",
     "shell.execute_reply.started": "2024-10-17T09:27:58.67125Z"
    }
   },
   "outputs": [],
   "source": [
    "# Strip whitespace from all column names\n",
    "PLMarch2021_df.columns = PLMarch2021_df.columns.str.strip()\n"
   ]
  },
  {
   "cell_type": "code",
   "execution_count": null,
   "metadata": {
    "execution": {
     "iopub.execute_input": "2024-10-17T09:29:17.062495Z",
     "iopub.status.busy": "2024-10-17T09:29:17.062008Z",
     "iopub.status.idle": "2024-10-17T09:29:17.436454Z",
     "shell.execute_reply": "2024-10-17T09:29:17.435365Z",
     "shell.execute_reply.started": "2024-10-17T09:29:17.062453Z"
    }
   },
   "outputs": [],
   "source": [
    "PLMarch2021_df['Final MRP Old'] = pd.to_numeric(PLMarch2021_df['Final MRP Old'], errors='coerce')\n",
    "PLMarch2021_df['MRP Old'] = pd.to_numeric(PLMarch2021_df['MRP Old'], errors='coerce')\n",
    "\n",
    "# Step 1: Profit/Loss Calculation (Profit = Final MRP - MRP Old)\n",
    "PLMarch2021_df['Profit/Loss'] = PLMarch2021_df['Final MRP Old'] - PLMarch2021_df['MRP Old']\n",
    "total_profit_loss = PLMarch2021_df['Profit/Loss'].sum()\n",
    "print(f\"Total Profit/Loss for March 2021: {total_profit_loss}\")\n",
    "\n",
    "plt.figure(figsize=(10, 6))\n",
    "sns.histplot(PLMarch2021_df['Profit/Loss'], bins=30, kde=True, color='blue')\n",
    "plt.title('Profit/Loss Distribution for Products in March 2021')\n",
    "plt.xlabel('Profit/Loss (in currency)')\n",
    "plt.ylabel('Number of Products')\n",
    "plt.grid(True)\n",
    "plt.show()\n"
   ]
  },
  {
   "cell_type": "code",
   "execution_count": null,
   "metadata": {
    "execution": {
     "iopub.execute_input": "2024-10-17T09:29:53.622817Z",
     "iopub.status.busy": "2024-10-17T09:29:53.622298Z",
     "iopub.status.idle": "2024-10-17T09:29:53.881263Z",
     "shell.execute_reply": "2024-10-17T09:29:53.880004Z",
     "shell.execute_reply.started": "2024-10-17T09:29:53.622775Z"
    }
   },
   "outputs": [],
   "source": [
    "plt.figure(figsize=(12, 8))\n",
    "sns.barplot(data=PLMarch2021_df, x='Category', y='Profit/Loss', ci=None, palette='Blues_d')\n",
    "plt.xticks(rotation=90)\n",
    "plt.title('Profit/Loss by Style ID')\n",
    "plt.xlabel('Style ID')\n",
    "plt.ylabel('Profit/Loss')\n",
    "plt.grid(True)\n",
    "plt.show()\n"
   ]
  },
  {
   "cell_type": "markdown",
   "metadata": {},
   "source": [
    "# Sale Report.csv:\n",
    "* #  Conduct an overall sales report analysis.\n",
    "* #  Segment sales by product categories and analyze the sales performance of each category."
   ]
  },
  {
   "cell_type": "code",
   "execution_count": null,
   "metadata": {
    "execution": {
     "iopub.execute_input": "2024-10-17T09:31:43.672795Z",
     "iopub.status.busy": "2024-10-17T09:31:43.672216Z",
     "iopub.status.idle": "2024-10-17T09:31:43.690681Z",
     "shell.execute_reply": "2024-10-17T09:31:43.689401Z",
     "shell.execute_reply.started": "2024-10-17T09:31:43.67275Z"
    }
   },
   "outputs": [],
   "source": [
    "Sale_report_df"
   ]
  },
  {
   "cell_type": "code",
   "execution_count": null,
   "metadata": {
    "execution": {
     "iopub.execute_input": "2024-10-17T09:32:59.809895Z",
     "iopub.status.busy": "2024-10-17T09:32:59.809448Z",
     "iopub.status.idle": "2024-10-17T09:32:59.824978Z",
     "shell.execute_reply": "2024-10-17T09:32:59.823776Z",
     "shell.execute_reply.started": "2024-10-17T09:32:59.809855Z"
    }
   },
   "outputs": [],
   "source": [
    "Sale_report_df.info()"
   ]
  },
  {
   "cell_type": "code",
   "execution_count": null,
   "metadata": {
    "execution": {
     "iopub.execute_input": "2024-10-17T09:45:04.806055Z",
     "iopub.status.busy": "2024-10-17T09:45:04.805559Z",
     "iopub.status.idle": "2024-10-17T09:45:04.817256Z",
     "shell.execute_reply": "2024-10-17T09:45:04.815989Z",
     "shell.execute_reply.started": "2024-10-17T09:45:04.806012Z"
    }
   },
   "outputs": [],
   "source": [
    "Sale_report_df_clean = Sale_report_df.dropna(subset=['SKU Code'])"
   ]
  },
  {
   "cell_type": "code",
   "execution_count": null,
   "metadata": {
    "execution": {
     "iopub.execute_input": "2024-10-17T09:45:06.424469Z",
     "iopub.status.busy": "2024-10-17T09:45:06.423537Z",
     "iopub.status.idle": "2024-10-17T09:45:06.436437Z",
     "shell.execute_reply": "2024-10-17T09:45:06.435324Z",
     "shell.execute_reply.started": "2024-10-17T09:45:06.424422Z"
    }
   },
   "outputs": [],
   "source": [
    "# Calculate total stock by product category\n",
    "total_stock_by_category = Sale_report_df_clean.groupby('Category')['Stock'].sum().reset_index()\n",
    "print(\"Total Stock by Category:\")\n",
    "print(total_stock_by_category)"
   ]
  },
  {
   "cell_type": "code",
   "execution_count": null,
   "metadata": {
    "execution": {
     "iopub.execute_input": "2024-10-17T09:45:32.116218Z",
     "iopub.status.busy": "2024-10-17T09:45:32.114916Z",
     "iopub.status.idle": "2024-10-17T09:45:32.567672Z",
     "shell.execute_reply": "2024-10-17T09:45:32.566095Z",
     "shell.execute_reply.started": "2024-10-17T09:45:32.116156Z"
    }
   },
   "outputs": [],
   "source": [
    "# Step 3: Visualizing the Total Stock by Category\n",
    "plt.figure(figsize=(18, 6))\n",
    "sns.barplot(data=total_stock_by_category, x='Category', y='Stock', palette='Blues_d')\n",
    "plt.title('Total Stock by Product Category')\n",
    "plt.xlabel('Product Category')\n",
    "plt.ylabel('Total Stock')\n",
    "plt.xticks(rotation=45)\n",
    "plt.grid(True)\n",
    "plt.show()"
   ]
  },
  {
   "cell_type": "code",
   "execution_count": null,
   "metadata": {
    "execution": {
     "iopub.execute_input": "2024-10-17T09:46:10.56222Z",
     "iopub.status.busy": "2024-10-17T09:46:10.560899Z",
     "iopub.status.idle": "2024-10-17T09:46:11.193951Z",
     "shell.execute_reply": "2024-10-17T09:46:11.192635Z",
     "shell.execute_reply.started": "2024-10-17T09:46:10.562141Z"
    }
   },
   "outputs": [],
   "source": [
    "# You can also visualize the stock distribution by size within each category\n",
    "\n",
    "plt.figure(figsize=(18, 6))\n",
    "sns.boxplot(data=Sale_report_df_clean, x='Category', y='Stock', palette='coolwarm')\n",
    "plt.title('Stock Distribution by Category')\n",
    "plt.xlabel('Category')\n",
    "plt.ylabel('Stock Levels')\n",
    "plt.xticks(rotation=45)\n",
    "plt.grid(True)\n",
    "plt.show()"
   ]
  },
  {
   "cell_type": "code",
   "execution_count": null,
   "metadata": {
    "execution": {
     "iopub.execute_input": "2024-10-17T09:46:28.744714Z",
     "iopub.status.busy": "2024-10-17T09:46:28.744173Z",
     "iopub.status.idle": "2024-10-17T09:46:28.775Z",
     "shell.execute_reply": "2024-10-17T09:46:28.773452Z",
     "shell.execute_reply.started": "2024-10-17T09:46:28.744665Z"
    }
   },
   "outputs": [],
   "source": [
    "# Step 5: Additional Segmentation by Size and Category\n",
    "stock_by_size_and_category = Sale_report_df_clean.groupby(['Category', 'Size'])['Stock'].sum().unstack().fillna(0)\n",
    "\n",
    "print(\"Stock by Category and Size:\")\n",
    "print(stock_by_size_and_category)"
   ]
  },
  {
   "cell_type": "code",
   "execution_count": null,
   "metadata": {
    "execution": {
     "iopub.execute_input": "2024-10-17T09:51:00.14448Z",
     "iopub.status.busy": "2024-10-17T09:51:00.14389Z",
     "iopub.status.idle": "2024-10-17T09:51:01.049336Z",
     "shell.execute_reply": "2024-10-17T09:51:01.048211Z",
     "shell.execute_reply.started": "2024-10-17T09:51:00.144423Z"
    }
   },
   "outputs": [],
   "source": [
    "# Step 6: Visualizing Stock by Category and Size\n",
    "stock_by_size_and_category.plot(kind='bar', stacked=True, figsize=(18, 6), colormap='viridis')\n",
    "plt.title('Stock by Category and Size')\n",
    "plt.xlabel('Product Category')\n",
    "plt.ylabel('Stock Levels')\n",
    "plt.xticks(rotation=45)\n",
    "plt.legend(title='Size')\n",
    "plt.grid(True)\n",
    "plt.show()"
   ]
  },
  {
   "cell_type": "code",
   "execution_count": null,
   "metadata": {},
   "outputs": [],
   "source": []
  },
  {
   "cell_type": "code",
   "execution_count": null,
   "metadata": {},
   "outputs": [],
   "source": []
  }
 ],
 "metadata": {
  "kaggle": {
   "accelerator": "none",
   "dataSources": [
    {
     "datasetId": 2699295,
     "sourceId": 4642886,
     "sourceType": "datasetVersion"
    }
   ],
   "dockerImageVersionId": 30786,
   "isGpuEnabled": false,
   "isInternetEnabled": false,
   "language": "python",
   "sourceType": "notebook"
  },
  "kernelspec": {
   "display_name": "Python 3 (ipykernel)",
   "language": "python",
   "name": "python3"
  },
  "language_info": {
   "codemirror_mode": {
    "name": "ipython",
    "version": 3
   },
   "file_extension": ".py",
   "mimetype": "text/x-python",
   "name": "python",
   "nbconvert_exporter": "python",
   "pygments_lexer": "ipython3",
   "version": "3.11.9"
  }
 },
 "nbformat": 4,
 "nbformat_minor": 4
}
