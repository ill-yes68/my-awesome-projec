{
 "cells": [
  {
   "cell_type": "markdown",
   "metadata": {},
   "source": [
    "# **E-Commerce Sales EDA**"
   ]
  },
  {
   "cell_type": "markdown",
   "metadata": {},
   "source": [
    "<img height=1000 width=1000 src=\"https://miro.medium.com/v2/resize:fit:1200/1*PfTAHr5JUiVc4fhrqtcHLA.jpeg\" />"
   ]
  },
  {
   "cell_type": "code",
   "execution_count": 9,
   "metadata": {
    "_cell_guid": "b1076dfc-b9ad-4769-8c92-a6c4dae69d19",
    "_uuid": "8f2839f25d086af736a60e9eeb907d3b93b6e0e5"
   },
   "outputs": [
    {
     "name": "stdout",
     "output_type": "stream",
     "text": [
      "./archive\\Amazon Sale Report.csv\n",
      "./archive\\Cloud Warehouse Compersion Chart.csv\n",
      "./archive\\Expense IIGF.csv\n",
      "./archive\\International sale Report.csv\n",
      "./archive\\May-2022.csv\n",
      "./archive\\P  L March 2021.csv\n",
      "./archive\\Sale Report.csv\n"
     ]
    }
   ],
   "source": [
    "# This Python 3 environment comes with many helpful analytics libraries installed\n",
    "# It is defined by the kaggle/python Docker image: https://github.com/kaggle/docker-python\n",
    "# For example, here's several helpful packages to load\n",
    "\n",
    "import numpy as np # linear algebra\n",
    "import pandas as pd # data processing, CSV file I/O (e.g. pd.read_csv)\n",
    "\n",
    "# Input data files are available in the read-only \"../input/\" directory\n",
    "# For example, running this (by clicking run or pressing Shift+Enter) will list all files under the input directory\n",
    "\n",
    "import os\n",
    "\n",
    "# Lister uniquement les fichiers (ignorer les sous-dossiers)\n",
    "fichiers = [f for f in os.listdir('archive') if os.path.isfile(os.path.join(repertoire, f))]\n",
    "\n",
    "# Afficher les fichiers\n",
    "for fichier in fichiers:\n",
    "    print(os.path.join(repertoire, fichier))\n",
    "\n",
    "# You can write up to 20GB to the current directory (/kaggle/working/) that gets preserved as output when you create a version using \"Save & Run All\" \n",
    "# You can also write temporary files to /kaggle/temp/, but they won't be saved outside of the current session"
   ]
  },
  {
   "cell_type": "code",
   "execution_count": null,
   "metadata": {
    "execution": {
     "iopub.execute_input": "2024-10-17T09:50:48.881001Z",
     "iopub.status.busy": "2024-10-17T09:50:48.879909Z",
     "iopub.status.idle": "2024-10-17T09:50:48.887547Z",
     "shell.execute_reply": "2024-10-17T09:50:48.885987Z",
     "shell.execute_reply.started": "2024-10-17T09:50:48.880942Z"
    }
   },
   "outputs": [],
   "source": [
    "import matplotlib.pyplot as plt\n",
    "import seaborn as sns \n",
    "import plotly.express as px\n",
    "import plotly.graph_objects as go\n",
    "import missingno as msno \n",
    "import warnings \n",
    "warnings.filterwarnings(\"ignore\")\n",
    "import holidays\n"
   ]
  },
  {
   "cell_type": "code",
   "execution_count": 12,
   "metadata": {},
   "outputs": [
    {
     "name": "stderr",
     "output_type": "stream",
     "text": [
      "C:\\Users\\illye\\AppData\\Local\\Temp\\ipykernel_7576\\3315121794.py:1: DtypeWarning: Columns (23) have mixed types. Specify dtype option on import or set low_memory=False.\n",
      "  Amazon_df = pd.read_csv(\"./archive\\Amazon Sale Report.csv\")\n"
     ]
    }
   ],
   "source": [
    "Amazon_df = pd.read_csv(\"./archive\\Amazon Sale Report.csv\" , memory=False)\n",
    "Cloud_Warehouse_df = pd.read_csv(\"./archive\\Cloud Warehouse Compersion Chart.csv\") \n",
    "Expense_df = pd.read_csv(\"./archive\\Expense IIGF.csv\")\n",
    "international_sale_report_df = pd.read_csv(\"./archive\\International sale Report.csv\")\n",
    "May2022_df = pd.read_csv(\"./archive\\May-2022.csv\")\n",
    "PLMarch2021_df = pd.read_csv(\"./archive\\P  L March 2021.csv\")\n",
    "Sale_report_df = pd.read_csv(\"./archive\\Sale Report.csv\")"
   ]
  },
  {
   "cell_type": "markdown",
   "metadata": {},
   "source": [
    "# **1. Amazon Sale Report:**\n",
    "* ## Analyze sales trends for products sold on Amazon.\n",
    "* ##  Compare sales performance before and after major holidays or sales events."
   ]
  },
  {
   "cell_type": "code",
   "execution_count": null,
   "metadata": {
    "execution": {
     "iopub.execute_input": "2024-10-17T07:31:39.782202Z",
     "iopub.status.busy": "2024-10-17T07:31:39.781722Z",
     "iopub.status.idle": "2024-10-17T07:31:39.916802Z",
     "shell.execute_reply": "2024-10-17T07:31:39.915715Z",
     "shell.execute_reply.started": "2024-10-17T07:31:39.78215Z"
    }
   },
   "outputs": [],
   "source": [
    "Amazon_df"
   ]
  },
  {
   "cell_type": "code",
   "execution_count": null,
   "metadata": {
    "execution": {
     "iopub.execute_input": "2024-10-17T07:31:39.918694Z",
     "iopub.status.busy": "2024-10-17T07:31:39.918257Z",
     "iopub.status.idle": "2024-10-17T07:31:39.927464Z",
     "shell.execute_reply": "2024-10-17T07:31:39.926224Z",
     "shell.execute_reply.started": "2024-10-17T07:31:39.918648Z"
    }
   },
   "outputs": [],
   "source": [
    "Amazon_df[\"Qty\"]"
   ]
  },
  {
   "cell_type": "code",
   "execution_count": null,
   "metadata": {
    "execution": {
     "iopub.execute_input": "2024-10-17T07:31:39.929706Z",
     "iopub.status.busy": "2024-10-17T07:31:39.929231Z",
     "iopub.status.idle": "2024-10-17T07:31:39.938154Z",
     "shell.execute_reply": "2024-10-17T07:31:39.936893Z",
     "shell.execute_reply.started": "2024-10-17T07:31:39.929612Z"
    }
   },
   "outputs": [],
   "source": [
    "Amazon_df.columns"
   ]
  },
  {
   "cell_type": "code",
   "execution_count": null,
   "metadata": {
    "execution": {
     "iopub.execute_input": "2024-10-17T07:31:39.94022Z",
     "iopub.status.busy": "2024-10-17T07:31:39.939708Z",
     "iopub.status.idle": "2024-10-17T07:31:40.072192Z",
     "shell.execute_reply": "2024-10-17T07:31:40.071032Z",
     "shell.execute_reply.started": "2024-10-17T07:31:39.94017Z"
    }
   },
   "outputs": [],
   "source": [
    "Amazon_df.info()"
   ]
  },
  {
   "cell_type": "code",
   "execution_count": null,
   "metadata": {
    "execution": {
     "iopub.execute_input": "2024-10-17T07:31:40.073817Z",
     "iopub.status.busy": "2024-10-17T07:31:40.073495Z",
     "iopub.status.idle": "2024-10-17T07:31:40.125157Z",
     "shell.execute_reply": "2024-10-17T07:31:40.123771Z",
     "shell.execute_reply.started": "2024-10-17T07:31:40.073783Z"
    }
   },
   "outputs": [],
   "source": [
    "Amazon_df['Date'] = pd.to_datetime(Amazon_df['Date'])\n",
    "daily_sales = Amazon_df.groupby('Date').agg(total_qty=('Qty', 'sum'), total_amount=('Amount', 'sum')).reset_index()\n",
    "daily_sales"
   ]
  },
  {
   "cell_type": "code",
   "execution_count": null,
   "metadata": {
    "execution": {
     "iopub.execute_input": "2024-10-17T07:31:40.127076Z",
     "iopub.status.busy": "2024-10-17T07:31:40.126714Z",
     "iopub.status.idle": "2024-10-17T07:31:40.539482Z",
     "shell.execute_reply": "2024-10-17T07:31:40.538251Z",
     "shell.execute_reply.started": "2024-10-17T07:31:40.127039Z"
    }
   },
   "outputs": [],
   "source": [
    "plt.figure(figsize=(10, 5))\n",
    "sns.lineplot(data=daily_sales, x='Date', y='total_qty', label='Total Quantity Sold', color='blue', linewidth=2)\n",
    "\n",
    "\n",
    "plt.title('Sales Trends Over Time')\n",
    "plt.xlabel('Date')\n",
    "plt.ylabel('Sales')\n",
    "plt.xticks(rotation=45)  \n",
    "plt.legend()\n",
    "plt.grid(True)\n",
    "plt.show()"
   ]
  },
  {
   "cell_type": "code",
   "execution_count": null,
   "metadata": {
    "execution": {
     "iopub.execute_input": "2024-10-17T07:31:40.544456Z",
     "iopub.status.busy": "2024-10-17T07:31:40.544012Z",
     "iopub.status.idle": "2024-10-17T07:31:40.937151Z",
     "shell.execute_reply": "2024-10-17T07:31:40.936119Z",
     "shell.execute_reply.started": "2024-10-17T07:31:40.544415Z"
    }
   },
   "outputs": [],
   "source": [
    "plt.figure(figsize=(10, 5))\n",
    "sns.lineplot(data=daily_sales, x='Date', y='total_amount', label='Total Sales Amount ($)', color='orange', linewidth=2)\n",
    "plt.title('Sales Trends Over Time')\n",
    "plt.xlabel('Date')\n",
    "plt.ylabel('Sales')\n",
    "plt.xticks(rotation=45)  \n",
    "plt.legend()\n",
    "plt.grid(True)\n",
    "plt.show()\n"
   ]
  },
  {
   "cell_type": "code",
   "execution_count": null,
   "metadata": {
    "execution": {
     "iopub.execute_input": "2024-10-17T07:31:40.938892Z",
     "iopub.status.busy": "2024-10-17T07:31:40.938533Z",
     "iopub.status.idle": "2024-10-17T07:31:41.268368Z",
     "shell.execute_reply": "2024-10-17T07:31:41.267106Z",
     "shell.execute_reply.started": "2024-10-17T07:31:40.938857Z"
    }
   },
   "outputs": [],
   "source": [
    "us_holidays = holidays.US(years=[2022, 2023])\n",
    "Amazon_df['Is_Holiday'] = Amazon_df['Date'].isin(us_holidays)\n",
    "Amazon_df['Day_of_Week'] = Amazon_df['Date'].dt.day_name()\n",
    "Amazon_df"
   ]
  },
  {
   "cell_type": "code",
   "execution_count": null,
   "metadata": {
    "execution": {
     "iopub.execute_input": "2024-10-17T07:31:41.270809Z",
     "iopub.status.busy": "2024-10-17T07:31:41.27001Z",
     "iopub.status.idle": "2024-10-17T07:31:41.846728Z",
     "shell.execute_reply": "2024-10-17T07:31:41.845669Z",
     "shell.execute_reply.started": "2024-10-17T07:31:41.270758Z"
    }
   },
   "outputs": [],
   "source": [
    "us_holidays = holidays.US(years=[2022, 2023])\n",
    "Amazon_df['Is_Holiday'] = Amazon_df['Date'].apply(lambda x: x.date() in us_holidays)\n",
    "\n",
    "def categorize_sales(date):\n",
    "    if date.date() in us_holidays:\n",
    "        return 'Holiday'\n",
    "    elif date.date() < min(us_holidays.keys()):\n",
    "        return 'Before Holiday'\n",
    "    else:\n",
    "        return 'After Holiday'"
   ]
  },
  {
   "cell_type": "code",
   "execution_count": null,
   "metadata": {
    "execution": {
     "iopub.execute_input": "2024-10-17T07:31:41.848344Z",
     "iopub.status.busy": "2024-10-17T07:31:41.848016Z",
     "iopub.status.idle": "2024-10-17T07:31:42.947111Z",
     "shell.execute_reply": "2024-10-17T07:31:42.946013Z",
     "shell.execute_reply.started": "2024-10-17T07:31:41.848311Z"
    }
   },
   "outputs": [],
   "source": [
    "Amazon_df['Holiday_Status'] = Amazon_df['Date'].apply(categorize_sales)\n",
    "\n",
    "sales_by_holiday = Amazon_df.groupby('Holiday_Status').agg(total_qty=('Qty', 'sum'),total_amount=('Amount', 'sum')).reset_index()\n",
    "\n",
    "\n",
    "fig = px.bar(sales_by_holiday, x='Holiday_Status', y=['total_qty', 'total_amount'], \n",
    "             title='Sales Performance Before, During, and After Holidays',\n",
    "             labels={'value': 'Sales', 'Holiday_Status': 'Holiday Status'},\n",
    "             barmode='group', height=600)\n",
    "\n",
    "# Show the plot\n",
    "fig.show()"
   ]
  },
  {
   "cell_type": "code",
   "execution_count": null,
   "metadata": {
    "execution": {
     "iopub.execute_input": "2024-10-17T07:45:21.788859Z",
     "iopub.status.busy": "2024-10-17T07:45:21.788264Z",
     "iopub.status.idle": "2024-10-17T07:45:21.908738Z",
     "shell.execute_reply": "2024-10-17T07:45:21.907317Z",
     "shell.execute_reply.started": "2024-10-17T07:45:21.788765Z"
    }
   },
   "outputs": [],
   "source": [
    "IQR = Amazon_df['Amount'].quantile(0.75) - Amazon_df['Amount'].quantile(0.25)\n",
    "1.5*IQR\n",
    "upper_bound = Amazon_df['Amount'].quantile(0.75) + 1.5*IQR   \n",
    "lower_bound = Amazon_df['Amount'].quantile(0.25) - 1.5*IQR \n",
    "\n",
    "Median = Amazon_df['Amount'].median()\n",
    "Amazon_df['Amount'] = Amazon_df['Amount'].apply(lambda x: Median if x > upper_bound  or x < lower_bound else x) \n",
    "Amazon_df['Amount'] = Amazon_df['Amount'].apply(lambda x: Median if x == 0 else x) "
   ]
  },
  {
   "cell_type": "code",
   "execution_count": null,
   "metadata": {
    "execution": {
     "iopub.execute_input": "2024-10-17T07:45:32.428275Z",
     "iopub.status.busy": "2024-10-17T07:45:32.427764Z",
     "iopub.status.idle": "2024-10-17T07:45:33.474938Z",
     "shell.execute_reply": "2024-10-17T07:45:33.473734Z",
     "shell.execute_reply.started": "2024-10-17T07:45:32.428231Z"
    }
   },
   "outputs": [],
   "source": [
    "fig, my_ax = plt.subplots(figsize=(8,5))\n",
    "\n",
    "sns.histplot(data = Amazon_df['Amount'], ax=my_ax, binwidth=100, kde=True)\n",
    "plt.grid(linestyle='--',color='#000000')\n",
    "plt.title(\"Distribution of Sales Amount across Count of Orders\")\n",
    "plt.tight_layout()"
   ]
  },
  {
   "cell_type": "code",
   "execution_count": null,
   "metadata": {
    "execution": {
     "iopub.execute_input": "2024-10-17T07:46:42.000593Z",
     "iopub.status.busy": "2024-10-17T07:46:41.999919Z",
     "iopub.status.idle": "2024-10-17T07:46:42.027361Z",
     "shell.execute_reply": "2024-10-17T07:46:42.026078Z",
     "shell.execute_reply.started": "2024-10-17T07:46:42.000539Z"
    }
   },
   "outputs": [],
   "source": [
    "Top5_Trending_product=Amazon_df.groupby('Category')['Amount'].sum().to_frame().sort_values(by=['Amount'],ascending=False).head(5)\n",
    "Top5_Trending_product"
   ]
  },
  {
   "cell_type": "code",
   "execution_count": null,
   "metadata": {
    "execution": {
     "iopub.execute_input": "2024-10-17T07:48:00.140405Z",
     "iopub.status.busy": "2024-10-17T07:48:00.139853Z",
     "iopub.status.idle": "2024-10-17T07:48:00.520287Z",
     "shell.execute_reply": "2024-10-17T07:48:00.519112Z",
     "shell.execute_reply.started": "2024-10-17T07:48:00.140335Z"
    }
   },
   "outputs": [],
   "source": [
    "Top5_Trending_product.plot(kind='bar',color='#b01919')\n",
    "plt.title('Total Amount by Category', fontsize=18, weight='bold')\n",
    "plt.ylabel('Total Amount (in millions)', fontsize=14)\n",
    "plt.grid(True, axis='y', linestyle='--', alpha=0.7)\n",
    "plt.xticks(rotation=45, ha=\"right\")\n",
    "plt.legend()\n",
    "plt.tight_layout()\n",
    "plt.show()"
   ]
  },
  {
   "cell_type": "markdown",
   "metadata": {},
   "source": [
    "# **2. Cloud Warehouse Comparison:**\n",
    "* ##  Compare inventory levels and sales data across different cloud warehouses.\n",
    "* ##  Identify the most efficient warehouse in terms of sales turnover and inventory management."
   ]
  },
  {
   "cell_type": "code",
   "execution_count": null,
   "metadata": {
    "execution": {
     "iopub.execute_input": "2024-10-17T07:31:42.949706Z",
     "iopub.status.busy": "2024-10-17T07:31:42.948872Z",
     "iopub.status.idle": "2024-10-17T07:31:42.963272Z",
     "shell.execute_reply": "2024-10-17T07:31:42.961831Z",
     "shell.execute_reply.started": "2024-10-17T07:31:42.949664Z"
    }
   },
   "outputs": [],
   "source": [
    "Cloud_Warehouse_df.head(10)"
   ]
  },
  {
   "cell_type": "code",
   "execution_count": null,
   "metadata": {
    "execution": {
     "iopub.execute_input": "2024-10-17T07:31:42.965781Z",
     "iopub.status.busy": "2024-10-17T07:31:42.965169Z",
     "iopub.status.idle": "2024-10-17T07:31:42.977353Z",
     "shell.execute_reply": "2024-10-17T07:31:42.975927Z",
     "shell.execute_reply.started": "2024-10-17T07:31:42.965726Z"
    }
   },
   "outputs": [],
   "source": [
    "Cloud_Warehouse_df.columns"
   ]
  },
  {
   "cell_type": "code",
   "execution_count": null,
   "metadata": {
    "execution": {
     "iopub.execute_input": "2024-10-17T07:31:42.979405Z",
     "iopub.status.busy": "2024-10-17T07:31:42.978947Z",
     "iopub.status.idle": "2024-10-17T07:31:42.993168Z",
     "shell.execute_reply": "2024-10-17T07:31:42.991724Z",
     "shell.execute_reply.started": "2024-10-17T07:31:42.979337Z"
    }
   },
   "outputs": [],
   "source": [
    "Cloud_Warehouse_df.info()"
   ]
  },
  {
   "cell_type": "code",
   "execution_count": null,
   "metadata": {
    "execution": {
     "iopub.execute_input": "2024-10-17T07:31:42.995962Z",
     "iopub.status.busy": "2024-10-17T07:31:42.994931Z",
     "iopub.status.idle": "2024-10-17T07:31:43.018661Z",
     "shell.execute_reply": "2024-10-17T07:31:43.017353Z",
     "shell.execute_reply.started": "2024-10-17T07:31:42.995907Z"
    }
   },
   "outputs": [],
   "source": [
    "# Clean price and sales columns, converting them to numeric\n",
    "Cloud_Warehouse_df['Price'] = pd.to_numeric(Cloud_Warehouse_df['Unnamed: 1'].str.replace('₹', '').str.extract('(\\d+\\.\\d+|\\d+)')[0], errors='coerce')\n",
    "Cloud_Warehouse_df['Sales'] = pd.to_numeric(Cloud_Warehouse_df['INCREFF'].str.extract('(\\d+\\.\\d+|\\d+)')[0], errors='coerce')\n",
    "\n",
    "filtered_df = Cloud_Warehouse_df.dropna(subset=['Price', 'Sales'], how='all').reset_index(drop=True)\n",
    "filtered_df.info()"
   ]
  },
  {
   "cell_type": "code",
   "execution_count": null,
   "metadata": {
    "execution": {
     "iopub.execute_input": "2024-10-17T07:31:43.020154Z",
     "iopub.status.busy": "2024-10-17T07:31:43.0198Z",
     "iopub.status.idle": "2024-10-17T07:31:43.041831Z",
     "shell.execute_reply": "2024-10-17T07:31:43.040715Z",
     "shell.execute_reply.started": "2024-10-17T07:31:43.020118Z"
    }
   },
   "outputs": [],
   "source": [
    "# Group the filtered data to calculate inventory and sales totals\n",
    "summary = filtered_df.groupby('Shiprocket').agg(total_inventory_value=('Price', 'sum'),total_sales=('Sales', 'sum')).reset_index()\n",
    "print(summary)"
   ]
  },
  {
   "cell_type": "code",
   "execution_count": null,
   "metadata": {
    "execution": {
     "iopub.execute_input": "2024-10-17T07:31:43.043507Z",
     "iopub.status.busy": "2024-10-17T07:31:43.043112Z",
     "iopub.status.idle": "2024-10-17T07:31:43.641613Z",
     "shell.execute_reply": "2024-10-17T07:31:43.640315Z",
     "shell.execute_reply.started": "2024-10-17T07:31:43.043462Z"
    }
   },
   "outputs": [],
   "source": [
    "plt.figure(figsize=(10, 6))\n",
    "\n",
    "sns.barplot(x='Shiprocket', y='total_inventory_value', data=summary, color='orange', label='Inventory Value (₹)')\n",
    "sns.barplot(x='Shiprocket', y='total_sales', data=summary, color='blue', label='Sales (Units)')\n",
    "plt.title('Inventory Levels and Sales Across Warehouses/Processes')\n",
    "plt.ylabel('Total Value/Units')\n",
    "plt.xlabel('Warehouse/Process')\n",
    "plt.xticks(rotation=45)\n",
    "plt.legend()\n",
    "plt.tight_layout()\n",
    "plt.show()"
   ]
  },
  {
   "cell_type": "code",
   "execution_count": null,
   "metadata": {
    "execution": {
     "iopub.execute_input": "2024-10-17T07:31:43.643706Z",
     "iopub.status.busy": "2024-10-17T07:31:43.643229Z",
     "iopub.status.idle": "2024-10-17T07:31:43.653463Z",
     "shell.execute_reply": "2024-10-17T07:31:43.652088Z",
     "shell.execute_reply.started": "2024-10-17T07:31:43.643658Z"
    }
   },
   "outputs": [],
   "source": [
    "summary['turnover_ratio'] = summary['total_sales'] / summary['total_inventory_value']\n",
    "\n",
    "\n",
    "most_efficient = summary.loc[summary['turnover_ratio'].idxmax()]\n",
    "print(\"Most Efficient Warehouse/Process:\")\n",
    "print(most_efficient)"
   ]
  },
  {
   "cell_type": "markdown",
   "metadata": {},
   "source": [
    "# **Expense IIGF:**\n",
    "* #  Analyze monthly expenses related to inventory, infrastructure, and general facilities.\n",
    "* #  Create visualizations to identify trends and suggest areas for cost reduction."
   ]
  },
  {
   "cell_type": "code",
   "execution_count": null,
   "metadata": {
    "execution": {
     "iopub.execute_input": "2024-10-17T07:31:43.655476Z",
     "iopub.status.busy": "2024-10-17T07:31:43.655081Z",
     "iopub.status.idle": "2024-10-17T07:31:43.672333Z",
     "shell.execute_reply": "2024-10-17T07:31:43.671103Z",
     "shell.execute_reply.started": "2024-10-17T07:31:43.655438Z"
    }
   },
   "outputs": [],
   "source": [
    "Expense_df.head(10)"
   ]
  },
  {
   "cell_type": "code",
   "execution_count": null,
   "metadata": {
    "execution": {
     "iopub.execute_input": "2024-10-17T07:31:43.674138Z",
     "iopub.status.busy": "2024-10-17T07:31:43.673774Z",
     "iopub.status.idle": "2024-10-17T07:31:43.686189Z",
     "shell.execute_reply": "2024-10-17T07:31:43.685164Z",
     "shell.execute_reply.started": "2024-10-17T07:31:43.674102Z"
    }
   },
   "outputs": [],
   "source": [
    "Expense_df.info()"
   ]
  },
  {
   "cell_type": "markdown",
   "metadata": {},
   "source": [
    "# **International Sale Report:**\n",
    "* ## Compare international sales data across different regions.\n",
    "* ##  Identify the top-performing countries in terms of sales volume and revenue."
   ]
  },
  {
   "cell_type": "code",
   "execution_count": null,
   "metadata": {
    "execution": {
     "iopub.execute_input": "2024-10-17T07:50:34.841484Z",
     "iopub.status.busy": "2024-10-17T07:50:34.840869Z",
     "iopub.status.idle": "2024-10-17T07:50:34.861988Z",
     "shell.execute_reply": "2024-10-17T07:50:34.860607Z",
     "shell.execute_reply.started": "2024-10-17T07:50:34.841431Z"
    }
   },
   "outputs": [],
   "source": [
    "international_sale_report_df"
   ]
  },
  {
   "cell_type": "code",
   "execution_count": null,
   "metadata": {
    "execution": {
     "iopub.execute_input": "2024-10-17T07:50:42.837401Z",
     "iopub.status.busy": "2024-10-17T07:50:42.836872Z",
     "iopub.status.idle": "2024-10-17T07:50:42.87009Z",
     "shell.execute_reply": "2024-10-17T07:50:42.868638Z",
     "shell.execute_reply.started": "2024-10-17T07:50:42.837341Z"
    }
   },
   "outputs": [],
   "source": [
    "international_sale_report_df.info()"
   ]
  },
  {
   "cell_type": "code",
   "execution_count": null,
   "metadata": {
    "execution": {
     "iopub.execute_input": "2024-10-17T07:53:04.415302Z",
     "iopub.status.busy": "2024-10-17T07:53:04.414188Z",
     "iopub.status.idle": "2024-10-17T07:53:04.470676Z",
     "shell.execute_reply": "2024-10-17T07:53:04.469441Z",
     "shell.execute_reply.started": "2024-10-17T07:53:04.415251Z"
    }
   },
   "outputs": [],
   "source": [
    "# Convert necessary columns to numeric (coerce errors to handle invalid numbers)\n",
    "international_sale_report_df['RATE'] = pd.to_numeric(international_sale_report_df['RATE'], errors='coerce')\n",
    "international_sale_report_df['PCS'] = pd.to_numeric(international_sale_report_df['PCS'], errors='coerce')\n",
    "international_sale_report_df['GROSS AMT'] = pd.to_numeric(international_sale_report_df['GROSS AMT'], errors='coerce')\n",
    "\n",
    "# Remove rows where essential columns (like GROSS AMT or PCS) are missing\n",
    "cleaned_sales_df = international_sale_report_df.dropna(subset=['RATE', 'PCS', 'GROSS AMT'])"
   ]
  },
  {
   "cell_type": "code",
   "execution_count": null,
   "metadata": {
    "execution": {
     "iopub.execute_input": "2024-10-17T07:53:14.150656Z",
     "iopub.status.busy": "2024-10-17T07:53:14.150211Z",
     "iopub.status.idle": "2024-10-17T07:53:14.171178Z",
     "shell.execute_reply": "2024-10-17T07:53:14.169524Z",
     "shell.execute_reply.started": "2024-10-17T07:53:14.150618Z"
    }
   },
   "outputs": [],
   "source": [
    "# Group by 'CUSTOMER' (assuming this is the region or country column)\n",
    "sales_summary = cleaned_sales_df.groupby('CUSTOMER').agg(total_pcs_sold=('PCS', 'sum'), total_revenue=('GROSS AMT', 'sum')).reset_index()\n",
    "\n",
    "# Sort by total revenue to get top-performing countries\n",
    "top_countries = sales_summary.sort_values(by='total_revenue', ascending=False)"
   ]
  },
  {
   "cell_type": "code",
   "execution_count": null,
   "metadata": {
    "execution": {
     "iopub.execute_input": "2024-10-17T07:53:29.05751Z",
     "iopub.status.busy": "2024-10-17T07:53:29.057051Z",
     "iopub.status.idle": "2024-10-17T07:53:30.156006Z",
     "shell.execute_reply": "2024-10-17T07:53:30.154659Z",
     "shell.execute_reply.started": "2024-10-17T07:53:29.057466Z"
    }
   },
   "outputs": [],
   "source": [
    "plt.figure(figsize=(12, 6))\n",
    "plt.bar(top_countries['CUSTOMER'][:10], top_countries['total_revenue'][:10], color='skyblue')\n",
    "plt.title('Top 10 Regions by Total Revenue')\n",
    "plt.xlabel('Country')\n",
    "plt.ylabel('Total Revenue (₹)')\n",
    "plt.xticks(rotation=45)\n",
    "plt.tight_layout()\n",
    "plt.show()\n",
    "\n",
    "plt.figure(figsize=(12, 6))\n",
    "plt.bar(top_countries['CUSTOMER'][:10], top_countries['total_pcs_sold'][:10], color='lightgreen')\n",
    "plt.title('Top 10 Regions by Sales Volume')\n",
    "plt.xlabel('Country')\n",
    "plt.ylabel('Total Pieces Sold')\n",
    "plt.xticks(rotation=45)\n",
    "plt.tight_layout()\n",
    "plt.show()"
   ]
  },
  {
   "cell_type": "markdown",
   "metadata": {},
   "source": [
    "#  **May-2022:**\n",
    "* ##  Perform a detailed analysis of sales transactions for May 2022.\n",
    "* ##  Compare with data from other months to identify seasonal trends or anomalies."
   ]
  },
  {
   "cell_type": "code",
   "execution_count": null,
   "metadata": {
    "execution": {
     "iopub.execute_input": "2024-10-17T07:56:50.547964Z",
     "iopub.status.busy": "2024-10-17T07:56:50.547432Z",
     "iopub.status.idle": "2024-10-17T07:56:50.571229Z",
     "shell.execute_reply": "2024-10-17T07:56:50.56993Z",
     "shell.execute_reply.started": "2024-10-17T07:56:50.547924Z"
    }
   },
   "outputs": [],
   "source": [
    "May2022_df"
   ]
  },
  {
   "cell_type": "code",
   "execution_count": null,
   "metadata": {
    "execution": {
     "iopub.execute_input": "2024-10-17T07:57:05.047875Z",
     "iopub.status.busy": "2024-10-17T07:57:05.04744Z",
     "iopub.status.idle": "2024-10-17T07:57:05.062204Z",
     "shell.execute_reply": "2024-10-17T07:57:05.060776Z",
     "shell.execute_reply.started": "2024-10-17T07:57:05.047833Z"
    }
   },
   "outputs": [],
   "source": [
    "May2022_df.info()"
   ]
  },
  {
   "cell_type": "code",
   "execution_count": null,
   "metadata": {
    "execution": {
     "iopub.execute_input": "2024-10-17T08:22:30.792483Z",
     "iopub.status.busy": "2024-10-17T08:22:30.792015Z",
     "iopub.status.idle": "2024-10-17T08:22:30.802083Z",
     "shell.execute_reply": "2024-10-17T08:22:30.800777Z",
     "shell.execute_reply.started": "2024-10-17T08:22:30.792439Z"
    }
   },
   "outputs": [],
   "source": [
    "# Clean the data\n",
    "May2022_df[\"Weight\"] = pd.to_numeric(May2022_df[\"Weight\"], errors=\"coerce\")\n",
    "May2022_df[\"Final MRP Old\"] = pd.to_numeric(May2022_df[\"Final MRP Old\"], errors=\"coerce\")\n",
    "May2022_df.dropna(subset=[\"Weight\", \"Final MRP Old\"], inplace=True)"
   ]
  },
  {
   "cell_type": "code",
   "execution_count": null,
   "metadata": {
    "execution": {
     "iopub.execute_input": "2024-10-17T08:22:55.263325Z",
     "iopub.status.busy": "2024-10-17T08:22:55.262881Z",
     "iopub.status.idle": "2024-10-17T08:22:55.273614Z",
     "shell.execute_reply": "2024-10-17T08:22:55.272472Z",
     "shell.execute_reply.started": "2024-10-17T08:22:55.263284Z"
    }
   },
   "outputs": [],
   "source": [
    "# Sales Volume\n",
    "sales_volume = May2022_df.groupby(\"Category\")[\"Weight\"].sum()\n",
    "\n",
    "# Revenue Analysis\n",
    "May2022_df[\"Total_Revenue\"] = May2022_df[\"Weight\"] * May2022_df[\"Final MRP Old\"]\n",
    "revenue_by_platform = May2022_df.groupby(\"Amazon FBA MRP\")[\"Total_Revenue\"].sum()"
   ]
  },
  {
   "cell_type": "code",
   "execution_count": null,
   "metadata": {
    "execution": {
     "iopub.execute_input": "2024-10-17T08:24:43.862165Z",
     "iopub.status.busy": "2024-10-17T08:24:43.861566Z",
     "iopub.status.idle": "2024-10-17T08:24:43.880581Z",
     "shell.execute_reply": "2024-10-17T08:24:43.878709Z",
     "shell.execute_reply.started": "2024-10-17T08:24:43.862114Z"
    }
   },
   "outputs": [],
   "source": [
    "# Average Selling Price\n",
    "avg_selling_price = May2022_df[\"Final MRP Old\"] / May2022_df[\"Weight\"]\n",
    "\n",
    "# Customer Behavior\n",
    "customer_behavior = May2022_df.groupby(\"Style Id\")[\"Total_Revenue\"].agg([\"sum\", \"count\"])\n",
    "\n",
    "# Product Performance\n",
    "product_performance = May2022_df.groupby([\"Sku\", \"Style Id\"])[\"Weight\"].sum().sort_values(ascending=False)"
   ]
  },
  {
   "cell_type": "code",
   "execution_count": null,
   "metadata": {
    "execution": {
     "iopub.execute_input": "2024-10-17T08:25:11.540293Z",
     "iopub.status.busy": "2024-10-17T08:25:11.539808Z",
     "iopub.status.idle": "2024-10-17T08:25:11.737303Z",
     "shell.execute_reply": "2024-10-17T08:25:11.736078Z",
     "shell.execute_reply.started": "2024-10-17T08:25:11.540254Z"
    }
   },
   "outputs": [],
   "source": [
    "# Sales Volume\n",
    "plt.figure(figsize=(10, 6))\n",
    "sns.barplot(x=sales_volume.index, y=sales_volume.values)\n",
    "plt.title(\"Sales Volume by Category\")\n",
    "plt.show()"
   ]
  },
  {
   "cell_type": "code",
   "execution_count": null,
   "metadata": {
    "execution": {
     "iopub.execute_input": "2024-10-17T08:26:45.734488Z",
     "iopub.status.busy": "2024-10-17T08:26:45.733775Z",
     "iopub.status.idle": "2024-10-17T08:26:46.301335Z",
     "shell.execute_reply": "2024-10-17T08:26:46.300015Z",
     "shell.execute_reply.started": "2024-10-17T08:26:45.734426Z"
    }
   },
   "outputs": [],
   "source": [
    "# Revenue by Platform\n",
    "plt.figure(figsize=(18, 6))\n",
    "sns.barplot(x=revenue_by_platform.index, y=revenue_by_platform.values)\n",
    "plt.title(\"Revenue by Amazon FBA MRP\")\n",
    "plt.show()"
   ]
  },
  {
   "cell_type": "code",
   "execution_count": null,
   "metadata": {
    "execution": {
     "iopub.execute_input": "2024-10-17T08:25:24.837458Z",
     "iopub.status.busy": "2024-10-17T08:25:24.836344Z",
     "iopub.status.idle": "2024-10-17T08:25:25.185072Z",
     "shell.execute_reply": "2024-10-17T08:25:25.183817Z",
     "shell.execute_reply.started": "2024-10-17T08:25:24.837396Z"
    }
   },
   "outputs": [],
   "source": [
    "# Average Selling Price\n",
    "plt.figure(figsize=(10, 6))\n",
    "sns.histplot(avg_selling_price)\n",
    "plt.title(\"Average Selling Price\")\n",
    "plt.show()"
   ]
  },
  {
   "cell_type": "code",
   "execution_count": null,
   "metadata": {
    "execution": {
     "iopub.execute_input": "2024-10-17T08:25:51.214422Z",
     "iopub.status.busy": "2024-10-17T08:25:51.21326Z",
     "iopub.status.idle": "2024-10-17T08:25:52.105203Z",
     "shell.execute_reply": "2024-10-17T08:25:52.104079Z",
     "shell.execute_reply.started": "2024-10-17T08:25:51.21435Z"
    }
   },
   "outputs": [],
   "source": [
    "# Customer Behavior\n",
    "plt.figure(figsize=(10, 6))\n",
    "sns.lineplot(x=customer_behavior[\"sum\"], y=customer_behavior[\"count\"])\n",
    "plt.title(\"Customer Behavior: Total Revenue vs. Purchase Frequency\")\n",
    "plt.show()"
   ]
  },
  {
   "cell_type": "markdown",
   "metadata": {},
   "source": [
    "# **PL March 2021.csv:**\n",
    "* ##  Conduct a profit and loss analysis for March 2021.\n",
    "\n",
    "* ##  Correlate the profit margins with specific sales campaigns or product launches during that period."
   ]
  },
  {
   "cell_type": "code",
   "execution_count": null,
   "metadata": {
    "execution": {
     "iopub.execute_input": "2024-10-17T08:32:34.936164Z",
     "iopub.status.busy": "2024-10-17T08:32:34.935685Z",
     "iopub.status.idle": "2024-10-17T08:32:34.959264Z",
     "shell.execute_reply": "2024-10-17T08:32:34.95803Z",
     "shell.execute_reply.started": "2024-10-17T08:32:34.936123Z"
    }
   },
   "outputs": [],
   "source": [
    "PLMarch2021_df"
   ]
  },
  {
   "cell_type": "code",
   "execution_count": null,
   "metadata": {
    "execution": {
     "iopub.execute_input": "2024-10-17T08:32:45.265499Z",
     "iopub.status.busy": "2024-10-17T08:32:45.265055Z",
     "iopub.status.idle": "2024-10-17T08:32:45.280627Z",
     "shell.execute_reply": "2024-10-17T08:32:45.279035Z",
     "shell.execute_reply.started": "2024-10-17T08:32:45.265459Z"
    }
   },
   "outputs": [],
   "source": [
    "PLMarch2021_df.info()"
   ]
  },
  {
   "cell_type": "code",
   "execution_count": null,
   "metadata": {
    "execution": {
     "iopub.execute_input": "2024-10-17T08:39:00.30926Z",
     "iopub.status.busy": "2024-10-17T08:39:00.308563Z",
     "iopub.status.idle": "2024-10-17T08:39:00.322892Z",
     "shell.execute_reply": "2024-10-17T08:39:00.321148Z",
     "shell.execute_reply.started": "2024-10-17T08:39:00.309204Z"
    }
   },
   "outputs": [],
   "source": [
    "# Clean the data\n",
    "PLMarch2021_df[\"Weight\"] = pd.to_numeric(PLMarch2021_df[\"Weight\"], errors=\"coerce\")\n",
    "PLMarch2021_df[\"Final MRP Old\"] = pd.to_numeric(PLMarch2021_df[\"Final MRP Old\"], errors=\"coerce\")\n",
    "PLMarch2021_df.dropna(subset=[\"Weight\", \"Final MRP Old\"], inplace=True)"
   ]
  },
  {
   "cell_type": "code",
   "execution_count": null,
   "metadata": {
    "execution": {
     "iopub.execute_input": "2024-10-17T08:48:07.537002Z",
     "iopub.status.busy": "2024-10-17T08:48:07.536552Z",
     "iopub.status.idle": "2024-10-17T08:48:07.544443Z",
     "shell.execute_reply": "2024-10-17T08:48:07.542491Z",
     "shell.execute_reply.started": "2024-10-17T08:48:07.536967Z"
    }
   },
   "outputs": [],
   "source": [
    "revenue_multiplier = 1.5  # Adjust this multiplier based on your business\n",
    "PLMarch2021_df[\"Total_Revenue\"] = PLMarch2021_df[\"Final MRP Old\"] * revenue_multiplier"
   ]
  },
  {
   "cell_type": "code",
   "execution_count": null,
   "metadata": {
    "execution": {
     "iopub.execute_input": "2024-10-17T08:48:09.8025Z",
     "iopub.status.busy": "2024-10-17T08:48:09.802048Z",
     "iopub.status.idle": "2024-10-17T08:48:09.80945Z",
     "shell.execute_reply": "2024-10-17T08:48:09.808168Z",
     "shell.execute_reply.started": "2024-10-17T08:48:09.802457Z"
    }
   },
   "outputs": [],
   "source": [
    "cogs_percentage = 0.6  # Adjust this percentage based on your business\n",
    "PLMarch2021_df[\"COGS\"] = PLMarch2021_df[\"Final MRP Old\"] * cogs_percentage\n",
    "\n",
    "# Calculate profit\n",
    "PLMarch2021_df[\"Profit\"] = PLMarch2021_df[\"Total_Revenue\"] - PLMarch2021_df[\"COGS\"]"
   ]
  },
  {
   "cell_type": "code",
   "execution_count": null,
   "metadata": {
    "execution": {
     "iopub.execute_input": "2024-10-17T08:50:51.795284Z",
     "iopub.status.busy": "2024-10-17T08:50:51.794463Z",
     "iopub.status.idle": "2024-10-17T08:50:51.801769Z",
     "shell.execute_reply": "2024-10-17T08:50:51.800458Z",
     "shell.execute_reply.started": "2024-10-17T08:50:51.795239Z"
    }
   },
   "outputs": [],
   "source": [
    "# Profit and Loss Analysis\n",
    "total_revenue = PLMarch2021_df[\"Total_Revenue\"].sum()\n",
    "total_cost = PLMarch2021_df[\"COGS\"].sum()\n",
    "net_profit = PLMarch2021_df[\"Profit\"].sum()\n",
    "profit_margin = (net_profit / total_revenue) * 100"
   ]
  },
  {
   "cell_type": "code",
   "execution_count": null,
   "metadata": {
    "execution": {
     "iopub.execute_input": "2024-10-17T08:51:34.856441Z",
     "iopub.status.busy": "2024-10-17T08:51:34.85597Z",
     "iopub.status.idle": "2024-10-17T08:51:35.068615Z",
     "shell.execute_reply": "2024-10-17T08:51:35.067471Z",
     "shell.execute_reply.started": "2024-10-17T08:51:34.856397Z"
    }
   },
   "outputs": [],
   "source": [
    "plt.figure(figsize=(10, 6))\n",
    "sns.barplot(x=[\"Total Revenue\", \"Total Cost\", \"Net Profit\"], y=[total_revenue, total_cost, net_profit])\n",
    "plt.title(\"Profit and Loss Statement\")\n",
    "plt.show()\n"
   ]
  },
  {
   "cell_type": "code",
   "execution_count": null,
   "metadata": {
    "execution": {
     "iopub.execute_input": "2024-10-17T09:27:58.671292Z",
     "iopub.status.busy": "2024-10-17T09:27:58.670814Z",
     "iopub.status.idle": "2024-10-17T09:27:58.677486Z",
     "shell.execute_reply": "2024-10-17T09:27:58.676163Z",
     "shell.execute_reply.started": "2024-10-17T09:27:58.67125Z"
    }
   },
   "outputs": [],
   "source": [
    "# Strip whitespace from all column names\n",
    "PLMarch2021_df.columns = PLMarch2021_df.columns.str.strip()\n"
   ]
  },
  {
   "cell_type": "code",
   "execution_count": null,
   "metadata": {
    "execution": {
     "iopub.execute_input": "2024-10-17T09:29:17.062495Z",
     "iopub.status.busy": "2024-10-17T09:29:17.062008Z",
     "iopub.status.idle": "2024-10-17T09:29:17.436454Z",
     "shell.execute_reply": "2024-10-17T09:29:17.435365Z",
     "shell.execute_reply.started": "2024-10-17T09:29:17.062453Z"
    }
   },
   "outputs": [],
   "source": [
    "PLMarch2021_df['Final MRP Old'] = pd.to_numeric(PLMarch2021_df['Final MRP Old'], errors='coerce')\n",
    "PLMarch2021_df['MRP Old'] = pd.to_numeric(PLMarch2021_df['MRP Old'], errors='coerce')\n",
    "\n",
    "# Step 1: Profit/Loss Calculation (Profit = Final MRP - MRP Old)\n",
    "PLMarch2021_df['Profit/Loss'] = PLMarch2021_df['Final MRP Old'] - PLMarch2021_df['MRP Old']\n",
    "total_profit_loss = PLMarch2021_df['Profit/Loss'].sum()\n",
    "print(f\"Total Profit/Loss for March 2021: {total_profit_loss}\")\n",
    "\n",
    "plt.figure(figsize=(10, 6))\n",
    "sns.histplot(PLMarch2021_df['Profit/Loss'], bins=30, kde=True, color='blue')\n",
    "plt.title('Profit/Loss Distribution for Products in March 2021')\n",
    "plt.xlabel('Profit/Loss (in currency)')\n",
    "plt.ylabel('Number of Products')\n",
    "plt.grid(True)\n",
    "plt.show()\n"
   ]
  },
  {
   "cell_type": "code",
   "execution_count": null,
   "metadata": {
    "execution": {
     "iopub.execute_input": "2024-10-17T09:29:53.622817Z",
     "iopub.status.busy": "2024-10-17T09:29:53.622298Z",
     "iopub.status.idle": "2024-10-17T09:29:53.881263Z",
     "shell.execute_reply": "2024-10-17T09:29:53.880004Z",
     "shell.execute_reply.started": "2024-10-17T09:29:53.622775Z"
    }
   },
   "outputs": [],
   "source": [
    "plt.figure(figsize=(12, 8))\n",
    "sns.barplot(data=PLMarch2021_df, x='Category', y='Profit/Loss', ci=None, palette='Blues_d')\n",
    "plt.xticks(rotation=90)\n",
    "plt.title('Profit/Loss by Style ID')\n",
    "plt.xlabel('Style ID')\n",
    "plt.ylabel('Profit/Loss')\n",
    "plt.grid(True)\n",
    "plt.show()\n"
   ]
  },
  {
   "cell_type": "markdown",
   "metadata": {},
   "source": [
    "# Sale Report.csv:\n",
    "* #  Conduct an overall sales report analysis.\n",
    "* #  Segment sales by product categories and analyze the sales performance of each category."
   ]
  },
  {
   "cell_type": "code",
   "execution_count": null,
   "metadata": {
    "execution": {
     "iopub.execute_input": "2024-10-17T09:31:43.672795Z",
     "iopub.status.busy": "2024-10-17T09:31:43.672216Z",
     "iopub.status.idle": "2024-10-17T09:31:43.690681Z",
     "shell.execute_reply": "2024-10-17T09:31:43.689401Z",
     "shell.execute_reply.started": "2024-10-17T09:31:43.67275Z"
    }
   },
   "outputs": [],
   "source": [
    "Sale_report_df"
   ]
  },
  {
   "cell_type": "code",
   "execution_count": null,
   "metadata": {
    "execution": {
     "iopub.execute_input": "2024-10-17T09:32:59.809895Z",
     "iopub.status.busy": "2024-10-17T09:32:59.809448Z",
     "iopub.status.idle": "2024-10-17T09:32:59.824978Z",
     "shell.execute_reply": "2024-10-17T09:32:59.823776Z",
     "shell.execute_reply.started": "2024-10-17T09:32:59.809855Z"
    }
   },
   "outputs": [],
   "source": [
    "Sale_report_df.info()"
   ]
  },
  {
   "cell_type": "code",
   "execution_count": null,
   "metadata": {
    "execution": {
     "iopub.execute_input": "2024-10-17T09:45:04.806055Z",
     "iopub.status.busy": "2024-10-17T09:45:04.805559Z",
     "iopub.status.idle": "2024-10-17T09:45:04.817256Z",
     "shell.execute_reply": "2024-10-17T09:45:04.815989Z",
     "shell.execute_reply.started": "2024-10-17T09:45:04.806012Z"
    }
   },
   "outputs": [],
   "source": [
    "Sale_report_df_clean = Sale_report_df.dropna(subset=['SKU Code'])"
   ]
  },
  {
   "cell_type": "code",
   "execution_count": null,
   "metadata": {
    "execution": {
     "iopub.execute_input": "2024-10-17T09:45:06.424469Z",
     "iopub.status.busy": "2024-10-17T09:45:06.423537Z",
     "iopub.status.idle": "2024-10-17T09:45:06.436437Z",
     "shell.execute_reply": "2024-10-17T09:45:06.435324Z",
     "shell.execute_reply.started": "2024-10-17T09:45:06.424422Z"
    }
   },
   "outputs": [],
   "source": [
    "# Calculate total stock by product category\n",
    "total_stock_by_category = Sale_report_df_clean.groupby('Category')['Stock'].sum().reset_index()\n",
    "print(\"Total Stock by Category:\")\n",
    "print(total_stock_by_category)"
   ]
  },
  {
   "cell_type": "code",
   "execution_count": null,
   "metadata": {
    "execution": {
     "iopub.execute_input": "2024-10-17T09:45:32.116218Z",
     "iopub.status.busy": "2024-10-17T09:45:32.114916Z",
     "iopub.status.idle": "2024-10-17T09:45:32.567672Z",
     "shell.execute_reply": "2024-10-17T09:45:32.566095Z",
     "shell.execute_reply.started": "2024-10-17T09:45:32.116156Z"
    }
   },
   "outputs": [],
   "source": [
    "# Step 3: Visualizing the Total Stock by Category\n",
    "plt.figure(figsize=(18, 6))\n",
    "sns.barplot(data=total_stock_by_category, x='Category', y='Stock', palette='Blues_d')\n",
    "plt.title('Total Stock by Product Category')\n",
    "plt.xlabel('Product Category')\n",
    "plt.ylabel('Total Stock')\n",
    "plt.xticks(rotation=45)\n",
    "plt.grid(True)\n",
    "plt.show()"
   ]
  },
  {
   "cell_type": "code",
   "execution_count": null,
   "metadata": {
    "execution": {
     "iopub.execute_input": "2024-10-17T09:46:10.56222Z",
     "iopub.status.busy": "2024-10-17T09:46:10.560899Z",
     "iopub.status.idle": "2024-10-17T09:46:11.193951Z",
     "shell.execute_reply": "2024-10-17T09:46:11.192635Z",
     "shell.execute_reply.started": "2024-10-17T09:46:10.562141Z"
    }
   },
   "outputs": [],
   "source": [
    "# You can also visualize the stock distribution by size within each category\n",
    "\n",
    "plt.figure(figsize=(18, 6))\n",
    "sns.boxplot(data=Sale_report_df_clean, x='Category', y='Stock', palette='coolwarm')\n",
    "plt.title('Stock Distribution by Category')\n",
    "plt.xlabel('Category')\n",
    "plt.ylabel('Stock Levels')\n",
    "plt.xticks(rotation=45)\n",
    "plt.grid(True)\n",
    "plt.show()"
   ]
  },
  {
   "cell_type": "code",
   "execution_count": null,
   "metadata": {
    "execution": {
     "iopub.execute_input": "2024-10-17T09:46:28.744714Z",
     "iopub.status.busy": "2024-10-17T09:46:28.744173Z",
     "iopub.status.idle": "2024-10-17T09:46:28.775Z",
     "shell.execute_reply": "2024-10-17T09:46:28.773452Z",
     "shell.execute_reply.started": "2024-10-17T09:46:28.744665Z"
    }
   },
   "outputs": [],
   "source": [
    "# Step 5: Additional Segmentation by Size and Category\n",
    "stock_by_size_and_category = Sale_report_df_clean.groupby(['Category', 'Size'])['Stock'].sum().unstack().fillna(0)\n",
    "\n",
    "print(\"Stock by Category and Size:\")\n",
    "print(stock_by_size_and_category)"
   ]
  },
  {
   "cell_type": "code",
   "execution_count": null,
   "metadata": {
    "execution": {
     "iopub.execute_input": "2024-10-17T09:51:00.14448Z",
     "iopub.status.busy": "2024-10-17T09:51:00.14389Z",
     "iopub.status.idle": "2024-10-17T09:51:01.049336Z",
     "shell.execute_reply": "2024-10-17T09:51:01.048211Z",
     "shell.execute_reply.started": "2024-10-17T09:51:00.144423Z"
    }
   },
   "outputs": [],
   "source": [
    "# Step 6: Visualizing Stock by Category and Size\n",
    "stock_by_size_and_category.plot(kind='bar', stacked=True, figsize=(18, 6), colormap='viridis')\n",
    "plt.title('Stock by Category and Size')\n",
    "plt.xlabel('Product Category')\n",
    "plt.ylabel('Stock Levels')\n",
    "plt.xticks(rotation=45)\n",
    "plt.legend(title='Size')\n",
    "plt.grid(True)\n",
    "plt.show()"
   ]
  },
  {
   "cell_type": "code",
   "execution_count": null,
   "metadata": {},
   "outputs": [],
   "source": []
  },
  {
   "cell_type": "code",
   "execution_count": null,
   "metadata": {},
   "outputs": [],
   "source": []
  }
 ],
 "metadata": {
  "kaggle": {
   "accelerator": "none",
   "dataSources": [
    {
     "datasetId": 2699295,
     "sourceId": 4642886,
     "sourceType": "datasetVersion"
    }
   ],
   "dockerImageVersionId": 30786,
   "isGpuEnabled": false,
   "isInternetEnabled": false,
   "language": "python",
   "sourceType": "notebook"
  },
  "kernelspec": {
   "display_name": "Python 3 (ipykernel)",
   "language": "python",
   "name": "python3"
  },
  "language_info": {
   "codemirror_mode": {
    "name": "ipython",
    "version": 3
   },
   "file_extension": ".py",
   "mimetype": "text/x-python",
   "name": "python",
   "nbconvert_exporter": "python",
   "pygments_lexer": "ipython3",
   "version": "3.11.9"
  }
 },
 "nbformat": 4,
 "nbformat_minor": 4
}
